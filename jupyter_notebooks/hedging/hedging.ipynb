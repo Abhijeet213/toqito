{
 "cells": [
  {
   "cell_type": "markdown",
   "metadata": {},
   "source": [
    "$$\n",
    "\\newcommand{\\ip}[2]{\\langle #1 , #2\\rangle}\n",
    "\\newcommand{\\setft}[1]{\\mathrm{#1}}\n",
    "\\newcommand{\\Density}{\\setft{D}}\n",
    "\\newcommand{\\Pos}{\\setft{Pos}}\n",
    "\\newcommand{\\Unitary}{\\setft{U}}\n",
    "\\newcommand{\\Herm}{\\setft{Herm}}\n",
    "\\newcommand{\\Lin}{\\setft{L}}\n",
    "\\newcommand{\\X}{\\mathcal{X}}\n",
    "\\newcommand{\\Y}{\\mathcal{Y}}\n",
    "\\newcommand{\\Z}{\\mathcal{Z}}\n",
    "\\newcommand{\\W}{\\mathcal{W}}\n",
    "\\newcommand{\\A}{\\mathcal{A}}\n",
    "\\newcommand{\\B}{\\mathcal{B}}\n",
    "\\newcommand{\\V}{\\mathcal{V}}\n",
    "\\newcommand{\\U}{\\mathcal{U}}\n",
    "\\newcommand{\\C}{\\mathcal{C}}\n",
    "\\newcommand{\\D}{\\mathcal{D}}\n",
    "\\newcommand{\\E}{\\mathcal{E}}\n",
    "\\newcommand{\\F}{\\mathcal{F}}\n",
    "\\newcommand{\\M}{\\mathcal{M}}\n",
    "\\newcommand{\\N}{\\mathcal{N}}\n",
    "\\newcommand{\\R}{\\mathcal{R}}\n",
    "\\newcommand{\\Q}{\\mathcal{Q}}\n",
    "\\renewcommand{\\P}{\\mathcal{P}}\n",
    "\\renewcommand{\\S}{\\mathcal{S}}\n",
    "\\newcommand{\\T}{\\mathcal{T}}\n",
    "\\newcommand{\\K}{\\mathcal{K}}\n",
    "\\renewcommand{\\L}{\\mathcal{L}}\n",
    "\\newcommand{\\tr}{\\operatorname{Tr}}\n",
    "$$\n",
    "\n",
    "$$\n",
    "\\begin{align*}\n",
    "    \\text{maximize:} \\quad & \\ip{Q_a}{X} \\\\\n",
    "    \\text{subject to:} \\quad & \\tr_{\\Y}(X) = B,\\\\\n",
    "    & X \\in \\Pos(\\X)\n",
    "\\end{align*}\n",
    "$$\n",
    "\n"
   ]
  },
  {
   "cell_type": "code",
   "execution_count": null,
   "metadata": {},
   "outputs": [],
   "source": []
  },
  {
   "cell_type": "code",
   "execution_count": null,
   "metadata": {},
   "outputs": [],
   "source": []
  }
 ],
 "metadata": {
  "kernelspec": {
   "display_name": "Python 3",
   "language": "python",
   "name": "python3"
  },
  "language_info": {
   "codemirror_mode": {
    "name": "ipython",
    "version": 3
   },
   "file_extension": ".py",
   "mimetype": "text/x-python",
   "name": "python",
   "nbconvert_exporter": "python",
   "pygments_lexer": "ipython3",
   "version": "3.7.4"
  }
 },
 "nbformat": 4,
 "nbformat_minor": 2
}
