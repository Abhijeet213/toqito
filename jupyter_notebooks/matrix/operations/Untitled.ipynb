{
 "cells": [
  {
   "cell_type": "markdown",
   "metadata": {},
   "source": [
    "$$\n",
    "\\newcommand{\\ip}[2]{\\langle #1 , #2\\rangle}\n",
    "\\newcommand{\\setft}[1]{\\mathrm{#1}}\n",
    "\\newcommand{\\Density}{\\setft{D}}\n",
    "\\newcommand{\\Pos}{\\setft{Pos}}\n",
    "\\newcommand{\\Unitary}{\\setft{U}}\n",
    "\\newcommand{\\Herm}{\\setft{Herm}}\n",
    "\\newcommand{\\Lin}{\\setft{L}}\n",
    "\\newcommand{\\X}{\\mathcal{X}}\n",
    "\\newcommand{\\Y}{\\mathcal{Y}}\n",
    "\\newcommand{\\Z}{\\mathcal{Z}}\n",
    "\\newcommand{\\W}{\\mathcal{W}}\n",
    "\\newcommand{\\A}{\\mathcal{A}}\n",
    "\\newcommand{\\B}{\\mathcal{B}}\n",
    "\\newcommand{\\V}{\\mathcal{V}}\n",
    "\\newcommand{\\U}{\\mathcal{U}}\n",
    "\\newcommand{\\C}{\\mathcal{C}}\n",
    "\\newcommand{\\D}{\\mathcal{D}}\n",
    "\\newcommand{\\E}{\\mathcal{E}}\n",
    "\\newcommand{\\F}{\\mathcal{F}}\n",
    "\\newcommand{\\M}{\\mathcal{M}}\n",
    "\\newcommand{\\N}{\\mathcal{N}}\n",
    "\\newcommand{\\R}{\\mathcal{R}}\n",
    "\\newcommand{\\Q}{\\mathcal{Q}}\n",
    "\\renewcommand{\\P}{\\mathcal{P}}\n",
    "\\renewcommand{\\S}{\\mathcal{S}}\n",
    "\\newcommand{\\T}{\\mathcal{T}}\n",
    "\\newcommand{\\K}{\\mathcal{K}}\n",
    "\\renewcommand{\\L}{\\mathcal{L}}\n",
    "\\newcommand{\\tr}{\\operatorname{Tr}}\n",
    "\\newcommand{\\reg}[1]{\\mathsf{#1}}\n",
    "\\def \\GammaA{\\Gamma_{\\reg{A}}}\n",
    "\\def \\GammaB{\\Gamma_{\\reg{B}}}\n",
    "\\def \\SigmaA{\\Sigma_{\\reg{A}}}\n",
    "\\def \\SigmaB{\\Sigma_{\\reg{B}}}\n",
    "\\def\\I{\\mathds{1}}\n",
    "$$"
   ]
  },
  {
   "cell_type": "markdown",
   "metadata": {},
   "source": [
    "# Vec"
   ]
  },
  {
   "cell_type": "markdown",
   "metadata": {},
   "source": [
    "The vec function is a linear mapping that in essence converts each row to column, and then continually stacks the columns on top of each other. An example is helpful. \n",
    "\n",
    "For instance, for the following matrix:\n",
    "\n",
    "$$\n",
    "X = \n",
    "\\begin{pmatrix}\n",
    "    1 & 2 \\\\\n",
    "    3 & 4 \n",
    "\\end{pmatrix}\n",
    "$$\n",
    "\n",
    "it holds that\n",
    "\n",
    "$$\n",
    "\\text{vec}(X) = \\begin{pmatrix} 1 & 2 & 3 & 4 \\end{pmatrix}^T\n",
    "$$\n",
    "\n",
    "More formally, the vec operation is defined by\n",
    "\n",
    "$$\n",
    "\\text{vec}(E_{a,b}) = e_a \\otimes e_b\n",
    "$$\n",
    "\n",
    "for all $a$ and $b$ where"
   ]
  },
  {
   "cell_type": "markdown",
   "metadata": {},
   "source": [
    "$$\n",
    "E_{a,b}(c,d) = \\begin{cases} \n",
    "                  1 & \\text{if} \\ (c,d) = (a,b) \\\\\n",
    "                  0 & \\text{otherwise}\n",
    "                \\end{cases}\n",
    "$$\n",
    "for all $c$ and $d$ and where\n",
    "\n",
    "$$\n",
    "e_a(b) = \\begin{cases} \n",
    "             1 & \\text{if} \\ a = b \\\\\n",
    "             0 & \\text{if} \\ a \\not= b\n",
    "         \\end{cases}\n",
    "$$\n",
    "for all $a$ and $b$."
   ]
  },
  {
   "cell_type": "markdown",
   "metadata": {},
   "source": [
    "## Example"
   ]
  },
  {
   "cell_type": "code",
   "execution_count": 5,
   "metadata": {},
   "outputs": [],
   "source": [
    "import os\n",
    "import sys\n",
    "module_path = os.path.abspath(os.path.join(\"..\", \"..\", \"..\"))\n",
    "if module_path not in sys.path:\n",
    "    sys.path.append(module_path)\n",
    "\n",
    "import numpy as np\n",
    "from toqito.matrix.operations.vec import vec"
   ]
  },
  {
   "cell_type": "code",
   "execution_count": 6,
   "metadata": {},
   "outputs": [
    {
     "data": {
      "text/plain": [
       "array([[1],\n",
       "       [3],\n",
       "       [2],\n",
       "       [4]])"
      ]
     },
     "execution_count": 6,
     "metadata": {},
     "output_type": "execute_result"
    }
   ],
   "source": [
    "X = np.array([[1, 2], [3, 4]])\n",
    "vec(X)"
   ]
  },
  {
   "cell_type": "code",
   "execution_count": null,
   "metadata": {},
   "outputs": [],
   "source": []
  }
 ],
 "metadata": {
  "kernelspec": {
   "display_name": "Python 3",
   "language": "python",
   "name": "python3"
  },
  "language_info": {
   "codemirror_mode": {
    "name": "ipython",
    "version": 3
   },
   "file_extension": ".py",
   "mimetype": "text/x-python",
   "name": "python",
   "nbconvert_exporter": "python",
   "pygments_lexer": "ipython3",
   "version": "3.7.4"
  }
 },
 "nbformat": 4,
 "nbformat_minor": 2
}
