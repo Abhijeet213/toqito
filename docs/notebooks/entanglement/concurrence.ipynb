{
 "cells": [
  {
   "cell_type": "markdown",
   "metadata": {},
   "source": [
    "# Concurrence"
   ]
  },
  {
   "cell_type": "markdown",
   "metadata": {},
   "source": [
    "Calculate the concurrence of a bipartite state.\n",
    "\n",
    "The concurrence of a bipartite state $\\rho$ is defined as\n",
    "\n",
    "$$\n",
    "  \\max(0, \\lambda_1 - \\lambda_2 - \\lambda_3 - \\lambda_4),\n",
    "$$\n",
    "\n",
    "where $\\lambda_1, \\ldots, \\lambda_4$ are the eigenvalues in decreasing order of the matrix."
   ]
  },
  {
   "cell_type": "markdown",
   "metadata": {},
   "source": [
    "## Examples"
   ]
  },
  {
   "cell_type": "code",
   "execution_count": 10,
   "metadata": {},
   "outputs": [],
   "source": [
    "import numpy as np\n",
    "from toqito.core.ket import ket\n",
    "from toqito.entanglement.concurrence import concurrence"
   ]
  },
  {
   "cell_type": "markdown",
   "metadata": {},
   "source": [
    "### Concurrence of maximally entangled Bell state"
   ]
  },
  {
   "cell_type": "markdown",
   "metadata": {},
   "source": [
    "Consider the following Bell state:\n",
    "\n",
    "$$\n",
    "u = \\frac{1}{\\sqrt{2}} \\left( |00 \\rangle + |11 \\rangle \\right).\n",
    "$$\n",
    "\n",
    "The concurrence of the density matrix $\\rho = u u^*$ defined by the vector $u$ is given as \n",
    "\n",
    "$$\n",
    "\\mathcal{C}(\\rho) \\approx 1.\n",
    "$$\n",
    "\n",
    "The following example calculates this quantity using the `toqito` package."
   ]
  },
  {
   "cell_type": "code",
   "execution_count": 14,
   "metadata": {},
   "outputs": [
    {
     "data": {
      "text/plain": [
       "0.9999999999999998"
      ]
     },
     "execution_count": 14,
     "metadata": {},
     "output_type": "execute_result"
    }
   ],
   "source": [
    "e_0, e_1 = ket(2, 0), ket(2, 1)\n",
    "e_00, e_11 = np.kron(e_0, e_0), np.kron(e_1, e_1)\n",
    "\n",
    "u_vec = 1 / np.sqrt(2) * (e_00 + e_11)\n",
    "rho = u_vec * u_vec.conj().T\n",
    "\n",
    "concurrence(rho)"
   ]
  },
  {
   "cell_type": "markdown",
   "metadata": {},
   "source": [
    "## References:\n",
    "    \n",
    "Wikipedia page for concurrence (quantum computing)\n",
    "\n",
    "https://en.wikipedia.org/wiki/Concurrence_(quantum_computing)"
   ]
  }
 ],
 "metadata": {
  "kernelspec": {
   "display_name": "Python 3",
   "language": "python",
   "name": "python3"
  },
  "language_info": {
   "codemirror_mode": {
    "name": "ipython",
    "version": 3
   },
   "file_extension": ".py",
   "mimetype": "text/x-python",
   "name": "python",
   "nbconvert_exporter": "python",
   "pygments_lexer": "ipython3",
   "version": "3.7.6"
  }
 },
 "nbformat": 4,
 "nbformat_minor": 2
}
