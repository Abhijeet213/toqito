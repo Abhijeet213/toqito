{
 "cells": [
  {
   "cell_type": "markdown",
   "metadata": {},
   "source": [
    "# Negativity"
   ]
  },
  {
   "cell_type": "markdown",
   "metadata": {},
   "source": [
    "Compute the negativity of a bipartite quantum state.\n",
    "\n",
    "The negativity of a subsystem can be defined in terms of a density matrix\n",
    "$\\rho$:\n",
    "\n",
    "$$\n",
    "    \\mathcal{N}(\\rho) \\equiv \\frac{||\\rho^{\\Gamma_A}||_1-1}{2}\n",
    "$$\n",
    "\n",
    "Calculate the negativity of the quantum state $\\rho$, assuming that the two\n",
    "subsystems on which $\\rho$ acts are of equal dimension (if the local\n",
    "dimensions are unequal, specify them in the optional `dim` argument). The\n",
    "negativity of $\\rho$ is the sum of the absolute value of the negative\n",
    "eigenvalues of the partial transpose of $\\rho$."
   ]
  },
  {
   "cell_type": "markdown",
   "metadata": {},
   "source": [
    "## Examples"
   ]
  },
  {
   "cell_type": "code",
   "execution_count": 3,
   "metadata": {},
   "outputs": [],
   "source": [
    "from toqito.state.states.bell import bell\n",
    "from toqito.entanglement.negativity import negativity"
   ]
  },
  {
   "cell_type": "markdown",
   "metadata": {},
   "source": [
    "Test the negativity of the denisty matrix corresponding to one of the Bell states"
   ]
  },
  {
   "cell_type": "code",
   "execution_count": 11,
   "metadata": {},
   "outputs": [],
   "source": [
    "rho = bell(0) * bell(0).conj().T"
   ]
  },
  {
   "cell_type": "markdown",
   "metadata": {},
   "source": [
    "## References"
   ]
  },
  {
   "cell_type": "markdown",
   "metadata": {},
   "source": [
    "Wikipedia page for negativity (quantum mechanics):\n",
    "\n",
    "https://en.wikipedia.org/wiki/Negativity_(quantum_mechanics)"
   ]
  }
 ],
 "metadata": {
  "kernelspec": {
   "display_name": "Python 3",
   "language": "python",
   "name": "python3"
  },
  "language_info": {
   "codemirror_mode": {
    "name": "ipython",
    "version": 3
   },
   "file_extension": ".py",
   "mimetype": "text/x-python",
   "name": "python",
   "nbconvert_exporter": "python",
   "pygments_lexer": "ipython3",
   "version": "3.7.6"
  }
 },
 "nbformat": 4,
 "nbformat_minor": 2
}
