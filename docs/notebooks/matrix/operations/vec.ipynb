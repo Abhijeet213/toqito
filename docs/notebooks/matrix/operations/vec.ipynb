{
 "cells": [
  {
   "cell_type": "markdown",
   "metadata": {},
   "source": [
    "# Vec"
   ]
  },
  {
   "cell_type": "markdown",
   "metadata": {},
   "source": [
    "The vec function is a linear mapping that in essence converts each row to column, and then continually stacks the columns on top of each other. An example is helpful. \n",
    "\n",
    "For instance, for the following matrix:\n",
    "\n",
    "$$\n",
    "X = \n",
    "\\begin{pmatrix}\n",
    "    1 & 2 \\\\\n",
    "    3 & 4 \n",
    "\\end{pmatrix}\n",
    "$$\n",
    "\n",
    "it holds that\n",
    "\n",
    "$$\n",
    "\\text{vec}(X) = \\begin{pmatrix} 1 & 2 & 3 & 4 \\end{pmatrix}^T\n",
    "$$\n",
    "\n",
    "More formally, the vec operation is defined by\n",
    "\n",
    "$$\n",
    "\\text{vec}(E_{a,b}) = e_a \\otimes e_b\n",
    "$$\n",
    "\n",
    "for all $a$ and $b$ where"
   ]
  },
  {
   "cell_type": "markdown",
   "metadata": {},
   "source": [
    "$$\n",
    "E_{a,b}(c,d) = \\begin{cases} \n",
    "                  1 & \\text{if} \\ (c,d) = (a,b) \\\\\n",
    "                  0 & \\text{otherwise}\n",
    "                \\end{cases}\n",
    "$$\n",
    "for all $c$ and $d$ and where\n",
    "\n",
    "$$\n",
    "e_a(b) = \\begin{cases} \n",
    "             1 & \\text{if} \\ a = b \\\\\n",
    "             0 & \\text{if} \\ a \\not= b\n",
    "         \\end{cases}\n",
    "$$\n",
    "for all $a$ and $b$."
   ]
  },
  {
   "cell_type": "markdown",
   "metadata": {},
   "source": [
    "## Example"
   ]
  },
  {
   "cell_type": "code",
   "execution_count": 1,
   "metadata": {},
   "outputs": [],
   "source": [
    "import numpy as np\n",
    "from toqito.linear_algebra.operations.vec import vec"
   ]
  },
  {
   "cell_type": "markdown",
   "metadata": {},
   "source": [
    "Consider the following matrix\n",
    "\n",
    "$$\n",
    "A = \\begin{pmatrix}\n",
    "        1 & 2 \\\\\n",
    "        3 & 4\n",
    "    \\end{pmatrix}\n",
    "$$\n",
    "\n",
    "Performing the $\\text{vec}$ operation on $A$ yields\n",
    "\n",
    "$$\n",
    "\\text{vec}(A) = \\left[1, 2, 3, 4 \\right]^{T}.\n",
    "$$"
   ]
  },
  {
   "cell_type": "code",
   "execution_count": 4,
   "metadata": {},
   "outputs": [
    {
     "data": {
      "text/plain": [
       "array([[1],\n",
       "       [3],\n",
       "       [2],\n",
       "       [4]])"
      ]
     },
     "execution_count": 4,
     "metadata": {},
     "output_type": "execute_result"
    }
   ],
   "source": [
    "X = np.array([[1, 2], [3, 4]])\n",
    "vec(X)"
   ]
  },
  {
   "cell_type": "markdown",
   "metadata": {},
   "source": [
    "## References"
   ]
  },
  {
   "cell_type": "markdown",
   "metadata": {},
   "source": [
    "Watrous, John.\n",
    "\"The theory of quantum information.\"\n",
    "Section: \"The operator-vector correspondence\".\n",
    "Cambridge University Press, 2018."
   ]
  }
 ],
 "metadata": {
  "kernelspec": {
   "display_name": "Python 3",
   "language": "python",
   "name": "python3"
  },
  "language_info": {
   "codemirror_mode": {
    "name": "ipython",
    "version": 3
   },
   "file_extension": ".py",
   "mimetype": "text/x-python",
   "name": "python",
   "nbconvert_exporter": "python",
   "pygments_lexer": "ipython3",
   "version": "3.7.6"
  }
 },
 "nbformat": 4,
 "nbformat_minor": 2
}
