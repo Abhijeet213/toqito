{
 "cells": [
  {
   "cell_type": "markdown",
   "metadata": {},
   "source": [
    "# Clock matrix"
   ]
  },
  {
   "cell_type": "markdown",
   "metadata": {},
   "source": [
    "The clock matrix is one of the matrices used in the construction of the generalized Pauli operators.\n",
    "\n",
    "For some dimension, $d$, let $\\omega = \\exp(2\\pi i / d)$ represent a root of unity. Since $\\omega^d = 1$ and $\\omega \\not= 1$ the sum of all roots annuls:\n",
    "\n",
    "$$\n",
    "1 + \\omega + \\ldots + \\omega^{d-1} = 0.\n",
    "$$\n",
    "\n",
    "Integer indices may then be cyclically identified mod $d$.\n",
    "\n",
    "The clock matrix is the defined as\n",
    "\n",
    "$$\n",
    "\\Sigma_3 = \\begin{pmatrix}\n",
    "                1 & 0 & 0 & \\ldots & 0 \\\\\n",
    "                0 & \\omega & 0 & \\ldots & 0 \\\\\n",
    "                0 & 0 & \\omega^2 & \\ldots & 0 \\\\\n",
    "                \\vdots & \\vdots & \\vdots & \\ddots & \\vdots \\\\\n",
    "                0 & 0 & 0 & \\ldots & \\omega^{d-1}\n",
    "           \\end{pmatrix}\n",
    "$$"
   ]
  },
  {
   "cell_type": "markdown",
   "metadata": {},
   "source": [
    "## Examples"
   ]
  },
  {
   "cell_type": "code",
   "execution_count": 1,
   "metadata": {},
   "outputs": [],
   "source": [
    "from toqito.linear_algebra.matrices.clock import clock"
   ]
  },
  {
   "cell_type": "markdown",
   "metadata": {},
   "source": [
    "### Clock matrix of with $d = 3$\n",
    "\n",
    "The clock matrix generated from $d = 3$ yields the following matrix:\n",
    "\n",
    "$$\n",
    "\\begin{pmatrix}\n",
    "    1 & 0 & 0 \\\\\n",
    "    0 & \\omega & 0 \\\\\n",
    "    0 & 0 & \\omega^2\n",
    "\\end{pmatrix}\n",
    "$$"
   ]
  },
  {
   "cell_type": "code",
   "execution_count": 2,
   "metadata": {},
   "outputs": [
    {
     "data": {
      "text/plain": [
       "array([[ 1. +0.j       ,  0. +0.j       ,  0. +0.j       ],\n",
       "       [ 0. +0.j       , -0.5+0.8660254j,  0. +0.j       ],\n",
       "       [ 0. +0.j       ,  0. +0.j       , -0.5-0.8660254j]])"
      ]
     },
     "execution_count": 2,
     "metadata": {},
     "output_type": "execute_result"
    }
   ],
   "source": [
    "clock(3)"
   ]
  },
  {
   "cell_type": "markdown",
   "metadata": {},
   "source": [
    "## References\n",
    "    \n",
    "Wikipedia: Generalizations of Pauli matrices\n",
    "\n",
    "https://en.wikipedia.org/wiki/Generalizations_of_Pauli_matrices#Construction:_The_clock_and_shift_matrices"
   ]
  },
  {
   "cell_type": "code",
   "execution_count": null,
   "metadata": {},
   "outputs": [],
   "source": []
  }
 ],
 "metadata": {
  "kernelspec": {
   "display_name": "Python 3",
   "language": "python",
   "name": "python3"
  },
  "language_info": {
   "codemirror_mode": {
    "name": "ipython",
    "version": 3
   },
   "file_extension": ".py",
   "mimetype": "text/x-python",
   "name": "python",
   "nbconvert_exporter": "python",
   "pygments_lexer": "ipython3",
   "version": "3.7.6"
  }
 },
 "nbformat": 4,
 "nbformat_minor": 2
}
