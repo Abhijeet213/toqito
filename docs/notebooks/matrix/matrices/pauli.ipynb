{
 "cells": [
  {
   "cell_type": "markdown",
   "metadata": {},
   "source": [
    "# Pauli operators"
   ]
  },
  {
   "cell_type": "markdown",
   "metadata": {},
   "source": [
    "Produce a Pauli operator.\n",
    "\n",
    "Provides the 2-by-2 Pauli matrix indicated by the value of `ind`. The variable `ind = 1` gives the Pauli-X operator, `ind = 2` gives the Pauli-Y operator, `ind =3` gives the Pauli-Z operator, and `ind = 0`gives the identity operator. Alternatively, `ind` can be set to \"I\", \"X\", \"Y\", or \"Z\" (case insensitive) to indicate the Pauli identity, X, Y, or Z operator.\n",
    "\n",
    "The 2-by-2 Pauli matrices are defined as the following matrices:\n",
    "\n",
    "$$\n",
    "        \\begin{equation}\n",
    "            \\begin{aligned}\n",
    "                X = \\begin{pmatrix}\n",
    "                        0 & 1 \\\\\n",
    "                        1 & 0\n",
    "                    \\end{pmatrix}, \\quad\n",
    "                Y = \\begin{pmatrix}\n",
    "                        0 & -i \\\\\n",
    "                        i & 0\n",
    "                    \\end{pmatrix}, \\quad\n",
    "                Z = \\begin{pmatrix}\n",
    "                        1 & 0 \\\\\n",
    "                        0 & -1\n",
    "                    \\end{pmatrix}, \\quad\n",
    "                I = \\begin{pmatrix}\n",
    "                        1 & 0 \\\\\n",
    "                        0 & 1\n",
    "                    \\end{pmatrix}.\n",
    "                \\end{aligned}\n",
    "            \\end{equation}\n",
    "$$"
   ]
  },
  {
   "cell_type": "markdown",
   "metadata": {},
   "source": [
    "## Examples"
   ]
  },
  {
   "cell_type": "code",
   "execution_count": 1,
   "metadata": {},
   "outputs": [],
   "source": [
    "from toqito.linear_algebra.matrices.pauli import pauli"
   ]
  },
  {
   "cell_type": "markdown",
   "metadata": {},
   "source": [
    "### The four Pauli operators\n",
    "\n",
    "The `toqito` package can generate the four Pauli operators as follows."
   ]
  },
  {
   "cell_type": "code",
   "execution_count": 4,
   "metadata": {},
   "outputs": [
    {
     "data": {
      "text/plain": [
       "array([[1., 0.],\n",
       "       [0., 1.]])"
      ]
     },
     "execution_count": 4,
     "metadata": {},
     "output_type": "execute_result"
    }
   ],
   "source": [
    "# Identity:\n",
    "pauli(\"I\")"
   ]
  },
  {
   "cell_type": "code",
   "execution_count": 5,
   "metadata": {},
   "outputs": [
    {
     "data": {
      "text/plain": [
       "array([[0, 1],\n",
       "       [1, 0]])"
      ]
     },
     "execution_count": 5,
     "metadata": {},
     "output_type": "execute_result"
    }
   ],
   "source": [
    "# Pauli-X\n",
    "pauli(\"X\")"
   ]
  },
  {
   "cell_type": "code",
   "execution_count": 6,
   "metadata": {},
   "outputs": [
    {
     "data": {
      "text/plain": [
       "array([[ 0.+0.j, -0.-1.j],\n",
       "       [ 0.+1.j,  0.+0.j]])"
      ]
     },
     "execution_count": 6,
     "metadata": {},
     "output_type": "execute_result"
    }
   ],
   "source": [
    "# Pauli-Y\n",
    "pauli(\"Y\")"
   ]
  },
  {
   "cell_type": "code",
   "execution_count": 7,
   "metadata": {},
   "outputs": [
    {
     "data": {
      "text/plain": [
       "array([[ 1,  0],\n",
       "       [ 0, -1]])"
      ]
     },
     "execution_count": 7,
     "metadata": {},
     "output_type": "execute_result"
    }
   ],
   "source": [
    "# Pauli-Z\n",
    "pauli(\"Z\")"
   ]
  },
  {
   "cell_type": "markdown",
   "metadata": {},
   "source": [
    "## References"
   ]
  },
  {
   "cell_type": "markdown",
   "metadata": {},
   "source": [
    "[1] Wikipedia: Pauli matrices\n",
    "        https://en.wikipedia.org/wiki/Pauli_matrices"
   ]
  }
 ],
 "metadata": {
  "kernelspec": {
   "display_name": "Python 3",
   "language": "python",
   "name": "python3"
  },
  "language_info": {
   "codemirror_mode": {
    "name": "ipython",
    "version": 3
   },
   "file_extension": ".py",
   "mimetype": "text/x-python",
   "name": "python",
   "nbconvert_exporter": "python",
   "pygments_lexer": "ipython3",
   "version": "3.7.6"
  }
 },
 "nbformat": 4,
 "nbformat_minor": 2
}
