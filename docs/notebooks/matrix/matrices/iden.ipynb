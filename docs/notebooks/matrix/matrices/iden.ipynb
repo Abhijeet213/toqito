{
 "cells": [
  {
   "cell_type": "markdown",
   "metadata": {},
   "source": [
    "# Identity matrix"
   ]
  },
  {
   "cell_type": "markdown",
   "metadata": {},
   "source": [
    "Calculate the `dim`-by-`dim` identity matrix.\n",
    "\n",
    "Returns the `dim`-by-`dim` identity matrix. If `is_sparse = False` then the matrix will be full. If `is_sparse = True` then the matrix will be sparse.\n",
    "\n",
    "$$\n",
    "        \\mathbb{I} = \\begin{pmatrix}\n",
    "                        1 & 0 & 0 & \\ldots & 0 \\\\\n",
    "                        0 & 1 & 0 & \\ldots & 0 \\\\\n",
    "                        0 & 0 & 1 & \\ldots & 0 \\\\\n",
    "                        \\vdots & \\vdots & \\vdots & \\ddots & \\vdots \\\\\n",
    "                        0 & 0 & 0 & \\ldots & 1\n",
    "                   \\end{pmatrix}\n",
    "$$\n",
    "\n",
    "Only use this function within other functions to easily get the correct identity matrix. If you always want either the full or the sparse identity matrix, just use numpy's built-in np.identity function."
   ]
  },
  {
   "cell_type": "code",
   "execution_count": 1,
   "metadata": {},
   "outputs": [],
   "source": [
    "from toqito.matrix.matrices.iden import iden"
   ]
  },
  {
   "cell_type": "markdown",
   "metadata": {},
   "source": [
    "## Identity matrix with $d=3$"
   ]
  },
  {
   "cell_type": "markdown",
   "metadata": {},
   "source": [
    "### Identity matrix of with $d = 3$\n",
    "\n",
    "The identity matrix generated from $d = 3$ yields the following matrix:\n",
    "\n",
    "$$\n",
    "\\begin{pmatrix}\n",
    "    1 & 0 & 0 \\\\\n",
    "    0 & 1 & 0 \\\\\n",
    "    0 & 0 & 1\n",
    "\\end{pmatrix}\n",
    "$$"
   ]
  },
  {
   "cell_type": "code",
   "execution_count": 2,
   "metadata": {},
   "outputs": [
    {
     "data": {
      "text/plain": [
       "array([[1., 0., 0.],\n",
       "       [0., 1., 0.],\n",
       "       [0., 0., 1.]])"
      ]
     },
     "execution_count": 2,
     "metadata": {},
     "output_type": "execute_result"
    }
   ],
   "source": [
    "iden(3)"
   ]
  },
  {
   "cell_type": "markdown",
   "metadata": {},
   "source": [
    "### Sparse identity with $d = 10$\n",
    "\n",
    "It is also possible to create sparse identity matrices"
   ]
  },
  {
   "cell_type": "code",
   "execution_count": 3,
   "metadata": {},
   "outputs": [
    {
     "data": {
      "text/plain": [
       "<10x10 sparse matrix of type '<class 'numpy.float64'>'\n",
       "\twith 10 stored elements (1 diagonals) in DIAgonal format>"
      ]
     },
     "execution_count": 3,
     "metadata": {},
     "output_type": "execute_result"
    }
   ],
   "source": [
    "iden(10, True)"
   ]
  },
  {
   "cell_type": "markdown",
   "metadata": {},
   "source": [
    "## References"
   ]
  },
  {
   "cell_type": "markdown",
   "metadata": {},
   "source": [
    "[1] Wikipedia: Identity matrix\n",
    "        https://en.wikipedia.org/wiki/Identity_matrix"
   ]
  }
 ],
 "metadata": {
  "kernelspec": {
   "display_name": "Python 3",
   "language": "python",
   "name": "python3"
  },
  "language_info": {
   "codemirror_mode": {
    "name": "ipython",
    "version": 3
   },
   "file_extension": ".py",
   "mimetype": "text/x-python",
   "name": "python",
   "nbconvert_exporter": "python",
   "pygments_lexer": "ipython3",
   "version": "3.7.6"
  }
 },
 "nbformat": 4,
 "nbformat_minor": 2
}
