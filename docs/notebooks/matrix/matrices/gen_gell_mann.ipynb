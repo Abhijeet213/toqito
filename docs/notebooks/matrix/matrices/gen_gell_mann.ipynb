{
 "cells": [
  {
   "cell_type": "markdown",
   "metadata": {},
   "source": [
    "# Generalized Gell-Mann operators"
   ]
  },
  {
   "cell_type": "markdown",
   "metadata": {},
   "source": [
    "Produce a generalized Gell-Mann operator.\n",
    "\n",
    "Construct a `dim`-by-`dim` Hermitian operator. These matrices span the entire space of `dim`-by-`dim` matrices as `ind_1` and `ind_2` range from 0 to `dim-1`, inclusive, and they generalize the Pauli operators when `dim = 2` and the Gell-Mann operators when `dim = 3`."
   ]
  },
  {
   "cell_type": "markdown",
   "metadata": {},
   "source": [
    "## Examples"
   ]
  },
  {
   "cell_type": "code",
   "execution_count": 3,
   "metadata": {},
   "outputs": [],
   "source": [
    "from toqito.linear_algebra.matrices.gen_gell_mann import gen_gell_mann"
   ]
  },
  {
   "cell_type": "markdown",
   "metadata": {},
   "source": [
    "### Generalized Gell-Mann operator (Pauli-X)\n",
    "\n",
    "The generalized Gell-Mann matrix for `ind_1 = 0`, `ind_2 = 1` and `dim = 2` is given as\n",
    "\n",
    "$$\n",
    "G_{0, 1, 2} = \\begin{pmatrix}\n",
    "                 0 & 1 \\\\\n",
    "                 1 & 0\n",
    "              \\end{pmatrix}.\n",
    "$$\n",
    "\n",
    "This can be obtained in `toqito` as follows."
   ]
  },
  {
   "cell_type": "code",
   "execution_count": 4,
   "metadata": {},
   "outputs": [
    {
     "data": {
      "text/plain": [
       "matrix([[0., 1.],\n",
       "        [1., 0.]])"
      ]
     },
     "execution_count": 4,
     "metadata": {},
     "output_type": "execute_result"
    }
   ],
   "source": [
    "\"\"\"Generalized Gell-Mann operator Pauli-X.\"\"\"\n",
    "gen_gell_mann(0, 1, 2)"
   ]
  },
  {
   "cell_type": "markdown",
   "metadata": {},
   "source": [
    "### Generalized Gell-Mann operator 4-dimensional\n",
    "\n",
    "The generalized Gell-Mann matrix `ind_1 = 2`, `ind_2 = 3`, and `dim = 4` is given as \n",
    "\n",
    "$$\n",
    "G_{2, 3, 4} = \\begin{pmatrix}\n",
    "                0 & 0 & 0 & 0 \\\\\n",
    "                0 & 0 & 0 & 0 \\\\\n",
    "                0 & 0 & 0 & 1 \\\\\n",
    "                0 & 0 & 1 & 0\n",
    "              \\end{pmatrix}.\n",
    "$$\n",
    "\n",
    "This can be obtained in `toqito` as follows."
   ]
  },
  {
   "cell_type": "code",
   "execution_count": 5,
   "metadata": {},
   "outputs": [
    {
     "data": {
      "text/plain": [
       "matrix([[0., 0., 0., 0.],\n",
       "        [0., 0., 0., 0.],\n",
       "        [0., 0., 0., 1.],\n",
       "        [0., 0., 1., 0.]])"
      ]
     },
     "execution_count": 5,
     "metadata": {},
     "output_type": "execute_result"
    }
   ],
   "source": [
    "\"\"\"Generalized Gell-Mann operator 4-dimensional.\"\"\"\n",
    "gen_gell_mann(2, 3, 4)"
   ]
  },
  {
   "cell_type": "markdown",
   "metadata": {},
   "source": [
    "## References"
   ]
  },
  {
   "cell_type": "markdown",
   "metadata": {},
   "source": [
    "Wikipedia: Gell-Mann matrices\n",
    "\n",
    "https://en.wikipedia.org/wiki/Gell-Mann_matrices"
   ]
  }
 ],
 "metadata": {
  "kernelspec": {
   "display_name": "Python 3",
   "language": "python",
   "name": "python3"
  },
  "language_info": {
   "codemirror_mode": {
    "name": "ipython",
    "version": 3
   },
   "file_extension": ".py",
   "mimetype": "text/x-python",
   "name": "python",
   "nbconvert_exporter": "python",
   "pygments_lexer": "ipython3",
   "version": "3.7.6"
  }
 },
 "nbformat": 4,
 "nbformat_minor": 2
}
