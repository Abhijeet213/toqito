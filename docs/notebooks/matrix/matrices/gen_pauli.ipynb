{
 "cells": [
  {
   "cell_type": "markdown",
   "metadata": {},
   "source": [
    "# Generalized Pauli operators"
   ]
  },
  {
   "cell_type": "markdown",
   "metadata": {},
   "source": [
    "Produce generalized Pauli operator.\n",
    "\n",
    "Generates a `dim`-by-`dim` unitary operator. More specifically, it is the operator `X^k_1*Z^k_2`, where X and Z are the \"shift\" and \"clock\" operators that naturally generalize the Pauli X and Z operators. These matrices span the entire space of `dim`-by-`dim` matrices as `k_1` and `k_2` range from 0 to `dim-1`, inclusive."
   ]
  },
  {
   "cell_type": "markdown",
   "metadata": {},
   "source": [
    "## Examples"
   ]
  },
  {
   "cell_type": "code",
   "execution_count": 5,
   "metadata": {},
   "outputs": [],
   "source": [
    "from toqito.matrix.matrices.gen_pauli import gen_pauli"
   ]
  },
  {
   "cell_type": "markdown",
   "metadata": {},
   "source": [
    "### Generalized Pauli operator for $k_1 = 1$, $k_2 = 0$, and $dim = 2$\n",
    "\n",
    "The generalized Pauli operator for `k_1 = 1`, `k_2 = 0` and `dim = 2` is given as the standard Pauli-X matrix\n",
    "\n",
    "$$\n",
    "G_{1, 0, 2} = \\begin{pmatrix}\n",
    "                 0 & 1 \\\\\n",
    "                 1 & 0\n",
    "              \\end{pmatrix}.\n",
    "$$\n",
    "\n",
    "This can be obtained in `toqito` as follows."
   ]
  },
  {
   "cell_type": "code",
   "execution_count": 6,
   "metadata": {},
   "outputs": [
    {
     "data": {
      "text/plain": [
       "array([[0.+0.j, 1.+0.j],\n",
       "       [1.+0.j, 0.+0.j]])"
      ]
     },
     "execution_count": 6,
     "metadata": {},
     "output_type": "execute_result"
    }
   ],
   "source": [
    "\"\"\"Generalized Pauli operator for k_1 = 1, k_2 = 0, and dim = 2.\"\"\"\n",
    "dim = 2\n",
    "k_1 = 1\n",
    "k_2 = 0\n",
    "gen_pauli(k_1, k_2, dim)"
   ]
  },
  {
   "cell_type": "markdown",
   "metadata": {},
   "source": [
    "### Generalized Pauli operator for $k_1 = 1$, $k_2 = 1$, and $dim = 2$\n",
    "\n",
    "The generalized Pauli matrix `k_1 = 1`, `k_2 = 1`, and `dim = 2` is given as the standard Pauli-Y matrix\n",
    "\n",
    "$$\n",
    "G_{1, 1, 2} = \\begin{pmatrix}\n",
    "                0 & -1 \\\\\n",
    "                1 & 0\n",
    "              \\end{pmatrix}.\n",
    "$$\n",
    "\n",
    "This can be obtained in `toqito` as follows."
   ]
  },
  {
   "cell_type": "code",
   "execution_count": 7,
   "metadata": {},
   "outputs": [
    {
     "data": {
      "text/plain": [
       "array([[ 0.+0.0000000e+00j, -1.+1.2246468e-16j],\n",
       "       [ 1.+0.0000000e+00j,  0.+0.0000000e+00j]])"
      ]
     },
     "execution_count": 7,
     "metadata": {},
     "output_type": "execute_result"
    }
   ],
   "source": [
    "\"\"\"Generalized Pauli operator for k_1 = 1, k_2 = 1, and dim = 2.\"\"\"\n",
    "dim = 2\n",
    "k_1 = 1\n",
    "k_2 = 1\n",
    "\n",
    "gen_pauli(k_1, k_2, dim)"
   ]
  },
  {
   "cell_type": "markdown",
   "metadata": {},
   "source": [
    "## References"
   ]
  },
  {
   "cell_type": "markdown",
   "metadata": {},
   "source": [
    "[1] Wikipedia: Generalizations of Pauli matrices\n",
    "        https://en.wikipedia.org/wiki/Generalizations_of_Pauli_matrices"
   ]
  }
 ],
 "metadata": {
  "kernelspec": {
   "display_name": "Python 3",
   "language": "python",
   "name": "python3"
  },
  "language_info": {
   "codemirror_mode": {
    "name": "ipython",
    "version": 3
   },
   "file_extension": ".py",
   "mimetype": "text/x-python",
   "name": "python",
   "nbconvert_exporter": "python",
   "pygments_lexer": "ipython3",
   "version": "3.7.6"
  }
 },
 "nbformat": 4,
 "nbformat_minor": 2
}
