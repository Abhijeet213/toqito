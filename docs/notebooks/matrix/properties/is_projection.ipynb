{
 "cells": [
  {
   "cell_type": "markdown",
   "metadata": {},
   "source": [
    "# Is projection matrix"
   ]
  },
  {
   "cell_type": "markdown",
   "metadata": {},
   "source": [
    "Check if matrix is a projection matrix.\n",
    "\n",
    "A matrix is a projection matrix if it is positive semidefinite (PSD) and if\n",
    "\n",
    "$$\n",
    "        \\begin{equation}\n",
    "            X^2 = X\n",
    "        \\end{equation}\n",
    "$$\n",
    "\n",
    "where $X$ is the matrix in question."
   ]
  },
  {
   "cell_type": "markdown",
   "metadata": {},
   "source": [
    "## Examples"
   ]
  },
  {
   "cell_type": "code",
   "execution_count": 2,
   "metadata": {},
   "outputs": [],
   "source": [
    "from toqito.matrix.properties.is_projection import is_projection\n",
    "import numpy as np"
   ]
  },
  {
   "cell_type": "markdown",
   "metadata": {},
   "source": [
    "Consider the following matrix\n",
    "\n",
    "$$\n",
    "A = \\begin{pmatrix}\n",
    "                        0 & 1 \\\\\n",
    "                        0 & 1                        \n",
    "                   \\end{pmatrix}\n",
    "$$\n",
    "\n",
    "our function indicates that this is indeed a projection matrix."
   ]
  },
  {
   "cell_type": "code",
   "execution_count": 3,
   "metadata": {},
   "outputs": [
    {
     "data": {
      "text/plain": [
       "True"
      ]
     },
     "execution_count": 3,
     "metadata": {},
     "output_type": "execute_result"
    }
   ],
   "source": [
    "A = np.array([[0, 1], [0, 1]])\n",
    "is_projection(A)"
   ]
  },
  {
   "cell_type": "markdown",
   "metadata": {},
   "source": [
    "Alternatively, the following example matrix $B$ defined as\n",
    "\n",
    "$$\n",
    "B = \\begin{pmatrix}\n",
    "                        -1 & -1 \\\\\n",
    "                        -1 & -1 \n",
    "                     \\end{pmatrix}\n",
    "$$\n",
    "\n",
    "is not positive definite."
   ]
  },
  {
   "cell_type": "code",
   "execution_count": 5,
   "metadata": {},
   "outputs": [
    {
     "data": {
      "text/plain": [
       "False"
      ]
     },
     "execution_count": 5,
     "metadata": {},
     "output_type": "execute_result"
    }
   ],
   "source": [
    "B = np.array([[-1, -1], [-1, -1]])\n",
    "is_projection(B)"
   ]
  },
  {
   "cell_type": "markdown",
   "metadata": {},
   "source": [
    "## References"
   ]
  },
  {
   "cell_type": "markdown",
   "metadata": {},
   "source": [
    "[1] Wikipedia: Projection matrix.\n",
    "        https://en.wikipedia.org/wiki/Projection_matrix"
   ]
  }
 ],
 "metadata": {
  "kernelspec": {
   "display_name": "Python 3",
   "language": "python",
   "name": "python3"
  },
  "language_info": {
   "codemirror_mode": {
    "name": "ipython",
    "version": 3
   },
   "file_extension": ".py",
   "mimetype": "text/x-python",
   "name": "python",
   "nbconvert_exporter": "python",
   "pygments_lexer": "ipython3",
   "version": "3.7.6"
  }
 },
 "nbformat": 4,
 "nbformat_minor": 2
}
