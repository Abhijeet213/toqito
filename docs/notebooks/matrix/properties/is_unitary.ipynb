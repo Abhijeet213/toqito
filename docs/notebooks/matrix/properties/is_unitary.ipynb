{
 "cells": [
  {
   "cell_type": "markdown",
   "metadata": {},
   "source": [
    "# Is unitary matrix"
   ]
  },
  {
   "cell_type": "markdown",
   "metadata": {},
   "source": [
    "Check if matrix is unitary.\n",
    "\n",
    "A matrix is unitary if its inverse is equal to its conjugate transpose.\n",
    "\n",
    "Alternatively, a complex square matrix $U$ is unitary if its conjugate transpose $U^*$ is also its inverse, that is, if\n",
    "\n",
    "$$\n",
    "        \\begin{equation}\n",
    "            U^* U = U U^* = \\mathbb{I},\n",
    "        \\end{equation}\n",
    "$$\n",
    "\n",
    "where $\\mathbb{I}$ is the identity matrix."
   ]
  },
  {
   "cell_type": "markdown",
   "metadata": {},
   "source": [
    "## Examples"
   ]
  },
  {
   "cell_type": "code",
   "execution_count": 7,
   "metadata": {},
   "outputs": [],
   "source": [
    "from toqito.matrix.properties.is_unitary import is_unitary\n",
    "from toqito.random.random_unitary import random_unitary\n",
    "import numpy as np"
   ]
  },
  {
   "cell_type": "markdown",
   "metadata": {},
   "source": [
    "Consider the following matrix\n",
    "\n",
    "$$\n",
    "X = \\begin{pmatrix}\n",
    "                        0 & 1 \\\\\n",
    "                        1 & 0\n",
    "                   \\end{pmatrix}\n",
    "$$\n",
    "\n",
    "our function indicates that this is indeed a unitary matrix."
   ]
  },
  {
   "cell_type": "code",
   "execution_count": 8,
   "metadata": {},
   "outputs": [
    {
     "data": {
      "text/plain": [
       "True"
      ]
     },
     "execution_count": 8,
     "metadata": {},
     "output_type": "execute_result"
    }
   ],
   "source": [
    "A = np.array([[0, 1], [1, 0]])\n",
    "is_unitary(A)"
   ]
  },
  {
   "cell_type": "markdown",
   "metadata": {},
   "source": [
    "We may also use the `random_unitary` function from `toqito`, and can verify that a randomly generated matrix is unitary"
   ]
  },
  {
   "cell_type": "code",
   "execution_count": 9,
   "metadata": {},
   "outputs": [
    {
     "data": {
      "text/plain": [
       "True"
      ]
     },
     "execution_count": 9,
     "metadata": {},
     "output_type": "execute_result"
    }
   ],
   "source": [
    "mat = random_unitary(2)\n",
    "is_unitary(mat)"
   ]
  },
  {
   "cell_type": "markdown",
   "metadata": {},
   "source": [
    "Alternatively, the following example matrix $B$ defined as\n",
    "\n",
    "$$\n",
    "B = \\begin{pmatrix}\n",
    "                        1 & 0 \\\\\n",
    "                        1 & 1\n",
    "                     \\end{pmatrix}\n",
    "$$\n",
    "\n",
    "is not unitary."
   ]
  },
  {
   "cell_type": "code",
   "execution_count": 10,
   "metadata": {},
   "outputs": [
    {
     "data": {
      "text/plain": [
       "False"
      ]
     },
     "execution_count": 10,
     "metadata": {},
     "output_type": "execute_result"
    }
   ],
   "source": [
    "B = np.array([[1, 0], [1, 1]])\n",
    "is_unitary(B)"
   ]
  },
  {
   "cell_type": "markdown",
   "metadata": {},
   "source": [
    "## References"
   ]
  },
  {
   "cell_type": "markdown",
   "metadata": {},
   "source": [
    "[1] Wikipedia: Unitary matrix.\n",
    "        https://en.wikipedia.org/wiki/Unitary_matrix"
   ]
  }
 ],
 "metadata": {
  "kernelspec": {
   "display_name": "Python 3",
   "language": "python",
   "name": "python3"
  },
  "language_info": {
   "codemirror_mode": {
    "name": "ipython",
    "version": 3
   },
   "file_extension": ".py",
   "mimetype": "text/x-python",
   "name": "python",
   "nbconvert_exporter": "python",
   "pygments_lexer": "ipython3",
   "version": "3.7.6"
  }
 },
 "nbformat": 4,
 "nbformat_minor": 2
}
