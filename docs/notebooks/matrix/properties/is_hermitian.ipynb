{
 "cells": [
  {
   "cell_type": "markdown",
   "metadata": {},
   "source": [
    "# Is Hermitian matrix"
   ]
  },
  {
   "cell_type": "markdown",
   "metadata": {},
   "source": [
    "Check if matrix is Hermitian.\n",
    "    \n",
    "A Hermitian matrix is a complex square matrix that is equal to its own conjugate transpose."
   ]
  },
  {
   "cell_type": "markdown",
   "metadata": {},
   "source": [
    "## Examples"
   ]
  },
  {
   "cell_type": "code",
   "execution_count": 1,
   "metadata": {},
   "outputs": [],
   "source": [
    "from toqito.matrix.properties.is_hermitian import is_hermitian\n",
    "import numpy as np"
   ]
  },
  {
   "cell_type": "markdown",
   "metadata": {},
   "source": [
    "Consider the following matrix\n",
    "\n",
    "$$\n",
    "A = \\begin{pmatrix}\n",
    "                        2 & 2 +1j & 4 \\\\\n",
    "                        2 - 1j & 3 & 1j \\\\\n",
    "                        4 & -1j & 1\n",
    "                   \\end{pmatrix}\n",
    "$$\n",
    "\n",
    "our function indicates that this is indeed a Hermitian matrix as it holds that\n",
    "\n",
    "$$\n",
    "A = A^*.\n",
    "$$"
   ]
  },
  {
   "cell_type": "code",
   "execution_count": 2,
   "metadata": {},
   "outputs": [
    {
     "data": {
      "text/plain": [
       "True"
      ]
     },
     "execution_count": 2,
     "metadata": {},
     "output_type": "execute_result"
    }
   ],
   "source": [
    "mat = np.array([[2, 2 + 1j, 4], [2 - 1j, 3, 1j], [4, -1j, 1]])\n",
    "is_hermitian(mat)"
   ]
  },
  {
   "cell_type": "markdown",
   "metadata": {},
   "source": [
    "Alternatively, the following example matrix $B$ defined as\n",
    "\n",
    "$$\n",
    "B = \\begin{pmatrix}\n",
    "                        1 & 2 & 3 \\\\\n",
    "                        4 & 5 & 6 \\\\\n",
    "                        7 & 8 & 9\n",
    "                     \\end{pmatrix}\n",
    "$$\n",
    "\n",
    "is not Hermitian."
   ]
  },
  {
   "cell_type": "code",
   "execution_count": 3,
   "metadata": {},
   "outputs": [
    {
     "data": {
      "text/plain": [
       "False"
      ]
     },
     "execution_count": 3,
     "metadata": {},
     "output_type": "execute_result"
    }
   ],
   "source": [
    "mat = np.array([[1, 2, 3], [4, 5, 6], [7, 8, 9]])\n",
    "is_hermitian(mat)"
   ]
  },
  {
   "cell_type": "markdown",
   "metadata": {},
   "source": [
    "## References"
   ]
  },
  {
   "cell_type": "markdown",
   "metadata": {},
   "source": [
    "[1] Wikipedia: Hermitian matrix.\n",
    "        https://en.wikipedia.org/wiki/Hermitian_matrix"
   ]
  }
 ],
 "metadata": {
  "kernelspec": {
   "display_name": "Python 3",
   "language": "python",
   "name": "python3"
  },
  "language_info": {
   "codemirror_mode": {
    "name": "ipython",
    "version": 3
   },
   "file_extension": ".py",
   "mimetype": "text/x-python",
   "name": "python",
   "nbconvert_exporter": "python",
   "pygments_lexer": "ipython3",
   "version": "3.7.6"
  }
 },
 "nbformat": 4,
 "nbformat_minor": 2
}
