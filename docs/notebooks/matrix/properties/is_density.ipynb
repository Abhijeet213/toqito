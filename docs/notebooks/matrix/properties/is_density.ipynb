{
 "cells": [
  {
   "cell_type": "markdown",
   "metadata": {},
   "source": [
    "# Is density matrix"
   ]
  },
  {
   "cell_type": "markdown",
   "metadata": {},
   "source": [
    "Check if matrix is a density matrix.\n",
    "\n",
    "A matrix is a density matrix if its trace is equal to one and it has the property of being positive semidefinite (PSD).\n"
   ]
  },
  {
   "cell_type": "markdown",
   "metadata": {},
   "source": [
    "## Examples"
   ]
  },
  {
   "cell_type": "code",
   "execution_count": 7,
   "metadata": {},
   "outputs": [],
   "source": [
    "from toqito.linear_algebra.properties.is_density import is_density\n",
    "from toqito.states.states.bell import bell\n",
    "\n",
    "import numpy as np"
   ]
  },
  {
   "cell_type": "markdown",
   "metadata": {},
   "source": [
    "Consider the Bell state\n",
    "\n",
    "$$\n",
    "   u = \\frac{1}{\\sqrt{2}} |00 \\rangle + \\frac{1}{\\sqrt{2}} |11 \\rangle.\n",
    "$$\n",
    "\n",
    "Constructing the matrix $\\rho = u u^*$ defined as \n",
    "\n",
    "$$\n",
    "\\rho = \\frac{1}{2} \\begin{pmatrix}\n",
    "                        1 & 0 & 0 & 1 \\\\\n",
    "                        0 & 0 & 0 & 0 \\\\\n",
    "                        0 & 0 & 0 & 0 \\\\\n",
    "                        1 & 0 & 0 & 1\n",
    "                   \\end{pmatrix}\n",
    "$$\n",
    "\n",
    "our function indicates that this is indeed a density operator as the trace of $\\rho$ is equal to $1$ and the matrix is positive semidefinite:"
   ]
  },
  {
   "cell_type": "code",
   "execution_count": 8,
   "metadata": {},
   "outputs": [
    {
     "data": {
      "text/plain": [
       "True"
      ]
     },
     "execution_count": 8,
     "metadata": {},
     "output_type": "execute_result"
    }
   ],
   "source": [
    "rho = bell(0) * bell(0).conj().T\n",
    "is_density(rho)"
   ]
  },
  {
   "cell_type": "markdown",
   "metadata": {},
   "source": [
    "Alternatively, the following example matrix $\\sigma$ defined as\n",
    "\n",
    "$$\n",
    "\\sigma = \\frac{1}{2} \\begin{pmatrix}\n",
    "                        1 & 2 \\\\\n",
    "                        3 & 1\n",
    "                     \\end{pmatrix}\n",
    "$$\n",
    "\n",
    "does satisfy $\\text{Tr}(\\sigma) = 1$, however fails to be positive semidefinite, and is therefore not a density operator. This can be illustrated using `toqito` as follows."
   ]
  },
  {
   "cell_type": "code",
   "execution_count": 12,
   "metadata": {},
   "outputs": [
    {
     "data": {
      "text/plain": [
       "False"
      ]
     },
     "execution_count": 12,
     "metadata": {},
     "output_type": "execute_result"
    }
   ],
   "source": [
    "sigma = 1/2 * np.array([[1, 2], [3, 1]])\n",
    "is_density(sigma)"
   ]
  },
  {
   "cell_type": "markdown",
   "metadata": {},
   "source": [
    "## References"
   ]
  },
  {
   "cell_type": "markdown",
   "metadata": {},
   "source": [
    "[1] Wikipedia: Density matrix\n",
    "https://en.wikipedia.org/wiki/Density_matrix"
   ]
  }
 ],
 "metadata": {
  "kernelspec": {
   "display_name": "Python 3",
   "language": "python",
   "name": "python3"
  },
  "language_info": {
   "codemirror_mode": {
    "name": "ipython",
    "version": 3
   },
   "file_extension": ".py",
   "mimetype": "text/x-python",
   "name": "python",
   "nbconvert_exporter": "python",
   "pygments_lexer": "ipython3",
   "version": "3.7.6"
  }
 },
 "nbformat": 4,
 "nbformat_minor": 2
}
