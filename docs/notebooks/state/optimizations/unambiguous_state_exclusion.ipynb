{
 "cells": [
  {
   "cell_type": "markdown",
   "metadata": {},
   "source": [
    "# Unambiguous state exclusion"
   ]
  },
  {
   "cell_type": "markdown",
   "metadata": {},
   "source": [
    "Compute probability of unambiguous state exclusion.\n",
    "\n",
    "This function implements the following semidefinite program that provides the optimal probability with which Bob can conduct quantum state exclusion.\n",
    "\n",
    "$$\n",
    "\\begin{align*}\n",
    "            \\text{maximize:} \\quad & \\sum_{i=0}^n \\sum_{j=0}^n\n",
    "                                     \\langle M_i, \\rho_j \\rangle \\\\\n",
    "            \\text{subject to:} \\quad & \\sum_{i=0}^n M_i \\leq \\mathbb{I},\\\\\n",
    "                                     & \\text{Tr}(\\rho_i M_i) = 0,\n",
    "                                       \\quad \\quad \\forall 1  \\leq i \\leq n, \\\\\n",
    "                                     & M_0, \\ldots, M_n \\geq 0\n",
    "            \\end{align*}\n",
    "$$"
   ]
  },
  {
   "cell_type": "markdown",
   "metadata": {},
   "source": [
    "## Examples"
   ]
  },
  {
   "cell_type": "code",
   "execution_count": 3,
   "metadata": {},
   "outputs": [],
   "source": [
    "from toqito.state.optimizations.unambiguous_state_exclusion import unambiguous_state_exclusion\n",
    "from toqito.state.states.bell import bell\n",
    "import numpy as np"
   ]
  },
  {
   "cell_type": "markdown",
   "metadata": {},
   "source": [
    "Consider the following two Bell states\n",
    "\n",
    "$$\n",
    "u_0 = \\frac{1}{\\sqrt{2}} \\left( |00 \\rangle + |11 \\rangle \\right) \\\\\n",
    "u_1 = \\frac{1}{\\sqrt{2}} \\left( |00 \\rangle - |11 \\rangle \\right).\n",
    "$$\n",
    "\n",
    "For the corresponding density matrices $\\rho_0 = u_0 u_0^*$ and $\\rho_1 = u_1 u_1^*$, we may construct a set\n",
    "\n",
    "$$\n",
    "\\rho = \\{\\rho_0, \\rho_1 \\}\n",
    "$$\n",
    "\n",
    "such that \n",
    "\n",
    "$$\n",
    "p = \\{1/2, 1/2\\}.\n",
    "$$\n",
    "\n",
    "It is not possible to unambiguously exclude either of the two states. We can see that the result of the function in `toqito` yields a value of $0$ as the probability for this to occur."
   ]
  },
  {
   "cell_type": "code",
   "execution_count": 2,
   "metadata": {},
   "outputs": [
    {
     "data": {
      "text/plain": [
       "-7.250173600116328e-18"
      ]
     },
     "execution_count": 2,
     "metadata": {},
     "output_type": "execute_result"
    }
   ],
   "source": [
    "\"\"\"Conclusive state exclusion for two Bell state density matrices.\"\"\"\n",
    "rho1 = bell(0) * bell(0).conj().T\n",
    "rho2 = bell(1) * bell(1).conj().T\n",
    "        \n",
    "states = [rho1, rho2]\n",
    "probs = [1/2, 1/2]\n",
    "\n",
    "unambiguous_state_exclusion(states, probs)"
   ]
  },
  {
   "cell_type": "markdown",
   "metadata": {},
   "source": [
    "## References\n",
    "\n",
    "[1] \"Conclusive exclusion of quantum states\"\n",
    "        Bandyopadhyay, Somshubhro, et al.\n",
    "        Physical Review A 89.2 (2014): 022336.\n",
    "        arXiv:1306.4683"
   ]
  }
 ],
 "metadata": {
  "kernelspec": {
   "display_name": "Python 3",
   "language": "python",
   "name": "python3"
  },
  "language_info": {
   "codemirror_mode": {
    "name": "ipython",
    "version": 3
   },
   "file_extension": ".py",
   "mimetype": "text/x-python",
   "name": "python",
   "nbconvert_exporter": "python",
   "pygments_lexer": "ipython3",
   "version": "3.7.6"
  }
 },
 "nbformat": 4,
 "nbformat_minor": 2
}
