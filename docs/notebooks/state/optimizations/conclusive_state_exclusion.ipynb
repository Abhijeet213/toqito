{
 "cells": [
  {
   "cell_type": "markdown",
   "metadata": {},
   "source": [
    "# Conclusive state exclusion"
   ]
  },
  {
   "cell_type": "markdown",
   "metadata": {},
   "source": [
    "Compute probability of conclusive single state exclusion.\n",
    "\n",
    "The \"quantum state exclusion\" problem involves a collection of $n$ quantum states\n",
    "\n",
    "$$\n",
    "        \\rho = \\{ \\rho_0, \\ldots, \\rho_n \\},\n",
    "$$\n",
    "\n",
    "as well as a list of corresponding probabilities\n",
    "\n",
    "$$\n",
    "        p = \\{ p_0, \\ldots, p_n \\}\n",
    "$$        \n",
    "\n",
    "Alice chooses $i$ with probability $p_i$ and creates the state $\\rho_i$.\n",
    "\n",
    "Bob wants to guess which state he was *not* given from the collection of states. State exclusion implies that ability to discard (with certainty) at least one out of the \"n\" possible quantum states by applying a measurement.\n",
    "\n",
    "This function implements the following semidefinite program that provides the optimal probability with which Bob can conduct quantum state exclusion.\n",
    "\n",
    "$$\n",
    "            \\begin{equation}\n",
    "                \\begin{aligned}\n",
    "                    \\text{minimize:} \\quad & \\sum_{i=0}^n p_i \\langle M_i,\n",
    "                                                \\rho_i \\rangle \\\\\n",
    "                    \\text{subject to:} \\quad & M_0 + \\ldots + M_n =\n",
    "                                               \\mathbb{I}, \\\\\n",
    "                                             & M_0, \\ldots, M_n >= 0\n",
    "                \\end{aligned}\n",
    "            \\end{equation}\n",
    "$$"
   ]
  },
  {
   "cell_type": "markdown",
   "metadata": {},
   "source": [
    "## Examples"
   ]
  },
  {
   "cell_type": "code",
   "execution_count": 2,
   "metadata": {},
   "outputs": [],
   "source": [
    "from toqito.states.optimizations.conclusive_state_exclusion import conclusive_state_exclusion\n",
    "from toqito.states.states.bell import bell\n",
    "import numpy as np"
   ]
  },
  {
   "cell_type": "markdown",
   "metadata": {},
   "source": [
    "Consider the following two Bell states\n",
    "\n",
    "$$\n",
    "u_0 = \\frac{1}{\\sqrt{2}} \\left( |00 \\rangle + |11 \\rangle \\right) \\\\\n",
    "u_1 = \\frac{1}{\\sqrt{2}} \\left( |00 \\rangle - |11 \\rangle \\right).\n",
    "$$\n",
    "\n",
    "For the corresponding density matrices $\\rho_0 = u_0 u_0^*$ and $\\rho_1 = u_1 u_1^*$, we may construct a set\n",
    "\n",
    "$$\n",
    "\\rho = \\{\\rho_0, \\rho_1 \\}\n",
    "$$\n",
    "\n",
    "such that \n",
    "\n",
    "$$\n",
    "p = \\{1/2, 1/2\\}.\n",
    "$$\n",
    "\n",
    "It is not possible to conclusively exclude either of the two states. We can see that the result of the function in `toqito` yields a value of $0$ as the probability for this to occur."
   ]
  },
  {
   "cell_type": "code",
   "execution_count": 5,
   "metadata": {},
   "outputs": [
    {
     "data": {
      "text/plain": [
       "1.6824720366950206e-09"
      ]
     },
     "execution_count": 5,
     "metadata": {},
     "output_type": "execute_result"
    }
   ],
   "source": [
    "\"\"\"Conclusive state exclusion for two Bell state density matrices.\"\"\"\n",
    "rho1 = bell(0) * bell(0).conj().T\n",
    "rho2 = bell(1) * bell(1).conj().T\n",
    "        \n",
    "states = [rho1, rho2]\n",
    "probs = [1/2, 1/2]\n",
    "\n",
    "conclusive_state_exclusion(states, probs)"
   ]
  },
  {
   "cell_type": "markdown",
   "metadata": {},
   "source": [
    "## References\n",
    "\n",
    "[1] \"On the reality of the quantum state\"\n",
    "        Pusey, Matthew F., Jonathan Barrett, and Terry Rudolph.\n",
    "        Nature Physics 8.6 (2012): 475-478.\n",
    "        arXiv:1111.3328\n",
    "\n",
    "[2] \"Conclusive exclusion of quantum states\"\n",
    "        Bandyopadhyay, Somshubhro, et al.\n",
    "        Physical Review A 89.2 (2014): 022336.\n",
    "        arXiv:1306.4683"
   ]
  }
 ],
 "metadata": {
  "kernelspec": {
   "display_name": "Python 3",
   "language": "python",
   "name": "python3"
  },
  "language_info": {
   "codemirror_mode": {
    "name": "ipython",
    "version": 3
   },
   "file_extension": ".py",
   "mimetype": "text/x-python",
   "name": "python",
   "nbconvert_exporter": "python",
   "pygments_lexer": "ipython3",
   "version": "3.7.6"
  }
 },
 "nbformat": 4,
 "nbformat_minor": 2
}
