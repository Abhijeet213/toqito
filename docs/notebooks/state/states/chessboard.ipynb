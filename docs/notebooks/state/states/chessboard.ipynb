{
 "cells": [
  {
   "cell_type": "markdown",
   "metadata": {},
   "source": [
    "# Chessboard state"
   ]
  },
  {
   "cell_type": "markdown",
   "metadata": {},
   "source": [
    "Produce a chessboard state.\n",
    "\n",
    "Generates the chessboard state defined in [1]. Note that, for certain\n",
    "    choices of S and T, this state will not have positive partial transpose,\n",
    "    and thus may not be bound entangled.\n"
   ]
  },
  {
   "cell_type": "markdown",
   "metadata": {},
   "source": [
    "## Examples"
   ]
  },
  {
   "cell_type": "code",
   "execution_count": 2,
   "metadata": {},
   "outputs": [],
   "source": [
    "from toqito.state.states.chessboard import chessboard"
   ]
  },
  {
   "cell_type": "markdown",
   "metadata": {},
   "source": [
    "The standard chessboard state can be invoked using `toqito` as"
   ]
  },
  {
   "cell_type": "code",
   "execution_count": 3,
   "metadata": {},
   "outputs": [
    {
     "data": {
      "text/plain": [
       "array([[ 0.22592593,  0.        ,  0.12962963,  0.        ,  0.        ,\n",
       "         0.        ,  0.17777778,  0.        ,  0.        ],\n",
       "       [ 0.        ,  0.01851852,  0.        ,  0.        ,  0.        ,\n",
       "         0.01111111,  0.        ,  0.02962963,  0.        ],\n",
       "       [ 0.12962963,  0.        ,  0.18148148,  0.        ,  0.15555556,\n",
       "         0.        ,  0.        ,  0.        ,  0.        ],\n",
       "       [ 0.        ,  0.        ,  0.        ,  0.01851852,  0.        ,\n",
       "         0.02222222,  0.        , -0.01481481,  0.        ],\n",
       "       [ 0.        ,  0.        ,  0.15555556,  0.        ,  0.22592593,\n",
       "         0.        , -0.14814815,  0.        ,  0.        ],\n",
       "       [ 0.        ,  0.01111111,  0.        ,  0.02222222,  0.        ,\n",
       "         0.03333333,  0.        ,  0.        ,  0.        ],\n",
       "       [ 0.17777778,  0.        ,  0.        ,  0.        , -0.14814815,\n",
       "         0.        ,  0.23703704,  0.        ,  0.        ],\n",
       "       [ 0.        ,  0.02962963,  0.        , -0.01481481,  0.        ,\n",
       "         0.        ,  0.        ,  0.05925926,  0.        ],\n",
       "       [ 0.        ,  0.        ,  0.        ,  0.        ,  0.        ,\n",
       "         0.        ,  0.        ,  0.        ,  0.        ]])"
      ]
     },
     "execution_count": 3,
     "metadata": {},
     "output_type": "execute_result"
    }
   ],
   "source": [
    "\"\"\"The chessboard_state.\"\"\"\n",
    "chessboard([1, 2, 3, 4, 5, 6], 7, 8)"
   ]
  },
  {
   "cell_type": "markdown",
   "metadata": {},
   "source": [
    "## References"
   ]
  },
  {
   "cell_type": "markdown",
   "metadata": {},
   "source": [
    "[1] Three qubits can be entangled in two inequivalent ways.\n",
    "        D. Bruss and A. Peres\n",
    "        Phys. Rev. A, 61:30301(R), 2000\n",
    "        arXiv: 991.1056"
   ]
  }
 ],
 "metadata": {
  "kernelspec": {
   "display_name": "Python 3",
   "language": "python",
   "name": "python3"
  },
  "language_info": {
   "codemirror_mode": {
    "name": "ipython",
    "version": 3
   },
   "file_extension": ".py",
   "mimetype": "text/x-python",
   "name": "python",
   "nbconvert_exporter": "python",
   "pygments_lexer": "ipython3",
   "version": "3.7.6"
  }
 },
 "nbformat": 4,
 "nbformat_minor": 2
}
