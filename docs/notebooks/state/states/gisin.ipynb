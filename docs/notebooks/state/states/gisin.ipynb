{
 "cells": [
  {
   "cell_type": "markdown",
   "metadata": {},
   "source": [
    "# Gisin state"
   ]
  },
  {
   "cell_type": "markdown",
   "metadata": {},
   "source": [
    "Produce a Gisin state.\n",
    "\n",
    "Returns the Gisin state described in [1].\n",
    "\n",
    "$$\n",
    "        \\begin{equation}\n",
    "            \\rho_{\\lambda, \\theta} = \\lambda \n",
    "                                    \\begin{pmatrix}\n",
    "                                        0 & 0 & 0 & 0 \\\\\n",
    "                                        0 & \\sin^2(\\theta) & \n",
    "                                        -\\sin(\\theta)\\cos(\\theta) & 0 \\\\\n",
    "                                        0 & -\\sin(\\theta)\\cos(\\theta) &\n",
    "                                        \\cos^2(\\theta) & 0 \\\\\n",
    "                                        0 & 0 & 0 & 0\n",
    "                                    \\end{pmatrix} +\n",
    "                                    \\frac{1 - \\lambda}{2}\n",
    "                                    \\begin{pmatrix}\n",
    "                                        1 & 0 & 0 & 0 \\\\\n",
    "                                        0 & 0 & 0 & 0 \\\\\n",
    "                                        0 & 0 & 0 & 0 \\\\\n",
    "                                        0 & 0 & 0 & 1\n",
    "                                    \\end{pmatrix}\n",
    "        \\end{equation}\n",
    "$$"
   ]
  },
  {
   "cell_type": "markdown",
   "metadata": {},
   "source": [
    "## Examples"
   ]
  },
  {
   "cell_type": "code",
   "execution_count": 2,
   "metadata": {},
   "outputs": [],
   "source": [
    "from toqito.state.states.gisin import gisin"
   ]
  },
  {
   "cell_type": "markdown",
   "metadata": {},
   "source": [
    "The following code generates the Gisin state $\\rho_{0.5, 1}$."
   ]
  },
  {
   "cell_type": "code",
   "execution_count": 3,
   "metadata": {},
   "outputs": [
    {
     "data": {
      "text/plain": [
       "array([[ 0.25      ,  0.        ,  0.        ,  0.        ],\n",
       "       [ 0.        ,  0.35403671, -0.22732436,  0.        ],\n",
       "       [ 0.        , -0.22732436,  0.14596329,  0.        ],\n",
       "       [ 0.        ,  0.        ,  0.        ,  0.25      ]])"
      ]
     },
     "execution_count": 3,
     "metadata": {},
     "output_type": "execute_result"
    }
   ],
   "source": [
    "gisin(0.5, 1)"
   ]
  },
  {
   "cell_type": "markdown",
   "metadata": {},
   "source": [
    "## References"
   ]
  },
  {
   "cell_type": "markdown",
   "metadata": {},
   "source": [
    "[1] N. Gisin.\n",
    "        Hidden quantum nonlocality revealed by local filters.\n",
    "        (http://dx.doi.org/10.1016/S0375-9601(96)80001-6). 1996."
   ]
  }
 ],
 "metadata": {
  "kernelspec": {
   "display_name": "Python 3",
   "language": "python",
   "name": "python3"
  },
  "language_info": {
   "codemirror_mode": {
    "name": "ipython",
    "version": 3
   },
   "file_extension": ".py",
   "mimetype": "text/x-python",
   "name": "python",
   "nbconvert_exporter": "python",
   "pygments_lexer": "ipython3",
   "version": "3.7.6"
  }
 },
 "nbformat": 4,
 "nbformat_minor": 2
}
