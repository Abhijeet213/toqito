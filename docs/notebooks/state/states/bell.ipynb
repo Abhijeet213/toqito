{
 "cells": [
  {
   "cell_type": "markdown",
   "metadata": {},
   "source": [
    "# Bell state"
   ]
  },
  {
   "cell_type": "markdown",
   "metadata": {},
   "source": [
    "Produce a Bell state.\n",
    "\n",
    "Returns one of the following four Bell states depending on the value of `idx`:\n",
    "\n",
    "$$\n",
    "        \\begin{equation}\n",
    "            \\begin{aligned}\n",
    "                \\frac{1}{\\sqrt{2}} \\left( |00 \\rangle + |11 \\rangle \\right) &\n",
    "                \\qquad &\n",
    "                \\frac{1}{\\sqrt{2}} \\left( |00 \\rangle - |11 \\rangle \\right) \\\\\n",
    "                \\frac{1}{\\sqrt{2}} \\left( |01 \\rangle + |10 \\rangle \\right) &\n",
    "                \\qquad &\n",
    "                \\frac{1}{\\sqrt{2}} \\left( |01 \\rangle - |10 \\rangle \\right)\n",
    "            \\end{aligned}\n",
    "        \\end{equation}\n",
    "$$"
   ]
  },
  {
   "cell_type": "markdown",
   "metadata": {},
   "source": [
    "## Examples"
   ]
  },
  {
   "cell_type": "code",
   "execution_count": 1,
   "metadata": {},
   "outputs": [],
   "source": [
    "from toqito.state.states.bell import bell\n",
    "import numpy as np"
   ]
  },
  {
   "cell_type": "markdown",
   "metadata": {},
   "source": [
    "When `idx = 0`, this produces the following Bell state\n",
    "\n",
    "$$\n",
    "\\frac{1}{\\sqrt{2}} \\left( |00 \\rangle + |11 \\rangle \\right).\n",
    "$$\n",
    "\n",
    "Using `toqito`, we can see that this yields the proper state."
   ]
  },
  {
   "cell_type": "code",
   "execution_count": 3,
   "metadata": {},
   "outputs": [
    {
     "data": {
      "text/plain": [
       "array([[0.70710678],\n",
       "       [0.        ],\n",
       "       [0.        ],\n",
       "       [0.70710678]])"
      ]
     },
     "execution_count": 3,
     "metadata": {},
     "output_type": "execute_result"
    }
   ],
   "source": [
    "\"\"\"Generate the Bell state: `1/sqrt(2) * (|00> + |11>)`.\"\"\"\n",
    "bell(0)"
   ]
  },
  {
   "cell_type": "markdown",
   "metadata": {},
   "source": [
    "## References"
   ]
  },
  {
   "cell_type": "markdown",
   "metadata": {},
   "source": [
    "[1] Wikipedia: Bell state\n",
    "        https://en.wikipedia.org/wiki/Bell_state"
   ]
  }
 ],
 "metadata": {
  "kernelspec": {
   "display_name": "Python 3",
   "language": "python",
   "name": "python3"
  },
  "language_info": {
   "codemirror_mode": {
    "name": "ipython",
    "version": 3
   },
   "file_extension": ".py",
   "mimetype": "text/x-python",
   "name": "python",
   "nbconvert_exporter": "python",
   "pygments_lexer": "ipython3",
   "version": "3.7.6"
  }
 },
 "nbformat": 4,
 "nbformat_minor": 2
}
