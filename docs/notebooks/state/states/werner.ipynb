{
 "cells": [
  {
   "cell_type": "markdown",
   "metadata": {},
   "source": [
    "# Werner state"
   ]
  },
  {
   "cell_type": "markdown",
   "metadata": {},
   "source": [
    "Produce a Werner state.\n",
    "\n",
    "A Werner state is a state of the following form\n",
    "\n",
    "$$\n",
    "        \\begin{equation}\n",
    "            \\rho_{\\alpha} = \\frac{1}{d^2 - d\\alpha} \\left(\\mathbb{I} \\otimes\n",
    "            \\mathbb{I} - \\alpha S \\right) \\in \\mathbb{C}^d \\otimes \\mathbb{C}^d\n",
    "        \\end{equation}\n",
    "$$\n",
    "\n",
    "Yields a Werner state with parameter `alpha` acting on `(dim * dim)`-dimensional space. More specifically, `rho` is the density operator defined by (I - `alpha`*S) (normalized to have trace 1), where I is the density operator and S is the operator that swaps two copies of `dim`-dimensional space (see swap and swap_operator for example).\n",
    "\n",
    "If `alpha` is a vector with p!-1 entries, for some integer p > 1, then a multipartite Werner state is returned. This multipartite Werner state is the normalization of I - `alpha(1)*P(2)` - ... - `alpha(p!-1)*P(p!)`, where P(i) is the operator that permutes p subsystems according to the i-th permutation when they are written in lexicographical order (for example, the lexicographical ordering when p = 3 is:\n",
    "        \n",
    "        [1, 2, 3], [1, 3, 2], [2, 1,3], [2, 3, 1], [3, 1, 2], [3, 2, 1],\n",
    "\n",
    "so P(4) in this case equals permutation_operator(dim, [2, 3, 1])."
   ]
  },
  {
   "cell_type": "markdown",
   "metadata": {},
   "source": [
    "## Examples"
   ]
  },
  {
   "cell_type": "code",
   "execution_count": 1,
   "metadata": {},
   "outputs": [],
   "source": [
    "from toqito.state.states.werner import werner"
   ]
  },
  {
   "cell_type": "markdown",
   "metadata": {},
   "source": [
    "Computing the qutrit Werner state with $\\alpha = 1/2$ can be done in `toqito` as"
   ]
  },
  {
   "cell_type": "code",
   "execution_count": 2,
   "metadata": {},
   "outputs": [
    {
     "data": {
      "text/plain": [
       "array([[ 0.06666667,  0.        ,  0.        ,  0.        ,  0.        ,\n",
       "         0.        ,  0.        ,  0.        ,  0.        ],\n",
       "       [ 0.        ,  0.13333333,  0.        , -0.06666667,  0.        ,\n",
       "         0.        ,  0.        ,  0.        ,  0.        ],\n",
       "       [ 0.        ,  0.        ,  0.13333333,  0.        ,  0.        ,\n",
       "         0.        , -0.06666667,  0.        ,  0.        ],\n",
       "       [ 0.        , -0.06666667,  0.        ,  0.13333333,  0.        ,\n",
       "         0.        ,  0.        ,  0.        ,  0.        ],\n",
       "       [ 0.        ,  0.        ,  0.        ,  0.        ,  0.06666667,\n",
       "         0.        ,  0.        ,  0.        ,  0.        ],\n",
       "       [ 0.        ,  0.        ,  0.        ,  0.        ,  0.        ,\n",
       "         0.13333333,  0.        , -0.06666667,  0.        ],\n",
       "       [ 0.        ,  0.        , -0.06666667,  0.        ,  0.        ,\n",
       "         0.        ,  0.13333333,  0.        ,  0.        ],\n",
       "       [ 0.        ,  0.        ,  0.        ,  0.        ,  0.        ,\n",
       "        -0.06666667,  0.        ,  0.13333333,  0.        ],\n",
       "       [ 0.        ,  0.        ,  0.        ,  0.        ,  0.        ,\n",
       "         0.        ,  0.        ,  0.        ,  0.06666667]])"
      ]
     },
     "execution_count": 2,
     "metadata": {},
     "output_type": "execute_result"
    }
   ],
   "source": [
    "\"\"\"Qutrit Werner state with `alpha`=1/2.\"\"\"\n",
    "werner(3, 1 / 2)"
   ]
  },
  {
   "cell_type": "markdown",
   "metadata": {},
   "source": [
    "We may also compute multipartite Werner states in `toqito` as well."
   ]
  },
  {
   "cell_type": "code",
   "execution_count": 3,
   "metadata": {},
   "outputs": [
    {
     "data": {
      "text/plain": [
       "array([[ 0.12179487,  0.        ,  0.        ,  0.        ,  0.        ,\n",
       "         0.        ,  0.        ,  0.        ],\n",
       "       [ 0.        ,  0.12820513,  0.        ,  0.        , -0.00641026,\n",
       "         0.        ,  0.        ,  0.        ],\n",
       "       [ 0.        ,  0.        ,  0.12179487,  0.        ,  0.        ,\n",
       "         0.        ,  0.        ,  0.        ],\n",
       "       [ 0.        ,  0.        ,  0.        ,  0.12820513,  0.        ,\n",
       "         0.        , -0.00641026,  0.        ],\n",
       "       [ 0.        , -0.00641026,  0.        ,  0.        ,  0.12820513,\n",
       "         0.        ,  0.        ,  0.        ],\n",
       "       [ 0.        ,  0.        ,  0.        ,  0.        ,  0.        ,\n",
       "         0.12179487,  0.        ,  0.        ],\n",
       "       [ 0.        ,  0.        ,  0.        , -0.00641026,  0.        ,\n",
       "         0.        ,  0.12820513,  0.        ],\n",
       "       [ 0.        ,  0.        ,  0.        ,  0.        ,  0.        ,\n",
       "         0.        ,  0.        ,  0.12179487]])"
      ]
     },
     "execution_count": 3,
     "metadata": {},
     "output_type": "execute_result"
    }
   ],
   "source": [
    "\"\"\"Multipartite Werner state.\"\"\"\n",
    "werner(2, [0.01, 0.02, 0.03, 0.04, 0.05])"
   ]
  },
  {
   "cell_type": "markdown",
   "metadata": {},
   "source": [
    "## References"
   ]
  },
  {
   "cell_type": "markdown",
   "metadata": {},
   "source": [
    "[1] R. F. Werner. \n",
    "        Quantum states with Einstein-Podolsky-Rosen correlations admitting a \n",
    "        hidden-variable model. Phys. Rev. A, 40(8):4277–4281"
   ]
  }
 ],
 "metadata": {
  "kernelspec": {
   "display_name": "Python 3",
   "language": "python",
   "name": "python3"
  },
  "language_info": {
   "codemirror_mode": {
    "name": "ipython",
    "version": 3
   },
   "file_extension": ".py",
   "mimetype": "text/x-python",
   "name": "python",
   "nbconvert_exporter": "python",
   "pygments_lexer": "ipython3",
   "version": "3.7.6"
  }
 },
 "nbformat": 4,
 "nbformat_minor": 2
}
