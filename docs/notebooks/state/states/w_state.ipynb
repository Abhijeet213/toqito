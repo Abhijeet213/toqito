{
 "cells": [
  {
   "cell_type": "markdown",
   "metadata": {},
   "source": [
    "# W-state"
   ]
  },
  {
   "cell_type": "markdown",
   "metadata": {},
   "source": [
    "Produce a W-state.\n",
    "\n",
    "Returns the W-state described in [1]. The W-state on `num_qubits` qubits is defined by:\n",
    "    \n",
    "$$\n",
    "        |W \\rangle = \\frac{1}{\\sqrt{num\\_qubits}} \n",
    "        \\left(|100 \\ldots 0 \\rangle + |010 \\ldots 0 \\rangle + \\ldots + \n",
    "        |000 \\ldots 1 \\rangle \\right).\n",
    "$$"
   ]
  },
  {
   "cell_type": "markdown",
   "metadata": {},
   "source": [
    "## Examples"
   ]
  },
  {
   "cell_type": "code",
   "execution_count": 3,
   "metadata": {},
   "outputs": [],
   "source": [
    "from toqito.states.states.w_state import w_state\n",
    "import numpy as np"
   ]
  },
  {
   "cell_type": "markdown",
   "metadata": {},
   "source": [
    "Using `toqito`, we can generate the 3-qubit W-state \n",
    "\n",
    "$$\n",
    "|W_3 \\rangle = \\frac{1}{\\sqrt{3}} \\left( |100\\rangle + |010 \\rangle + |001 \\rangle \\right)\n",
    "$$\n",
    "\n",
    "as follows."
   ]
  },
  {
   "cell_type": "code",
   "execution_count": 4,
   "metadata": {},
   "outputs": [
    {
     "data": {
      "text/plain": [
       "array([[0.    ],\n",
       "       [0.5774],\n",
       "       [0.5774],\n",
       "       [0.    ],\n",
       "       [0.5774],\n",
       "       [0.    ],\n",
       "       [0.    ],\n",
       "       [0.    ]])"
      ]
     },
     "execution_count": 4,
     "metadata": {},
     "output_type": "execute_result"
    }
   ],
   "source": [
    "\"\"\"The 3-qubit W-state.\"\"\"\n",
    "w_state(3)"
   ]
  },
  {
   "cell_type": "markdown",
   "metadata": {},
   "source": [
    "We may also generate a generalized $W$-state. For instance, here is a $4$-dimensional $W$-state\n",
    "\n",
    "$$\n",
    "\\frac{1}{\\sqrt{30}} \\left( |1000 \\rangle + 2|0100 \\rangle + 3|0010 \\rangle + 4 |0001 \\rangle \\right)\n",
    "$$\n",
    "\n",
    "We can generate this state in `toqito` as"
   ]
  },
  {
   "cell_type": "code",
   "execution_count": 5,
   "metadata": {},
   "outputs": [
    {
     "data": {
      "text/plain": [
       "array([[0.    ],\n",
       "       [0.7303],\n",
       "       [0.5477],\n",
       "       [0.    ],\n",
       "       [0.3651],\n",
       "       [0.    ],\n",
       "       [0.    ],\n",
       "       [0.    ],\n",
       "       [0.1826],\n",
       "       [0.    ],\n",
       "       [0.    ],\n",
       "       [0.    ],\n",
       "       [0.    ],\n",
       "       [0.    ],\n",
       "       [0.    ],\n",
       "       [0.    ]])"
      ]
     },
     "execution_count": 5,
     "metadata": {},
     "output_type": "execute_result"
    }
   ],
   "source": [
    "\"\"\"Generalized 4-qubit W-state.\"\"\"\n",
    "coeffs = np.array([1, 2, 3, 4]) / np.sqrt(30)\n",
    "w_state(4, coeffs)"
   ]
  },
  {
   "cell_type": "markdown",
   "metadata": {},
   "source": [
    "## References"
   ]
  },
  {
   "cell_type": "markdown",
   "metadata": {},
   "source": [
    "[1] Three qubits can be entangled in two inequivalent ways.\n",
    "        W. Dur, G. Vidal, and J. I. Cirac.\n",
    "        E-print: arXiv:quant-ph/0005115, 2000."
   ]
  }
 ],
 "metadata": {
  "kernelspec": {
   "display_name": "Python 3",
   "language": "python",
   "name": "python3"
  },
  "language_info": {
   "codemirror_mode": {
    "name": "ipython",
    "version": 3
   },
   "file_extension": ".py",
   "mimetype": "text/x-python",
   "name": "python",
   "nbconvert_exporter": "python",
   "pygments_lexer": "ipython3",
   "version": "3.7.6"
  }
 },
 "nbformat": 4,
 "nbformat_minor": 2
}
