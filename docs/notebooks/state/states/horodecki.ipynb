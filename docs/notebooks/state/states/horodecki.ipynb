{
 "cells": [
  {
   "cell_type": "markdown",
   "metadata": {},
   "source": [
    "# Horodecki state"
   ]
  },
  {
   "cell_type": "markdown",
   "metadata": {},
   "source": [
    "Produce a Horodecki state.\n",
    "\n",
    "Returns the Horodecki state in either $(3 \\otimes 3)$-dimensional\n",
    "    space or $(2 \\otimes 4)$-dimensional space, depending on the\n",
    "    dimensions in the 1-by-2 vector `dim`.\n",
    "\n",
    "The Horodecki state was introduced in [1] which serves as an example in\n",
    "    $\\mathbb{C}^3 \\otimes \\mathbb{C}$ or $\\mathbb{C}^2 \\otimes\n",
    "    \\mathbb{C}^4$ of an entangled state that is positive under partial\n",
    "    transpose (PPT). The state is PPT for all $a \\in [0, 1]$ and\n",
    "    separable only for `a_param = 0` or `a_param = 1`.\n",
    "\n",
    "These states have the following definitions:\n",
    "\n",
    "$$\n",
    "        \\begin{equation}\n",
    "            \\rho_a^{3 \\otimes 3} = \\frac{1}{8a + 1}\n",
    "            \\begin{pmatrix}\n",
    "                a & 0 & 0 & 0 & a & 0 & 0 & 0 & a \\\\\n",
    "                0 & a & 0 & 0 & 0 & 0 & 0 & 0 & 0 \\\\\n",
    "                0 & 0 & a & 0 & 0 & 0 & 0 & 0 & 0 \\\\\n",
    "                0 & 0 & 0 & a & 0 & 0 & 0 & 0 & 0 \\\\\n",
    "                0 & 0 & 0 & 0 & a & 0 & 0 & 0 & 0 \\\\\n",
    "                0 & 0 & 0 & 0 & 0 & a & 0 & 0 & 0 \\\\\n",
    "                0 & 0 & 0 & 0 & 0 & 0 & \\frac{1}{2} \n",
    "                \\left( 1 + a \\right) & 0 & \\frac{1}{2} \\sqrt{1 - a^2} \\\\\n",
    "                0 & 0 & 0 & 0 & 0 & 0 & 0 & a & 0 \\\\\n",
    "                0 & 0 & 0 & 0 & 0 & 0 & \\frac{1}{2} \\sqrt{1 - a^2} & 0 \n",
    "                & \\frac{1}{2} \\left(1 + a \\right) \\\\\n",
    "            \\end{pmatrix}\n",
    "        \\end{equation}\n",
    "$$\n",
    "\n",
    "$$\n",
    "        \\begin{equation}\n",
    "            \\rho_a^{2 \\otimes 4} = \\frac{1}{7a + 1}\n",
    "            \\begin{pmatrix}\n",
    "                a & 0 & 0 & 0 & 0 & a & 0 & 0  \\\\\n",
    "                0 & a & 0 & 0 & 0 & 0 & a & 0 \\\\\n",
    "                0 & 0 & a & 0 & 0 & 0 & 0 & a  \\\\\n",
    "                0 & 0 & 0 & a & 0 & 0 & 0 & 0  \\\\\n",
    "                0 & 0 & 0 & 0 & \\frac{1}{2} \\left(1 + a\\right) & 0 & 0\n",
    "                & \\frac{1}{2}\\sqrt{1 -a^2} \\\\\n",
    "                a & 0 & 0 & 0 & 0 & a & 0 & 0 \\\\\n",
    "                0 & a & 0 & 0 & 0 & 0 & a & 0 \\\\\n",
    "                0 & 0 & a & 0 & \\frac{1}{2}\\sqrt{1 - a^2} & 0 & 0\n",
    "                & \\frac{1}{2}\\left(1 +a \\right)\n",
    "            \\end{pmatrix}\n",
    "        \\end{equation}\n",
    "$$\n",
    "\n",
    "Note: Refer to [2] (specifically equations (1) and (2)) for more information\n",
    "    on this state and its properties. The 3x3 Horodecki state is defined\n",
    "    explicitly in Section 4.1 of [1] and the 2x4 Horodecki state is defined\n",
    "    explicitly in Section 4.2 of [1]."
   ]
  },
  {
   "cell_type": "markdown",
   "metadata": {},
   "source": [
    "## Examples"
   ]
  },
  {
   "cell_type": "code",
   "execution_count": 6,
   "metadata": {},
   "outputs": [],
   "source": [
    "from toqito.state.states.horodecki import horodecki"
   ]
  },
  {
   "cell_type": "markdown",
   "metadata": {},
   "source": [
    "The following code generates a Horodecki state in $\\mathbb{C}^3 \\otimes \\mathbb{C}^3$ "
   ]
  },
  {
   "cell_type": "code",
   "execution_count": 7,
   "metadata": {},
   "outputs": [
    {
     "data": {
      "text/plain": [
       "array([[0.1       , 0.        , 0.        , 0.        , 0.1       ,\n",
       "        0.        , 0.        , 0.        , 0.1       ],\n",
       "       [0.        , 0.1       , 0.        , 0.        , 0.        ,\n",
       "        0.        , 0.        , 0.        , 0.        ],\n",
       "       [0.        , 0.        , 0.1       , 0.        , 0.        ,\n",
       "        0.        , 0.        , 0.        , 0.        ],\n",
       "       [0.        , 0.        , 0.        , 0.1       , 0.        ,\n",
       "        0.        , 0.        , 0.        , 0.        ],\n",
       "       [0.1       , 0.        , 0.        , 0.        , 0.1       ,\n",
       "        0.        , 0.        , 0.        , 0.1       ],\n",
       "       [0.        , 0.        , 0.        , 0.        , 0.        ,\n",
       "        0.1       , 0.        , 0.        , 0.        ],\n",
       "       [0.        , 0.        , 0.        , 0.        , 0.        ,\n",
       "        0.        , 0.15      , 0.        , 0.08660254],\n",
       "       [0.        , 0.        , 0.        , 0.        , 0.        ,\n",
       "        0.        , 0.        , 0.1       , 0.        ],\n",
       "       [0.1       , 0.        , 0.        , 0.        , 0.1       ,\n",
       "        0.        , 0.08660254, 0.        , 0.15      ]])"
      ]
     },
     "execution_count": 7,
     "metadata": {},
     "output_type": "execute_result"
    }
   ],
   "source": [
    "\"\"\"The 3-by-3 Horodecki state.\"\"\"\n",
    "horodecki(0.5, [3, 3])"
   ]
  },
  {
   "cell_type": "markdown",
   "metadata": {},
   "source": [
    "The following code generates a Horodecki state in $\\mathbb{C}^2 \\otimes \\mathbb{C}^4$ "
   ]
  },
  {
   "cell_type": "code",
   "execution_count": 8,
   "metadata": {},
   "outputs": [
    {
     "data": {
      "text/plain": [
       "array([[0.11111111, 0.        , 0.        , 0.        , 0.        ,\n",
       "        0.11111111, 0.        , 0.        ],\n",
       "       [0.        , 0.11111111, 0.        , 0.        , 0.        ,\n",
       "        0.        , 0.11111111, 0.        ],\n",
       "       [0.        , 0.        , 0.11111111, 0.        , 0.        ,\n",
       "        0.        , 0.        , 0.11111111],\n",
       "       [0.        , 0.        , 0.        , 0.11111111, 0.        ,\n",
       "        0.        , 0.        , 0.        ],\n",
       "       [0.        , 0.        , 0.        , 0.        , 0.16666667,\n",
       "        0.        , 0.        , 0.09622504],\n",
       "       [0.11111111, 0.        , 0.        , 0.        , 0.        ,\n",
       "        0.11111111, 0.        , 0.        ],\n",
       "       [0.        , 0.11111111, 0.        , 0.        , 0.        ,\n",
       "        0.        , 0.11111111, 0.        ],\n",
       "       [0.        , 0.        , 0.11111111, 0.        , 0.09622504,\n",
       "        0.        , 0.        , 0.16666667]])"
      ]
     },
     "execution_count": 8,
     "metadata": {},
     "output_type": "execute_result"
    }
   ],
   "source": [
    "\"\"\"The 2-by-4 Horodecki state.\"\"\"\n",
    "horodecki(0.5, [2, 4])"
   ]
  },
  {
   "cell_type": "markdown",
   "metadata": {},
   "source": [
    "## References"
   ]
  },
  {
   "cell_type": "markdown",
   "metadata": {},
   "source": [
    "[1] P. Horodecki.\n",
    "        Separability criterion and inseparable mixed states with positive\n",
    "        partial transpose.\n",
    "        arXiv: 970.3004.\n",
    "\n",
    "[2] K. Chruscinski.\n",
    "        On the symmetry of the seminal Horodecki state.\n",
    "        arXiv: 1009.4385."
   ]
  }
 ],
 "metadata": {
  "kernelspec": {
   "display_name": "Python 3",
   "language": "python",
   "name": "python3"
  },
  "language_info": {
   "codemirror_mode": {
    "name": "ipython",
    "version": 3
   },
   "file_extension": ".py",
   "mimetype": "text/x-python",
   "name": "python",
   "nbconvert_exporter": "python",
   "pygments_lexer": "ipython3",
   "version": "3.7.6"
  }
 },
 "nbformat": 4,
 "nbformat_minor": 2
}
