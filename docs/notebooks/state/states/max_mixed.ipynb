{
 "cells": [
  {
   "cell_type": "markdown",
   "metadata": {},
   "source": [
    "# Maximally mixed state"
   ]
  },
  {
   "cell_type": "markdown",
   "metadata": {},
   "source": [
    "Produce the maximally mixed state.\n",
    "\n",
    "Produces the maximally mixed state on of `dim` dimensions. The maximally mixed state is defined as\n",
    "\n",
    "$$\n",
    "        \\frac{1}{d} \\begin{pmatrix}\n",
    "                        1 & 0 & \\ldots & 0 \\\\\n",
    "                        0 & 1 & \\ldots & 0 \\\\\n",
    "                        \\vdots & \\vdots & \\ddots & \\vdots \\\\\n",
    "                        0 & 0 & \\ldots & 1\n",
    "                    \\end{pmatrix}\n",
    "$$\n",
    "\n",
    "The maximally mixed state is returned as a sparse matrix if `is_sparse = True` and is full if `is_sparse = False`."
   ]
  },
  {
   "cell_type": "markdown",
   "metadata": {},
   "source": [
    "## Examples"
   ]
  },
  {
   "cell_type": "code",
   "execution_count": 2,
   "metadata": {},
   "outputs": [],
   "source": [
    "from toqito.states.states.max_mixed import max_mixed"
   ]
  },
  {
   "cell_type": "markdown",
   "metadata": {},
   "source": [
    "Using `toqito`, we can generate the $2$-dimensional maximally mixed state\n",
    "\n",
    "$$\n",
    "\\frac{1}{2}\n",
    "\\begin{pmatrix}\n",
    "    1 & 0 \\\\\n",
    "    0 & 1\n",
    "\\end{pmatrix}\n",
    "$$\n",
    "\n",
    "as follows."
   ]
  },
  {
   "cell_type": "code",
   "execution_count": 4,
   "metadata": {},
   "outputs": [
    {
     "data": {
      "text/plain": [
       "array([[0.5, 0. ],\n",
       "       [0. , 0.5]])"
      ]
     },
     "execution_count": 4,
     "metadata": {},
     "output_type": "execute_result"
    }
   ],
   "source": [
    "\"\"\"Generate full 2-dimensional maximally mixed state.\"\"\"\n",
    "max_mixed(2, is_sparse=False)"
   ]
  },
  {
   "cell_type": "markdown",
   "metadata": {},
   "source": [
    "One may also generate a maximally mixed state returned as a sparse matrix"
   ]
  },
  {
   "cell_type": "code",
   "execution_count": 5,
   "metadata": {},
   "outputs": [
    {
     "data": {
      "text/plain": [
       "<2x2 sparse matrix of type '<class 'numpy.float64'>'\n",
       "\twith 2 stored elements (1 diagonals) in DIAgonal format>"
      ]
     },
     "execution_count": 5,
     "metadata": {},
     "output_type": "execute_result"
    }
   ],
   "source": [
    "\"\"\"Generate sparse 2-dimensional maximally mixed state.\"\"\"\n",
    "max_mixed(2, is_sparse=True)"
   ]
  },
  {
   "cell_type": "markdown",
   "metadata": {},
   "source": [
    "## References"
   ]
  },
  {
   "cell_type": "markdown",
   "metadata": {},
   "source": [
    "[1] Scott Aaronson: Lecture 6, Thurs Feb 2: Mixed States\n",
    "        https://www.scottaaronson.com/qclec/6.pdf"
   ]
  }
 ],
 "metadata": {
  "kernelspec": {
   "display_name": "Python 3",
   "language": "python",
   "name": "python3"
  },
  "language_info": {
   "codemirror_mode": {
    "name": "ipython",
    "version": 3
   },
   "file_extension": ".py",
   "mimetype": "text/x-python",
   "name": "python",
   "nbconvert_exporter": "python",
   "pygments_lexer": "ipython3",
   "version": "3.7.6"
  }
 },
 "nbformat": 4,
 "nbformat_minor": 2
}
