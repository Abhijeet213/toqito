{
 "cells": [
  {
   "cell_type": "markdown",
   "metadata": {},
   "source": [
    "# Domino state"
   ]
  },
  {
   "cell_type": "markdown",
   "metadata": {},
   "source": [
    "Produce a domino state.\n",
    "\n",
    "The orthonormal product basis of domino states is given as\n",
    "\n",
    "$$\n",
    "        \\begin{equation}\n",
    "            \\begin{aligned}\n",
    "            |\\phi_0\\rangle = |1\\rangle\n",
    "                            |1 \\rangle \\qquad\n",
    "            |\\phi_1\\rangle = |0 \\rangle\n",
    "                            \\left(\\frac{|0 \\rangle + |1 \\rangle}{\\sqrt{2}}\n",
    "                            \\right) & \\qquad\n",
    "            |\\phi_2\\rangle = |0\\rangle\n",
    "                            \\left(\\frac{|0\\rangle - |1\\rangle}{\\sqrt{2}}\\right)\n",
    "                            \\\\\n",
    "            |\\phi_3\\rangle = |2\\rangle\n",
    "                            \\left(\\frac{|0\\rangle + |1\\rangle}{\\sqrt{2}}\\right)\n",
    "                            \\qquad\n",
    "            |\\phi_4\\rangle = |2\\rangle\n",
    "                            \\left(\\frac{|0\\rangle - |1\\rangle}{\\sqrt{2}}\\right)\n",
    "                            & \\qquad\n",
    "            |\\phi_5\\rangle = \\left(\\frac{|0\\rangle + |1\\rangle}{\\sqrt{2}}\\right)\n",
    "                            |0\\rangle \\\\\n",
    "            |\\phi_6\\rangle = \\left(\\frac{|0\\rangle - |1\\rangle}{\\sqrt{2}}\\right)\n",
    "                            |0\\rangle \\qquad\n",
    "            |\\phi_7\\rangle = \\left(\\frac{|0\\rangle + |1\\rangle}{\\sqrt{2}}\\right)\n",
    "                            |2\\rangle & \\qquad\n",
    "            |\\phi_8\\rangle = \\left(\\frac{|0\\rangle - |1\\rangle}{\\sqrt{2}}\\right)\n",
    "                            |2\\rangle\n",
    "            \\end{aligned}\n",
    "        \\end{equation}\n",
    "$$\n",
    "\n",
    "Returns one of the following nine domino states depending on the value\n",
    "    of `idx`:"
   ]
  },
  {
   "cell_type": "markdown",
   "metadata": {},
   "source": [
    "## Examples"
   ]
  },
  {
   "cell_type": "code",
   "execution_count": 1,
   "metadata": {},
   "outputs": [],
   "source": [
    "from toqito.state.states.domino import domino"
   ]
  },
  {
   "cell_type": "markdown",
   "metadata": {},
   "source": [
    "When `idx = 0`, this produces the following Domino state\n",
    "\n",
    "$$\n",
    "|\\phi_0 \\rangle = |11 \\rangle |11 \\rangle.\n",
    "$$\n",
    "\n",
    "Using `toqito`, we can see that this yields the proper state."
   ]
  },
  {
   "cell_type": "code",
   "execution_count": 4,
   "metadata": {},
   "outputs": [
    {
     "data": {
      "text/plain": [
       "array([[0],\n",
       "       [0],\n",
       "       [0],\n",
       "       [0],\n",
       "       [1],\n",
       "       [0],\n",
       "       [0],\n",
       "       [0],\n",
       "       [0]])"
      ]
     },
     "execution_count": 4,
     "metadata": {},
     "output_type": "execute_result"
    }
   ],
   "source": [
    "domino(0)"
   ]
  },
  {
   "cell_type": "markdown",
   "metadata": {},
   "source": [
    "When `idx = 3`, this produces the following Domino state\n",
    "\n",
    "$$\n",
    "|\\phi_3\\rangle = |2\\rangle \\left(\\frac{|0\\rangle + |1\\rangle}{\\sqrt{2}}\\right)\n",
    "$$\n",
    "\n",
    "Using `toqito`, we can see that this yields the proper state."
   ]
  },
  {
   "cell_type": "code",
   "execution_count": 5,
   "metadata": {},
   "outputs": [
    {
     "data": {
      "text/plain": [
       "array([[0.        ],\n",
       "       [0.        ],\n",
       "       [0.        ],\n",
       "       [0.        ],\n",
       "       [0.        ],\n",
       "       [0.        ],\n",
       "       [0.        ],\n",
       "       [0.70710678],\n",
       "       [0.70710678]])"
      ]
     },
     "execution_count": 5,
     "metadata": {},
     "output_type": "execute_result"
    }
   ],
   "source": [
    "domino(3)"
   ]
  },
  {
   "cell_type": "markdown",
   "metadata": {},
   "source": [
    "## References"
   ]
  },
  {
   "cell_type": "markdown",
   "metadata": {},
   "source": [
    "[1] Bennett, Charles H., et al.\n",
    "        Quantum nonlocality without entanglement.\n",
    "        Phys. Rev. A, 59:1070–1091, Feb 1999.\n",
    "        https://arxiv.org/abs/quant-ph/9804053\n",
    "\n",
    "[2] Bennett, Charles H., et al.\n",
    "        \"Unextendible product bases and bound entanglement.\"\n",
    "        Physical Review Letters 82.26 (1999): 5385."
   ]
  }
 ],
 "metadata": {
  "kernelspec": {
   "display_name": "Python 3",
   "language": "python",
   "name": "python3"
  },
  "language_info": {
   "codemirror_mode": {
    "name": "ipython",
    "version": 3
   },
   "file_extension": ".py",
   "mimetype": "text/x-python",
   "name": "python",
   "nbconvert_exporter": "python",
   "pygments_lexer": "ipython3",
   "version": "3.7.6"
  }
 },
 "nbformat": 4,
 "nbformat_minor": 2
}
