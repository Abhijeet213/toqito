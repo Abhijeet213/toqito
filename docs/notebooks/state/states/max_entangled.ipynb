{
 "cells": [
  {
   "cell_type": "markdown",
   "metadata": {},
   "source": [
    "# Maximally entangled state"
   ]
  },
  {
   "cell_type": "markdown",
   "metadata": {},
   "source": [
    "Produce a maximally entangled bipartite pure state.\n",
    "\n",
    "Produces a maximally entangled pure state as above that is sparse\n",
    "    if `is_sparse = True` and is full if `is_sparse = False`. The pure state\n",
    "    is normalized to have Euclidean norm 1 if `is_normalized = True`, and it\n",
    "    is unnormalized (i.e. each entry in the vector is 0 or 1 and the\n",
    "    Euclidean norm of the vector is `sqrt(dim)` if `is_normalized = False`."
   ]
  },
  {
   "cell_type": "markdown",
   "metadata": {},
   "source": [
    "## Examples"
   ]
  },
  {
   "cell_type": "code",
   "execution_count": 2,
   "metadata": {},
   "outputs": [],
   "source": [
    "from toqito.states.states.max_entangled import max_entangled"
   ]
  },
  {
   "cell_type": "markdown",
   "metadata": {},
   "source": [
    "We can generate the canonical $2$-dimensional maximally entangled state\n",
    "\n",
    "$$\n",
    "\\frac{1}{\\sqrt{2}} \\left( |00 \\rangle + |11 \\rangle \\right)\n",
    "$$\n",
    "\n",
    "using `toqito` as follows."
   ]
  },
  {
   "cell_type": "code",
   "execution_count": 4,
   "metadata": {},
   "outputs": [
    {
     "data": {
      "text/plain": [
       "array([[0.70710678],\n",
       "       [0.        ],\n",
       "       [0.        ],\n",
       "       [0.70710678]])"
      ]
     },
     "execution_count": 4,
     "metadata": {},
     "output_type": "execute_result"
    }
   ],
   "source": [
    "\"\"\"Generate maximally entangled state: `1/sqrt(2) * (|00> + |11>)`.\"\"\"\n",
    "max_entangled(2)"
   ]
  },
  {
   "cell_type": "markdown",
   "metadata": {},
   "source": [
    "By default, the state returned in normalized, however we can generate the unnormalized state\n",
    "\n",
    "$$\n",
    "|00\\rangle + |11 \\rangle\n",
    "$$\n",
    "\n",
    "using `toqito` as follows."
   ]
  },
  {
   "cell_type": "code",
   "execution_count": 6,
   "metadata": {},
   "outputs": [
    {
     "data": {
      "text/plain": [
       "array([[1.],\n",
       "       [0.],\n",
       "       [0.],\n",
       "       [1.]])"
      ]
     },
     "execution_count": 6,
     "metadata": {},
     "output_type": "execute_result"
    }
   ],
   "source": [
    "\"\"\"Generate maximally entangled state: `|00> + |11>`.\"\"\"\n",
    "max_entangled(2, False, False)"
   ]
  },
  {
   "cell_type": "markdown",
   "metadata": {},
   "source": [
    "## References"
   ]
  },
  {
   "cell_type": "markdown",
   "metadata": {},
   "source": [
    "[1] Wikipedia: Quantum entanglement\n",
    "        https://en.wikipedia.org/wiki/Quantum_entanglement"
   ]
  }
 ],
 "metadata": {
  "kernelspec": {
   "display_name": "Python 3",
   "language": "python",
   "name": "python3"
  },
  "language_info": {
   "codemirror_mode": {
    "name": "ipython",
    "version": 3
   },
   "file_extension": ".py",
   "mimetype": "text/x-python",
   "name": "python",
   "nbconvert_exporter": "python",
   "pygments_lexer": "ipython3",
   "version": "3.7.6"
  }
 },
 "nbformat": 4,
 "nbformat_minor": 2
}
