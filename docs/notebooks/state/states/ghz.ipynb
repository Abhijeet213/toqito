{
 "cells": [
  {
   "cell_type": "markdown",
   "metadata": {},
   "source": [
    "# GHZ state"
   ]
  },
  {
   "cell_type": "markdown",
   "metadata": {},
   "source": [
    "Generate a (generalized) GHZ state.\n",
    "\n",
    "Returns a `num_qubits`-partite GHZ state acting on `dim` local dimensions,\n",
    "    described in [1]. For example, `ghz(2, 3)` returns the standard\n",
    "    3-qubit GHZ state on qubits. The output of this function is sparse.\n",
    "\n",
    "For a system of `num_qubits` qubits (i.e., `dim = 2`), the GHZ state can be\n",
    "    written as\n",
    "\n",
    "$$\n",
    "    |GHZ \\rangle = \\frac{1}{\\sqrt{2}}(|0 \\rangle^{\\otimes n} + |1 \\rangle^{\\otimes n})\n",
    "$$"
   ]
  },
  {
   "cell_type": "markdown",
   "metadata": {},
   "source": [
    "## Examples"
   ]
  },
  {
   "cell_type": "code",
   "execution_count": 5,
   "metadata": {},
   "outputs": [],
   "source": [
    "from toqito.states.states.ghz import ghz"
   ]
  },
  {
   "cell_type": "markdown",
   "metadata": {},
   "source": [
    "When `dim = 2`, and `num_qubits = 3` this produces the standard GHZ state\n",
    "\n",
    "$$\n",
    "\\frac{1}{\\sqrt{2}} \\left( |000 \\rangle + |111 \\rangle \\right).\n",
    "$$\n",
    "\n",
    "Using `toqito`, we can see that this yields the proper state."
   ]
  },
  {
   "cell_type": "code",
   "execution_count": 7,
   "metadata": {},
   "outputs": [
    {
     "data": {
      "text/plain": [
       "array([[0.70710678],\n",
       "       [0.        ],\n",
       "       [0.        ],\n",
       "       [0.        ],\n",
       "       [0.        ],\n",
       "       [0.        ],\n",
       "       [0.        ],\n",
       "       [0.70710678]])"
      ]
     },
     "execution_count": 7,
     "metadata": {},
     "output_type": "execute_result"
    }
   ],
   "source": [
    "\"\"\"Produces the 3-qubit GHZ state: `1/sqrt(2) * (|000> + |111>)`.\"\"\"\n",
    "ghz(2, 3).toarray()"
   ]
  },
  {
   "cell_type": "markdown",
   "metadata": {},
   "source": [
    "As this function covers the generalized GHZ state, we can consider higher dimensions. For instance here is the GHZ state in $\\mathbb{C^4}^{\\otimes 7}$ as \n",
    "\n",
    "$$\n",
    "\\frac{1}{\\sqrt{30}} \\left( |0000000 \\rangle 2|1111111 \\rangle + 3|2222222 \\rangle + 4|3333333\\rangle \\right)\n",
    "$$\n",
    "\n",
    "Using `toqito`, we can see this generates the appropriate generalized GHZ state."
   ]
  },
  {
   "cell_type": "code",
   "execution_count": 10,
   "metadata": {},
   "outputs": [
    {
     "data": {
      "text/plain": [
       "array([[0.18257419],\n",
       "       [0.        ],\n",
       "       [0.        ],\n",
       "       ...,\n",
       "       [0.        ],\n",
       "       [0.        ],\n",
       "       [0.73029674]])"
      ]
     },
     "execution_count": 10,
     "metadata": {},
     "output_type": "execute_result"
    }
   ],
   "source": [
    "\"\"\"\n",
    "The following generates the following GHZ state.\n",
    "    `1/sqrt(30) * (|0000000> + 2|1111111> + 3|2222222> + 4|3333333>)`.\n",
    "\"\"\"\n",
    "ghz(4, 7, np.array([1, 2, 3, 4]) / np.sqrt(30)).toarray()"
   ]
  },
  {
   "cell_type": "markdown",
   "metadata": {},
   "source": [
    "## References"
   ]
  },
  {
   "cell_type": "markdown",
   "metadata": {},
   "source": [
    "[1] Going beyond Bell's theorem.\n",
    "        D. Greenberger and M. Horne and A. Zeilinger.\n",
    "        E-print: [quant-ph] arXiv:0712.0921. 2007."
   ]
  }
 ],
 "metadata": {
  "kernelspec": {
   "display_name": "Python 3",
   "language": "python",
   "name": "python3"
  },
  "language_info": {
   "codemirror_mode": {
    "name": "ipython",
    "version": 3
   },
   "file_extension": ".py",
   "mimetype": "text/x-python",
   "name": "python",
   "nbconvert_exporter": "python",
   "pygments_lexer": "ipython3",
   "version": "3.7.6"
  }
 },
 "nbformat": 4,
 "nbformat_minor": 2
}
