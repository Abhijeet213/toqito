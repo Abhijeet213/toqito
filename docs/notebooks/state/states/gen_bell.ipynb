{
 "cells": [
  {
   "cell_type": "markdown",
   "metadata": {},
   "source": [
    "# Generalized Bell state"
   ]
  },
  {
   "cell_type": "markdown",
   "metadata": {},
   "source": [
    " Produce a generalized Bell state.\n",
    "\n",
    "Produces a generalized Bell state. Note that the standard Bell states can be recovered as:\n",
    "\n",
    "```\n",
    "    bell(0) -> gen_bell(0, 0, 2)\n",
    "    bell(1) -> gen_bell(0, 1, 2)\n",
    "    bell(2) -> gen_bell(1, 0, 2)\n",
    "    bell(3) -> gen_bell(1, 1, 2)\n",
    "```"
   ]
  },
  {
   "cell_type": "markdown",
   "metadata": {},
   "source": [
    "## Examples"
   ]
  },
  {
   "cell_type": "code",
   "execution_count": 1,
   "metadata": {},
   "outputs": [],
   "source": [
    "from toqito.state.states.gen_bell import gen_bell"
   ]
  },
  {
   "cell_type": "markdown",
   "metadata": {},
   "source": [
    "For $d = 2$ and $k_1 = k_2 = 0$, this generates the following matrix\n",
    "\n",
    "$$\n",
    "\\frac{1}{2} \\begin{pmatrix}\n",
    "                1 & 0 & 0 & 1 \\\\\n",
    "                0 & 0 & 0 & 0 \\\\\n",
    "                0 & 0 & 0 & 0 \\\\\n",
    "                1 & 0 & 0 & 1 \n",
    "            \\end{pmatrix}\n",
    "$$\n",
    "\n",
    "which is equivalent to $|\\phi_0 \\rangle \\langle \\phi_0 |$ where \n",
    "\n",
    "$$\n",
    "|\\phi_0\\rangle = \\frac{1}{\\sqrt{2}} \\left( |00 \\rangle + |11 \\rangle \\right)\n",
    "$$\n",
    "\n",
    "is one of the four standard Bell states. This can be computed via `toqito` as follows."
   ]
  },
  {
   "cell_type": "code",
   "execution_count": 3,
   "metadata": {},
   "outputs": [
    {
     "data": {
      "text/plain": [
       "array([[0.5+0.j, 0. +0.j, 0. +0.j, 0.5+0.j],\n",
       "       [0. +0.j, 0. +0.j, 0. +0.j, 0. +0.j],\n",
       "       [0. +0.j, 0. +0.j, 0. +0.j, 0. +0.j],\n",
       "       [0.5+0.j, 0. +0.j, 0. +0.j, 0.5+0.j]])"
      ]
     },
     "execution_count": 3,
     "metadata": {},
     "output_type": "execute_result"
    }
   ],
   "source": [
    "\"\"\"Generalized Bell state for k_1 = k_2 = 0 and dim = 2.\"\"\"\n",
    "dim = 2\n",
    "k_1 = 0\n",
    "k_2 = 0\n",
    "\n",
    "gen_bell(k_1, k_2, dim)"
   ]
  },
  {
   "cell_type": "markdown",
   "metadata": {},
   "source": [
    "It is possible for us to consider higher dimensional Bell states. For instance, we can consider the $3$-dimensional Bell state for $k_1 = k_2 = 0$ as follows."
   ]
  },
  {
   "cell_type": "code",
   "execution_count": 5,
   "metadata": {},
   "outputs": [
    {
     "data": {
      "text/plain": [
       "array([[0.33333333+0.j, 0.        +0.j, 0.        +0.j, 0.        +0.j,\n",
       "        0.33333333+0.j, 0.        +0.j, 0.        +0.j, 0.        +0.j,\n",
       "        0.33333333+0.j],\n",
       "       [0.        +0.j, 0.        +0.j, 0.        +0.j, 0.        +0.j,\n",
       "        0.        +0.j, 0.        +0.j, 0.        +0.j, 0.        +0.j,\n",
       "        0.        +0.j],\n",
       "       [0.        +0.j, 0.        +0.j, 0.        +0.j, 0.        +0.j,\n",
       "        0.        +0.j, 0.        +0.j, 0.        +0.j, 0.        +0.j,\n",
       "        0.        +0.j],\n",
       "       [0.        +0.j, 0.        +0.j, 0.        +0.j, 0.        +0.j,\n",
       "        0.        +0.j, 0.        +0.j, 0.        +0.j, 0.        +0.j,\n",
       "        0.        +0.j],\n",
       "       [0.33333333+0.j, 0.        +0.j, 0.        +0.j, 0.        +0.j,\n",
       "        0.33333333+0.j, 0.        +0.j, 0.        +0.j, 0.        +0.j,\n",
       "        0.33333333+0.j],\n",
       "       [0.        +0.j, 0.        +0.j, 0.        +0.j, 0.        +0.j,\n",
       "        0.        +0.j, 0.        +0.j, 0.        +0.j, 0.        +0.j,\n",
       "        0.        +0.j],\n",
       "       [0.        +0.j, 0.        +0.j, 0.        +0.j, 0.        +0.j,\n",
       "        0.        +0.j, 0.        +0.j, 0.        +0.j, 0.        +0.j,\n",
       "        0.        +0.j],\n",
       "       [0.        +0.j, 0.        +0.j, 0.        +0.j, 0.        +0.j,\n",
       "        0.        +0.j, 0.        +0.j, 0.        +0.j, 0.        +0.j,\n",
       "        0.        +0.j],\n",
       "       [0.33333333+0.j, 0.        +0.j, 0.        +0.j, 0.        +0.j,\n",
       "        0.33333333+0.j, 0.        +0.j, 0.        +0.j, 0.        +0.j,\n",
       "        0.33333333+0.j]])"
      ]
     },
     "execution_count": 5,
     "metadata": {},
     "output_type": "execute_result"
    }
   ],
   "source": [
    "dim = 3\n",
    "k_1 = 0\n",
    "k_2 = 0\n",
    "\n",
    "gen_bell(k_1, k_2, dim)"
   ]
  },
  {
   "cell_type": "markdown",
   "metadata": {},
   "source": [
    "## References"
   ]
  },
  {
   "cell_type": "markdown",
   "metadata": {},
   "source": [
    "[1] Wikipedia: Bell state\n",
    "        https://en.wikipedia.org/wiki/Bell_state"
   ]
  }
 ],
 "metadata": {
  "kernelspec": {
   "display_name": "Python 3",
   "language": "python",
   "name": "python3"
  },
  "language_info": {
   "codemirror_mode": {
    "name": "ipython",
    "version": 3
   },
   "file_extension": ".py",
   "mimetype": "text/x-python",
   "name": "python",
   "nbconvert_exporter": "python",
   "pygments_lexer": "ipython3",
   "version": "3.7.6"
  }
 },
 "nbformat": 4,
 "nbformat_minor": 2
}
