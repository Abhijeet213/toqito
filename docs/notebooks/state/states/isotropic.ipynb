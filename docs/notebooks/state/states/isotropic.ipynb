{
 "cells": [
  {
   "cell_type": "markdown",
   "metadata": {},
   "source": [
    "# Isotropic state"
   ]
  },
  {
   "cell_type": "markdown",
   "metadata": {},
   "source": [
    "Produce a isotropic state.\n",
    "\n",
    "Returns the isotropic state with parameter `alpha` acting on\n",
    "    (`dim`-by-`dim`)-dimensional space. More specifically, the state is the\n",
    "    density operator defined by `(1-alpha)*I(dim)/dim**2 + alpha*E`, where I is\n",
    "    the identity operator and E is the projection onto the standard\n",
    "    maximally-entangled pure state on two copies of `dim`-dimensional space.\n",
    "\n",
    "The isotropic state has the following form\n",
    "\n",
    "$$\n",
    "\\begin{equation}\n",
    "            \\rho_{\\alpha} = \\frac{1 - \\alpha}{d^2} \\mathbb{I} \\otimes\n",
    "            \\mathbb{I} + \\alpha |\\psi_+ \\rangle \\langle \\psi_+ | \\in\n",
    "            \\mathbb{C}^d \\otimes \\mathbb{C}^2\n",
    "        \\end{equation}\n",
    "$$\n",
    "\n",
    "where \n",
    "\n",
    "$$\n",
    "|\\psi_+ \\rangle = \\frac{1}{\\sqrt{d}} \\sum_j |j \\rangle \\otimes |j \\rangle \n",
    "$$\n",
    "\n",
    "is the maximally entangled state."
   ]
  },
  {
   "cell_type": "markdown",
   "metadata": {},
   "source": [
    "## Examples"
   ]
  },
  {
   "cell_type": "code",
   "execution_count": 2,
   "metadata": {},
   "outputs": [],
   "source": [
    "from toqito.states.states.isotropic import isotropic"
   ]
  },
  {
   "cell_type": "markdown",
   "metadata": {},
   "source": [
    "To generate the isotropic state with parameter $\\alpha=1/2$, we can make the following call to `toqito` as"
   ]
  },
  {
   "cell_type": "code",
   "execution_count": 4,
   "metadata": {},
   "outputs": [
    {
     "data": {
      "text/plain": [
       "array([[0.22222222, 0.        , 0.        , 0.        , 0.16666667,\n",
       "        0.        , 0.        , 0.        , 0.16666667],\n",
       "       [0.        , 0.05555556, 0.        , 0.        , 0.        ,\n",
       "        0.        , 0.        , 0.        , 0.        ],\n",
       "       [0.        , 0.        , 0.05555556, 0.        , 0.        ,\n",
       "        0.        , 0.        , 0.        , 0.        ],\n",
       "       [0.        , 0.        , 0.        , 0.05555556, 0.        ,\n",
       "        0.        , 0.        , 0.        , 0.        ],\n",
       "       [0.16666667, 0.        , 0.        , 0.        , 0.22222222,\n",
       "        0.        , 0.        , 0.        , 0.16666667],\n",
       "       [0.        , 0.        , 0.        , 0.        , 0.        ,\n",
       "        0.05555556, 0.        , 0.        , 0.        ],\n",
       "       [0.        , 0.        , 0.        , 0.        , 0.        ,\n",
       "        0.        , 0.05555556, 0.        , 0.        ],\n",
       "       [0.        , 0.        , 0.        , 0.        , 0.        ,\n",
       "        0.        , 0.        , 0.05555556, 0.        ],\n",
       "       [0.16666667, 0.        , 0.        , 0.        , 0.16666667,\n",
       "        0.        , 0.        , 0.        , 0.22222222]])"
      ]
     },
     "execution_count": 4,
     "metadata": {},
     "output_type": "execute_result"
    }
   ],
   "source": [
    "\"\"\"Generate a qutrit isotropic state with `alpha` = 1/2.\"\"\"\n",
    "isotropic(3, 1 / 2).toarray()"
   ]
  },
  {
   "cell_type": "markdown",
   "metadata": {},
   "source": [
    "## References"
   ]
  },
  {
   "cell_type": "markdown",
   "metadata": {},
   "source": [
    "[1] Horodecki, Michał, and Paweł Horodecki. \n",
    "        \"Reduction criterion of separability and limits for a class of \n",
    "        distillation protocols.\" Physical Review A 59.6 (1999): 4206."
   ]
  }
 ],
 "metadata": {
  "kernelspec": {
   "display_name": "Python 3",
   "language": "python",
   "name": "python3"
  },
  "language_info": {
   "codemirror_mode": {
    "name": "ipython",
    "version": 3
   },
   "file_extension": ".py",
   "mimetype": "text/x-python",
   "name": "python",
   "nbconvert_exporter": "python",
   "pygments_lexer": "ipython3",
   "version": "3.7.6"
  }
 },
 "nbformat": 4,
 "nbformat_minor": 2
}
