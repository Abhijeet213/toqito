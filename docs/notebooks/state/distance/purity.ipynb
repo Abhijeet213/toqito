{
 "cells": [
  {
   "cell_type": "markdown",
   "metadata": {},
   "source": [
    "# Purity"
   ]
  },
  {
   "cell_type": "markdown",
   "metadata": {},
   "source": [
    "Compute the purity of a quantum state."
   ]
  },
  {
   "cell_type": "markdown",
   "metadata": {},
   "source": [
    "## Examples"
   ]
  },
  {
   "cell_type": "code",
   "execution_count": 4,
   "metadata": {},
   "outputs": [],
   "source": [
    "from toqito.state.distance.purity import purity\n",
    "import numpy as np"
   ]
  },
  {
   "cell_type": "markdown",
   "metadata": {},
   "source": [
    "Consider the following scaled state defined as the scaled identity matrix\n",
    "\n",
    "$$\n",
    "\\rho = \\frac{1}{4} \\begin{pmatrix}\n",
    "                 1 & 0 & 0 & 0 \\\\\n",
    "                 0 & 1 & 0 & 0 \\\\\n",
    "                 0 & 0 & 1 & 0 \\\\\n",
    "                 0 & 0 & 0 & 1\n",
    "               \\end{pmatrix} \\in \\text{D}(\\mathcal{X}).\n",
    "$$\n",
    "\n",
    "Calculating the purity of $\\rho$ yields $\\frac{1}{4}$. This can be observed using `toqito` as follows."
   ]
  },
  {
   "cell_type": "code",
   "execution_count": 7,
   "metadata": {},
   "outputs": [
    {
     "data": {
      "text/plain": [
       "0.25"
      ]
     },
     "execution_count": 7,
     "metadata": {},
     "output_type": "execute_result"
    }
   ],
   "source": [
    "\"\"\"Test for identity matrix.\"\"\"\n",
    "purity(np.identity(4) / 4)"
   ]
  },
  {
   "cell_type": "markdown",
   "metadata": {},
   "source": [
    "## References"
   ]
  },
  {
   "cell_type": "markdown",
   "metadata": {},
   "source": [
    "[1] Wikipedia: Purity (quantum mechanics)\n",
    "        https://en.wikipedia.org/wiki/Purity_(quantum_mechanics)"
   ]
  }
 ],
 "metadata": {
  "kernelspec": {
   "display_name": "Python 3",
   "language": "python",
   "name": "python3"
  },
  "language_info": {
   "codemirror_mode": {
    "name": "ipython",
    "version": 3
   },
   "file_extension": ".py",
   "mimetype": "text/x-python",
   "name": "python",
   "nbconvert_exporter": "python",
   "pygments_lexer": "ipython3",
   "version": "3.7.6"
  }
 },
 "nbformat": 4,
 "nbformat_minor": 2
}
