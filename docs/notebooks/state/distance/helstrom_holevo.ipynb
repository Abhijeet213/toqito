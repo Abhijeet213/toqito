{
 "cells": [
  {
   "cell_type": "markdown",
   "metadata": {},
   "source": [
    "# Helstrom-Holevo distance"
   ]
  },
  {
   "cell_type": "markdown",
   "metadata": {},
   "source": [
    "Compute the Helstrom-Holevo distance between states `rho` and `sigma`.\n",
    "\n",
    "In general, the best success probability to discriminate two mixed states represented by $\\rho_1$ and $\\rho_2$ is given by 1\n",
    "\n",
    "In general, the best success probability to discriminate two mixed states represented by $\\rho$ and $\\sigma$ is given by\n",
    "\n",
    "$$\n",
    "         \\frac{1}{2}+\\frac{1}{2} \\left(\\frac{1}{2} \\left|\\rho - \\sigma \\right|_1\\right)\n",
    "$$\n"
   ]
  },
  {
   "cell_type": "markdown",
   "metadata": {},
   "source": [
    "## Examples"
   ]
  },
  {
   "cell_type": "code",
   "execution_count": 3,
   "metadata": {},
   "outputs": [],
   "source": [
    "from toqito.core.ket import ket\n",
    "from toqito.states.distance.helstrom_holevo import helstrom_holevo\n",
    "import numpy as np"
   ]
  },
  {
   "cell_type": "markdown",
   "metadata": {},
   "source": [
    "Consider the following Bell state\n",
    "\n",
    "$$\n",
    "u = \\frac{1}{\\sqrt{2}} \\left( e_0 \\otimes e_0 + e_1 \\otimes e_1 \\right) \\in \\mathcal{X}.\n",
    "$$\n",
    "\n",
    "The corresponding density matrix of $u$ may be calculated by:\n",
    "\n",
    "$$\n",
    "\\rho = u u^* = \\begin{pmatrix}\n",
    "                 1 & 0 & 0 & 1 \\\\\n",
    "                 0 & 0 & 0 & 0 \\\\\n",
    "                 0 & 0 & 0 & 0 \\\\\n",
    "                 1 & 0 & 0 & 1\n",
    "               \\end{pmatrix} \\text{D}(\\mathcal{X}).\n",
    "$$\n",
    "\n",
    "Calculating the Helstrom-Holevo distance of states that are identical yield a value of $1/2$. This can be verified in `toqito` as follows."
   ]
  },
  {
   "cell_type": "code",
   "execution_count": 5,
   "metadata": {},
   "outputs": [
    {
     "data": {
      "text/plain": [
       "0.5"
      ]
     },
     "execution_count": 5,
     "metadata": {},
     "output_type": "execute_result"
    }
   ],
   "source": [
    "\"\"\"Helstrom-Holevo distance on same state.\"\"\"\n",
    "e_0, e_1 = ket(2, 0), ket(2, 1)\n",
    "e_00 = np.kron(e_0, e_0)\n",
    "e_11 = np.kron(e_1, e_1)\n",
    "\n",
    "u_vec = 1 / np.sqrt(2) * (e_00 + e_11)\n",
    "rho = u_vec * u_vec.conj().T\n",
    "sigma = rho\n",
    "\n",
    "helstrom_holevo(rho, sigma)"
   ]
  },
  {
   "cell_type": "markdown",
   "metadata": {},
   "source": [
    "## References"
   ]
  },
  {
   "cell_type": "markdown",
   "metadata": {},
   "source": [
    "[1] Wikipedia: Holevo's theorem.\n",
    "            https://en.wikipedia.org/wiki/Holevo%27s_theorem"
   ]
  }
 ],
 "metadata": {
  "kernelspec": {
   "display_name": "Python 3",
   "language": "python",
   "name": "python3"
  },
  "language_info": {
   "codemirror_mode": {
    "name": "ipython",
    "version": 3
   },
   "file_extension": ".py",
   "mimetype": "text/x-python",
   "name": "python",
   "nbconvert_exporter": "python",
   "pygments_lexer": "ipython3",
   "version": "3.7.6"
  }
 },
 "nbformat": 4,
 "nbformat_minor": 2
}
