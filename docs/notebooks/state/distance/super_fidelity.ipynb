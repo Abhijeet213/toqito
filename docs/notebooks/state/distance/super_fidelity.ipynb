{
 "cells": [
  {
   "cell_type": "markdown",
   "metadata": {},
   "source": [
    "# Super fidelity"
   ]
  },
  {
   "cell_type": "markdown",
   "metadata": {},
   "source": [
    "Compute the super fidelity of two density matrices.\n",
    "\n",
    "The super fidelity is a measure of similarity between density operators. It is defined as\n",
    "\n",
    "$$\n",
    "    G(\\rho, \\sigma) = \\text{Tr}(\\rho \\sigma) + \\sqrt{1 - \\text{Tr}(\\rho^2)}\n",
    "    \\sqrt{1 - \\text{Tr}(\\sigma^2)},\n",
    "$$\n",
    "\n",
    "where $\\sigma$ and $\\rho$ are density matrices. The super fidelity serves as an upper bound for the fidelity."
   ]
  },
  {
   "cell_type": "markdown",
   "metadata": {},
   "source": [
    "## Examples"
   ]
  },
  {
   "cell_type": "code",
   "execution_count": null,
   "metadata": {},
   "outputs": [],
   "source": [
    "from toqito.states.states.bell import bell\n",
    "from toqito.states.distance.super_fidelity import super_fidelity"
   ]
  },
  {
   "cell_type": "markdown",
   "metadata": {},
   "source": [
    "Consider the following Bell state\n",
    "\n",
    "$$\n",
    "u = \\frac{1}{\\sqrt{2}} \\left( e_0 \\otimes e_0 + e_1 \\otimes e_1 \\right) \\in \\mathcal{X}.\n",
    "$$\n",
    "\n",
    "The corresponding density matrix of $u$ may be calculated by:\n",
    "\n",
    "$$\n",
    "\\rho = u u^* = \\frac{1}{2} \\begin{pmatrix}\n",
    "                 1 & 0 & 0 & 1 \\\\\n",
    "                 0 & 0 & 0 & 0 \\\\\n",
    "                 0 & 0 & 0 & 0 \\\\\n",
    "                 1 & 0 & 0 & 1\n",
    "               \\end{pmatrix} \\text{D}(\\mathcal{X}).\n",
    "$$\n",
    "\n",
    "In the event where we calculate the super fidelity between states that are identical, we should obtain the value of $1$. This can be observed in `toqito` as follows."
   ]
  },
  {
   "cell_type": "code",
   "execution_count": null,
   "metadata": {},
   "outputs": [],
   "source": [
    "rho = bell(0) * bell(0).conj().T\n",
    "sigma = rho\n",
    "        \n",
    "super_fidelity(rho, sigma)"
   ]
  },
  {
   "cell_type": "markdown",
   "metadata": {},
   "source": [
    "## References"
   ]
  },
  {
   "cell_type": "markdown",
   "metadata": {},
   "source": [
    "[1] J. A. Miszczak, Z. Puchała, P. Horodecki, A. Uhlmann, K. Życzkowski\n",
    "        \"Sub--and super--fidelity as bounds for quantum fidelity.\"\n",
    "        arXiv preprint arXiv:0805.2037 (2008).\n",
    "        https://arxiv.org/abs/0805.2037"
   ]
  }
 ],
 "metadata": {
  "kernelspec": {
   "display_name": "Python 3",
   "language": "python",
   "name": "python3"
  },
  "language_info": {
   "codemirror_mode": {
    "name": "ipython",
    "version": 3
   },
   "file_extension": ".py",
   "mimetype": "text/x-python",
   "name": "python",
   "nbconvert_exporter": "python",
   "pygments_lexer": "ipython3",
   "version": "3.7.6"
  }
 },
 "nbformat": 4,
 "nbformat_minor": 2
}
