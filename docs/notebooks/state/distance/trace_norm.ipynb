{
 "cells": [
  {
   "cell_type": "markdown",
   "metadata": {},
   "source": [
    "# Trace norm"
   ]
  },
  {
   "cell_type": "markdown",
   "metadata": {},
   "source": [
    "Compute the trace norm of the matrix $\\rho$.\n",
    "\n",
    "The trace norm $||\\rho||_1$ of a density matrix $\\rho$ is the  sum of the singular values of $\\rho$. The singular values are the roots of the eignvalues of $\\rho \\rho^*$."
   ]
  },
  {
   "cell_type": "markdown",
   "metadata": {},
   "source": [
    "## Examples"
   ]
  },
  {
   "cell_type": "code",
   "execution_count": 1,
   "metadata": {},
   "outputs": [],
   "source": [
    "from toqito.state.states.bell import bell\n",
    "from toqito.state.distance.trace_norm import trace_norm"
   ]
  },
  {
   "cell_type": "markdown",
   "metadata": {},
   "source": [
    "Consider the following Bell state\n",
    "\n",
    "$$\n",
    "u = \\frac{1}{\\sqrt{2}} \\left( e_0 \\otimes e_0 + e_1 \\otimes e_1 \\right) \\in \\mathcal{X}.\n",
    "$$\n",
    "\n",
    "The corresponding density matrix of $u$ may be calculated by:\n",
    "\n",
    "$$\n",
    "\\rho = u u^* = \\begin{pmatrix}\n",
    "                 1 & 0 & 0 & 1 \\\\\n",
    "                 0 & 0 & 0 & 0 \\\\\n",
    "                 0 & 0 & 0 & 0 \\\\\n",
    "                 1 & 0 & 0 & 1\n",
    "               \\end{pmatrix} \\text{D}(\\mathcal{X}).\n",
    "$$\n",
    "\n",
    "It can be observed using `toqito` that $||\\rho||_1 = 1$ as follows."
   ]
  },
  {
   "cell_type": "code",
   "execution_count": 4,
   "metadata": {},
   "outputs": [
    {
     "data": {
      "text/plain": [
       "0.9999999999999999"
      ]
     },
     "execution_count": 4,
     "metadata": {},
     "output_type": "execute_result"
    }
   ],
   "source": [
    "rho = bell(0) * bell(0).conj().T\n",
    "trace_norm(rho)"
   ]
  },
  {
   "cell_type": "markdown",
   "metadata": {},
   "source": [
    "## References"
   ]
  },
  {
   "cell_type": "markdown",
   "metadata": {},
   "source": [
    "[1] Quantiki: Trace norm\n",
    "        https://www.quantiki.org/wiki/trace-norm"
   ]
  }
 ],
 "metadata": {
  "kernelspec": {
   "display_name": "Python 3",
   "language": "python",
   "name": "python3"
  },
  "language_info": {
   "codemirror_mode": {
    "name": "ipython",
    "version": 3
   },
   "file_extension": ".py",
   "mimetype": "text/x-python",
   "name": "python",
   "nbconvert_exporter": "python",
   "pygments_lexer": "ipython3",
   "version": "3.7.6"
  }
 },
 "nbformat": 4,
 "nbformat_minor": 2
}
