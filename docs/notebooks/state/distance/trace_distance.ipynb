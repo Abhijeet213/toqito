{
 "cells": [
  {
   "cell_type": "markdown",
   "metadata": {},
   "source": [
    "# Trace distance"
   ]
  },
  {
   "cell_type": "markdown",
   "metadata": {},
   "source": [
    "Compute the trace distance between matrices density operators $\\rho$ and $\\sigma$."
   ]
  },
  {
   "cell_type": "markdown",
   "metadata": {},
   "source": [
    "## Examples"
   ]
  },
  {
   "cell_type": "code",
   "execution_count": 3,
   "metadata": {},
   "outputs": [],
   "source": [
    "from toqito.state.states.bell import bell\n",
    "from toqito.state.distance.trace_distance import trace_distance"
   ]
  },
  {
   "cell_type": "markdown",
   "metadata": {},
   "source": [
    "Consider the following Bell state\n",
    "\n",
    "$$\n",
    "    u = \\frac{1}{\\sqrt{2}} \\left( e_0 \\otimes e_0 + e_1 \\otimes e_1 \\right) \\in \\mathcal{X}.\n",
    "$$\n",
    "\n",
    "The corresponding density matrix of $u$ may be calculated by:\n",
    "\n",
    "$$\n",
    "\\rho = u u^* = \\begin{pmatrix}\n",
    "                 1 & 0 & 0 & 1 \\\\\n",
    "                 0 & 0 & 0 & 0 \\\\\n",
    "                 0 & 0 & 0 & 0 \\\\\n",
    "                 1 & 0 & 0 & 1\n",
    "               \\end{pmatrix} \\text{D}(\\mathcal{X}).\n",
    "$$\n",
    "\n",
    "The trace distance between $\\rho$ and another state $\\sigma$ is equal to $0$ if any only if $\\rho = \\sigma$. We can check this using the `toqito` package."
   ]
  },
  {
   "cell_type": "code",
   "execution_count": 4,
   "metadata": {},
   "outputs": [
    {
     "data": {
      "text/plain": [
       "0.0"
      ]
     },
     "execution_count": 4,
     "metadata": {},
     "output_type": "execute_result"
    }
   ],
   "source": [
    "r\"\"\"Test that: :math:`T(\\rho, \\sigma) = 0` iff `\\rho = \\sigma`.\"\"\"\n",
    "rho = bell(0) * bell(0).conj().T\n",
    "sigma = rho\n",
    "\n",
    "trace_distance(rho, sigma)"
   ]
  },
  {
   "cell_type": "markdown",
   "metadata": {},
   "source": [
    "## References"
   ]
  },
  {
   "cell_type": "markdown",
   "metadata": {},
   "source": [
    "[1] Quantiki: Trace distance\n",
    "            https://www.quantiki.org/wiki/trace-distance"
   ]
  }
 ],
 "metadata": {
  "kernelspec": {
   "display_name": "Python 3",
   "language": "python",
   "name": "python3"
  },
  "language_info": {
   "codemirror_mode": {
    "name": "ipython",
    "version": 3
   },
   "file_extension": ".py",
   "mimetype": "text/x-python",
   "name": "python",
   "nbconvert_exporter": "python",
   "pygments_lexer": "ipython3",
   "version": "3.7.6"
  }
 },
 "nbformat": 4,
 "nbformat_minor": 2
}
