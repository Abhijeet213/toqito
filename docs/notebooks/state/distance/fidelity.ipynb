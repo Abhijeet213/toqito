{
 "cells": [
  {
   "cell_type": "markdown",
   "metadata": {},
   "source": [
    "# Fidelity"
   ]
  },
  {
   "cell_type": "markdown",
   "metadata": {},
   "source": [
    "Compute the fidelity of two density matrices.\n",
    "\n",
    "Calculate the fidelity between the two density matrices `rho` and `sigma`, defined by:\n",
    "\n",
    "$$\n",
    "||\\sqrt(\\rho) * \\sqrt(\\sigma)||_1\n",
    "$$\n",
    "\n",
    "where 4|| . ||_1$ denotes the trace norm. The return is a value between 0 and 1, with 0 corresponding to matrices `rho` and `sigma` with orthogonal support, and 1 corresponding to the case `rho = sigma`."
   ]
  },
  {
   "cell_type": "markdown",
   "metadata": {},
   "source": [
    "## Examples"
   ]
  },
  {
   "cell_type": "code",
   "execution_count": 3,
   "metadata": {},
   "outputs": [],
   "source": [
    "from toqito.state.distance.fidelity import fidelity\n",
    "import numpy as np"
   ]
  },
  {
   "cell_type": "markdown",
   "metadata": {},
   "source": [
    "Consider the following Bell state\n",
    "\n",
    "$$\n",
    "u = \\frac{1}{\\sqrt{2}} \\left( e_0 \\otimes e_0 + e_1 \\otimes e_1 \\right) \\in \\mathcal{X}.\n",
    "$$\n",
    "\n",
    "The corresponding density matrix of $u$ may be calculated by:\n",
    "\n",
    "$$\n",
    "\\rho = u u^* = \\frac{1}{2} \\begin{pmatrix}\n",
    "                 1 & 0 & 0 & 1 \\\\\n",
    "                 0 & 0 & 0 & 0 \\\\\n",
    "                 0 & 0 & 0 & 0 \\\\\n",
    "                 1 & 0 & 0 & 1\n",
    "               \\end{pmatrix} \\text{D}(\\mathcal{X}).\n",
    "$$\n",
    "\n",
    "In the event where we calculate the fidelity between states that are identical, we should obtain the value of $1$. This can be observed in `toqito` as follows."
   ]
  },
  {
   "cell_type": "code",
   "execution_count": 4,
   "metadata": {},
   "outputs": [
    {
     "data": {
      "text/plain": [
       "1.0000000000000002"
      ]
     },
     "execution_count": 4,
     "metadata": {},
     "output_type": "execute_result"
    }
   ],
   "source": [
    "rho = np.array(\n",
    "    [[1 / 2, 0, 0, 1 / 2], [0, 0, 0, 0], [0, 0, 0, 0], [1 / 2, 0, 0, 1 / 2]]\n",
    ")\n",
    "sigma = rho\n",
    "\n",
    "fidelity(rho, sigma)"
   ]
  },
  {
   "cell_type": "markdown",
   "metadata": {},
   "source": [
    "## References"
   ]
  },
  {
   "cell_type": "markdown",
   "metadata": {},
   "source": [
    "[1] Wikipedia: Fidelity of quantum states\n",
    "        https://en.wikipedia.org/wiki/Fidelity_of_quantum_states"
   ]
  }
 ],
 "metadata": {
  "kernelspec": {
   "display_name": "Python 3",
   "language": "python",
   "name": "python3"
  },
  "language_info": {
   "codemirror_mode": {
    "name": "ipython",
    "version": 3
   },
   "file_extension": ".py",
   "mimetype": "text/x-python",
   "name": "python",
   "nbconvert_exporter": "python",
   "pygments_lexer": "ipython3",
   "version": "3.7.6"
  }
 },
 "nbformat": 4,
 "nbformat_minor": 2
}
