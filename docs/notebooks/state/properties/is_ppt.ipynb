{
 "cells": [
  {
   "cell_type": "markdown",
   "metadata": {},
   "source": [
    "# Is PPT (positive partial transpose)"
   ]
  },
  {
   "cell_type": "markdown",
   "metadata": {},
   "source": [
    "Determine whether or not a matrix has positive partial transpose.\n",
    "\n",
    "Yields either `True` or `False`, indicating that `mat` does or does not have positive partial transpose (within numerical error). The variable `mat` is assumed to act on bipartite space.\n",
    "\n",
    "For shared systems of 2 ⊗ 2 or 2 ⊗ 3, the PPT criterion serves as a method to determine whether a given state is entangled or separable. Therefore, for systems of this size, the return value \"True\" would indicate that the state is separable and a value of \"False\" would indicate the state is entangled."
   ]
  },
  {
   "cell_type": "markdown",
   "metadata": {},
   "source": [
    "## Examples"
   ]
  },
  {
   "cell_type": "code",
   "execution_count": 4,
   "metadata": {},
   "outputs": [],
   "source": [
    "from toqito.states.states.bell import bell\n",
    "from toqito.states.properties.is_ppt import is_ppt\n",
    "import numpy as np"
   ]
  },
  {
   "cell_type": "markdown",
   "metadata": {},
   "source": [
    "Consider the following matrix\n",
    "\n",
    "$$\n",
    "\\begin{pmatrix}\n",
    "    1 & 0 & 0 & 0 & 0 & 0 & 0 & 0 & 0 \\\\\n",
    "    0 & 1 & 0 & 0 & 0 & 0 & 0 & 0 & 0 \\\\\n",
    "    0 & 0 & 1 & 0 & 0 & 0 & 0 & 0 & 0 \\\\\n",
    "    0 & 0 & 0 & 1 & 0 & 0 & 0 & 0 & 0 \\\\\n",
    "    0 & 0 & 0 & 0 & 1 & 0 & 0 & 0 & 0 \\\\\n",
    "    0 & 0 & 0 & 0 & 0 & 1 & 0 & 0 & 0 \\\\\n",
    "    0 & 0 & 0 & 0 & 0 & 0 & 1 & 0 & 0 \\\\\n",
    "    0 & 0 & 0 & 0 & 0 & 0 & 0 & 1 & 0 \\\\\n",
    "    0 & 0 & 0 & 0 & 0 & 0 & 0 & 0 & 1 \\\\    \n",
    "\\end{pmatrix}.\n",
    "$$\n",
    "\n",
    "This matrix trivially satisfies the PPT criterion as can be seen using the `toqito` package."
   ]
  },
  {
   "cell_type": "code",
   "execution_count": null,
   "metadata": {},
   "outputs": [],
   "source": [
    "\"\"\"Check that PPT matrix returns True.\"\"\"\n",
    "mat = np.identity(9)\n",
    "is_ppt(mat)"
   ]
  },
  {
   "cell_type": "markdown",
   "metadata": {},
   "source": [
    "Consider the following Bell state:\n",
    "\n",
    "$$\n",
    "u = \\frac{1}{\\sqrt{2}}\\left( |01 \\rangle + |10 \\rangle \\right)\n",
    "$$\n",
    "\n",
    "For the density matrix $\\rho = u u^*$, as this is an entangled state of dimension $2$, it will violate the PPT criterion, which can be seen using the `toqito` package."
   ]
  },
  {
   "cell_type": "code",
   "execution_count": null,
   "metadata": {},
   "outputs": [],
   "source": [
    "\"\"\"Entangled state of dimension 2 will violate PPT criterion.\"\"\"\n",
    "rho = bell(2) * bell(2).conj().T\n",
    "is_ppt(rho)"
   ]
  },
  {
   "cell_type": "markdown",
   "metadata": {},
   "source": [
    "## References"
   ]
  },
  {
   "cell_type": "markdown",
   "metadata": {},
   "source": [
    "[1] Quantiki: Positive partial transpose\n",
    "        https://www.quantiki.org/wiki/positive-partial-transpose"
   ]
  }
 ],
 "metadata": {
  "kernelspec": {
   "display_name": "Python 3",
   "language": "python",
   "name": "python3"
  },
  "language_info": {
   "codemirror_mode": {
    "name": "ipython",
    "version": 3
   },
   "file_extension": ".py",
   "mimetype": "text/x-python",
   "name": "python",
   "nbconvert_exporter": "python",
   "pygments_lexer": "ipython3",
   "version": "3.7.6"
  }
 },
 "nbformat": 4,
 "nbformat_minor": 2
}
