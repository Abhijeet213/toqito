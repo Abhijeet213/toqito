{
 "cells": [
  {
   "cell_type": "markdown",
   "metadata": {},
   "source": [
    "# is_pure"
   ]
  },
  {
   "cell_type": "markdown",
   "metadata": {},
   "source": [
    "Determine if a given state is pure or list of states are pure.\n",
    "\n",
    "A state $\\rho \\in \\text{D}(\\mathcal{X})$ is said to be *pure* if it is a density matrix with rank equal to 1. Equivalently, the state $\\rho$ is pure if there exists a unit vector $u$ such that\n",
    "\n",
    "$$\n",
    "\\rho = u u^*\n",
    "$$\n"
   ]
  },
  {
   "cell_type": "markdown",
   "metadata": {},
   "source": [
    "## Examples"
   ]
  },
  {
   "cell_type": "code",
   "execution_count": 2,
   "metadata": {},
   "outputs": [],
   "source": [
    "from toqito.state.states.bell import bell\n",
    "from toqito.state.properties.is_pure import is_pure"
   ]
  },
  {
   "cell_type": "markdown",
   "metadata": {},
   "source": [
    "Consider the following Bell state\n",
    "\n",
    "$$\n",
    "u = \\frac{1}{\\sqrt{2}} \\left( e_0 \\otimes e_0 + e_1 \\otimes e_1 \\right) \\in \\mathcal{X}.\n",
    "$$\n",
    "\n",
    "The corresponding density matrix of $u$ may be calculated by:\n",
    "\n",
    "$$\n",
    "\\rho = u u^* = \\begin{pmatrix}\n",
    "                 1 & 0 & 0 & 1 \\\\\n",
    "                 0 & 0 & 0 & 0 \\\\\n",
    "                 0 & 0 & 0 & 0 \\\\\n",
    "                 1 & 0 & 0 & 1\n",
    "               \\end{pmatrix} \\text{D}(\\mathcal{X}).\n",
    "$$\n",
    "\n",
    "Calculating the rank of $\\rho$ yields that the $\\rho$ is a pure state. This can be confirmed in `toqito` as follows:"
   ]
  },
  {
   "cell_type": "code",
   "execution_count": 3,
   "metadata": {},
   "outputs": [
    {
     "data": {
      "text/plain": [
       "True"
      ]
     },
     "execution_count": 3,
     "metadata": {},
     "output_type": "execute_result"
    }
   ],
   "source": [
    "u = bell(0)\n",
    "rho = u * u.conj().T\n",
    "is_pure(rho)"
   ]
  },
  {
   "cell_type": "markdown",
   "metadata": {},
   "source": [
    "It is also possible to determine whether a set of density matrices are pure. For instance, we can see that the density matrices corresponding to the four Bell states yield a result of `True` indicating that all states provided to the function are pure."
   ]
  },
  {
   "cell_type": "code",
   "execution_count": 4,
   "metadata": {},
   "outputs": [
    {
     "data": {
      "text/plain": [
       "True"
      ]
     },
     "execution_count": 4,
     "metadata": {},
     "output_type": "execute_result"
    }
   ],
   "source": [
    "u0, u1, u2, u3 = bell(0), bell(1), bell(2), bell(3)\n",
    "rho0 = u0 * u0.conj().T\n",
    "rho1 = u1 * u1.conj().T\n",
    "rho2 = u2 * u2.conj().T\n",
    "rho3 = u3 * u3.conj().T\n",
    "\n",
    "is_pure([rho0, rho1, rho2, rho3])"
   ]
  },
  {
   "cell_type": "markdown",
   "metadata": {},
   "source": [
    "## References"
   ]
  },
  {
   "cell_type": "markdown",
   "metadata": {},
   "source": [
    "Wikipedia: Quantum state - Pure states\n",
    "\n",
    "https://en.wikipedia.org/wiki/Quantum_state#Pure_states"
   ]
  }
 ],
 "metadata": {
  "kernelspec": {
   "display_name": "Python 3",
   "language": "python",
   "name": "python3"
  },
  "language_info": {
   "codemirror_mode": {
    "name": "ipython",
    "version": 3
   },
   "file_extension": ".py",
   "mimetype": "text/x-python",
   "name": "python",
   "nbconvert_exporter": "python",
   "pygments_lexer": "ipython3",
   "version": "3.7.6"
  }
 },
 "nbformat": 4,
 "nbformat_minor": 2
}
