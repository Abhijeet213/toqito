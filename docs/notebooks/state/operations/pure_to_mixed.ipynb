{
 "cells": [
  {
   "cell_type": "markdown",
   "metadata": {},
   "source": [
    "# Pure to mixed"
   ]
  },
  {
   "cell_type": "markdown",
   "metadata": {},
   "source": [
    "Convert a state vector or density matrix to a density matrix."
   ]
  },
  {
   "cell_type": "markdown",
   "metadata": {},
   "source": [
    "## Examples"
   ]
  },
  {
   "cell_type": "code",
   "execution_count": 1,
   "metadata": {},
   "outputs": [],
   "source": [
    "from toqito.states.states.bell import bell\n",
    "from toqito.states.operations.pure_to_mixed import pure_to_mixed\n",
    "import numpy as np"
   ]
  },
  {
   "cell_type": "markdown",
   "metadata": {},
   "source": [
    "It is possible to convert a pure state vector to a mixed state vector using the `toqito` package. Consider the following Bell state\n",
    "\n",
    "$$\n",
    "u = \\frac{1}{\\sqrt{2}} \\left( |00 \\rangle + |11 \\rangle \\right).\n",
    "$$\n",
    "\n",
    "The corresponding mixed state from $u$ is calculated as \n",
    "\n",
    "$$\n",
    "\\rho = u u^* = \\frac{1}{2} \\begin{pmatrix}\n",
    "                                1 & 0 & 0 & 1 \\\\\n",
    "                                0 & 0 & 0 & 0 \\\\\n",
    "                                0 & 0 & 0 & 0 \\\\\n",
    "                                1 & 0 & 0 & 1\n",
    "                           \\end{pmatrix}\n",
    "$$\n",
    "\n",
    "Using `toqito`, we can obtain this matrix as follows."
   ]
  },
  {
   "cell_type": "code",
   "execution_count": 4,
   "metadata": {},
   "outputs": [
    {
     "data": {
      "text/plain": [
       "array([[0.5, 0. , 0. , 0.5],\n",
       "       [0. , 0. , 0. , 0. ],\n",
       "       [0. , 0. , 0. , 0. ],\n",
       "       [0.5, 0. , 0. , 0.5]])"
      ]
     },
     "execution_count": 4,
     "metadata": {},
     "output_type": "execute_result"
    }
   ],
   "source": [
    "\"\"\"Convert pure state to mixed state vector.\"\"\"\n",
    "phi = bell(0)\n",
    "pure_to_mixed(phi)"
   ]
  },
  {
   "cell_type": "markdown",
   "metadata": {},
   "source": [
    "We can also give matrix inputs to the function in `toqito`."
   ]
  },
  {
   "cell_type": "code",
   "execution_count": 5,
   "metadata": {},
   "outputs": [
    {
     "data": {
      "text/plain": [
       "array([[0.5, 0. , 0. , 0.5],\n",
       "       [0. , 0. , 0. , 0. ],\n",
       "       [0. , 0. , 0. , 0. ],\n",
       "       [0.5, 0. , 0. , 0.5]])"
      ]
     },
     "execution_count": 5,
     "metadata": {},
     "output_type": "execute_result"
    }
   ],
   "source": [
    "\"\"\"Convert pure state to mixed state density matrix.\"\"\"\n",
    "phi = bell(0) * bell(0).conj().T\n",
    "pure_to_mixed(phi)"
   ]
  },
  {
   "cell_type": "markdown",
   "metadata": {},
   "source": [
    "## References"
   ]
  }
 ],
 "metadata": {
  "kernelspec": {
   "display_name": "Python 3",
   "language": "python",
   "name": "python3"
  },
  "language_info": {
   "codemirror_mode": {
    "name": "ipython",
    "version": 3
   },
   "file_extension": ".py",
   "mimetype": "text/x-python",
   "name": "python",
   "nbconvert_exporter": "python",
   "pygments_lexer": "ipython3",
   "version": "3.7.6"
  }
 },
 "nbformat": 4,
 "nbformat_minor": 2
}
