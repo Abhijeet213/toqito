{
 "cells": [
  {
   "cell_type": "markdown",
   "metadata": {},
   "source": [
    "# Schmidt rank"
   ]
  },
  {
   "cell_type": "markdown",
   "metadata": {},
   "source": [
    "Compute the Schmidt rank.\n",
    "\n",
    "For complex Euclidean spaces $\\mathcal{X}$ and $\\mathcal{Y}$, a pure state $u \\in \\mathcal{X} \\otimes \\mathcal{Y}$ possesses an expansion of the form:\n",
    "\n",
    "$$\n",
    "        u = \\sum_{i} \\lambda_i v_i w_i\n",
    "$$\n",
    "\n",
    "where $v_i \\in \\mathcal{X}$ and $w_i \\in \\mathcal{Y}$ are orthonormal states.\n",
    "\n",
    "The Schmidt coefficients are calculated from\n",
    "\n",
    "$$\n",
    "        A = \\text{Tr}_{\\mathcal{B}}(u^* u).\n",
    "$$        \n",
    "\n",
    "The Schmidt rank is the number of non-zero eigenvalues of A. The Schmidt rank allows us to determine if a given state is entangled or separable. For instance:\n",
    "\n",
    "        - If the Schmidt rank is 1: The state is separable\n",
    "        - If the Schmidt rank > 1: The state is entangled.\n",
    "\n",
    "Compute the Schmidt rank of the vector `vec`, assumed to live in bipartite space, where both subsystems have dimension equal to `sqrt(len(vec))`.\n",
    "\n",
    "The dimension may be specified by the 1-by-2 vector `dim` and the rank in that case is determined as the number of Schmidt coefficients larger than `tol`."
   ]
  },
  {
   "cell_type": "markdown",
   "metadata": {},
   "source": [
    "## Examples"
   ]
  },
  {
   "cell_type": "code",
   "execution_count": 5,
   "metadata": {},
   "outputs": [],
   "source": [
    "from toqito.core.ket import ket\n",
    "from toqito.states.states.bell import bell\n",
    "from toqito.states.operations.schmidt_rank import schmidt_rank\n",
    "import numpy as np"
   ]
  },
  {
   "cell_type": "markdown",
   "metadata": {},
   "source": [
    "Computing the Schmidt rank of the entangled Bell state should yield a value greater than one."
   ]
  },
  {
   "cell_type": "code",
   "execution_count": 3,
   "metadata": {},
   "outputs": [
    {
     "data": {
      "text/plain": [
       "2"
      ]
     },
     "execution_count": 3,
     "metadata": {},
     "output_type": "execute_result"
    }
   ],
   "source": [
    "rho = bell(0).conj().T * bell(0)\n",
    "schmidt_rank(rho)"
   ]
  },
  {
   "cell_type": "markdown",
   "metadata": {},
   "source": [
    "Computing the Schmidt rank of the entangled singlet state should yield a value greater than $1$."
   ]
  },
  {
   "cell_type": "code",
   "execution_count": 4,
   "metadata": {},
   "outputs": [
    {
     "data": {
      "text/plain": [
       "2"
      ]
     },
     "execution_count": 4,
     "metadata": {},
     "output_type": "execute_result"
    }
   ],
   "source": [
    "u = bell(2).conj().T * bell(2)\n",
    "schmidt_rank(u)"
   ]
  },
  {
   "cell_type": "markdown",
   "metadata": {},
   "source": [
    "Computing the Schmidt rank of a separable state should yield a value equal to 1."
   ]
  },
  {
   "cell_type": "code",
   "execution_count": 6,
   "metadata": {},
   "outputs": [
    {
     "data": {
      "text/plain": [
       "1"
      ]
     },
     "execution_count": 6,
     "metadata": {},
     "output_type": "execute_result"
    }
   ],
   "source": [
    "e_0, e_1 = ket(2, 0), ket(2, 1)\n",
    "e_00 = np.kron(e_0, e_0)\n",
    "e_01 = np.kron(e_0, e_1)\n",
    "e_10 = np.kron(e_1, e_0)\n",
    "e_11 = np.kron(e_1, e_1)\n",
    "        \n",
    "rho = 1 / 2 * (e_00 - e_01 - e_10 + e_11)\n",
    "rho = rho.conj().T * rho\n",
    "schmidt_rank(rho)"
   ]
  },
  {
   "cell_type": "markdown",
   "metadata": {},
   "source": [
    "## References"
   ]
  },
  {
   "cell_type": "markdown",
   "metadata": {},
   "source": [
    "[1] Wikipedia: Schmidt rank\n",
    "        https://en.wikipedia.org/wiki/Schmidt_decomposition#Schmidt_rank_and_entanglement"
   ]
  }
 ],
 "metadata": {
  "kernelspec": {
   "display_name": "Python 3",
   "language": "python",
   "name": "python3"
  },
  "language_info": {
   "codemirror_mode": {
    "name": "ipython",
    "version": 3
   },
   "file_extension": ".py",
   "mimetype": "text/x-python",
   "name": "python",
   "nbconvert_exporter": "python",
   "pygments_lexer": "ipython3",
   "version": "3.7.6"
  }
 },
 "nbformat": 4,
 "nbformat_minor": 2
}
