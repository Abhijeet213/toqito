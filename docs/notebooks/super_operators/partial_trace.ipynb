{
 "cells": [
  {
   "cell_type": "markdown",
   "metadata": {},
   "source": [
    "# Partial trace"
   ]
  },
  {
   "cell_type": "markdown",
   "metadata": {},
   "source": [
    "Compute the partial trace of a matrix.\n",
    "\n",
    "Gives the partial trace of the matrix X, where the dimensions of the (possibly more than 2) subsystems are given by the vector `dim` and the subsystems to take the trace on are given by the scalar or vector `sys`."
   ]
  },
  {
   "cell_type": "markdown",
   "metadata": {},
   "source": [
    "## Examples"
   ]
  },
  {
   "cell_type": "code",
   "execution_count": 1,
   "metadata": {},
   "outputs": [],
   "source": [
    "from toqito.maps.partial_trace import partial_trace\n",
    "import numpy as np"
   ]
  },
  {
   "cell_type": "markdown",
   "metadata": {},
   "source": [
    "Consider the following matrix\n",
    "\n",
    "$$\n",
    "X = \\begin{pmatrix}\n",
    "        1 & 2 & 3 & 4 \\\\\n",
    "        5 & 6 & 7 & 8 \\\\\n",
    "        9 & 10 & 11 & 12 \\\\\n",
    "        13 & 14 & 15 & 16\n",
    "    \\end{pmatrix}.\n",
    "$$\n",
    "\n",
    "Taking the partial trace over the second subsystem of $X$ yields the following matrix\n",
    "\n",
    "$$\n",
    "X_{pt, 2} = \\begin{pmatrix}\n",
    "            7 & 11 \\\\\n",
    "            23 & 27\n",
    "         \\end{pmatrix}\n",
    "$$\n",
    "\n",
    "By default, the partial trace function in `toqito` takes the trace of the second subsystem."
   ]
  },
  {
   "cell_type": "code",
   "execution_count": 4,
   "metadata": {},
   "outputs": [
    {
     "data": {
      "text/plain": [
       "array([[ 7, 11],\n",
       "       [23, 27]])"
      ]
     },
     "execution_count": 4,
     "metadata": {},
     "output_type": "execute_result"
    }
   ],
   "source": [
    "test_input_mat = np.array(\n",
    "    [[1, 2, 3, 4], [5, 6, 7, 8], [9, 10, 11, 12], [13, 14, 15, 16]]\n",
    ")\n",
    "partial_trace(test_input_mat)"
   ]
  },
  {
   "cell_type": "markdown",
   "metadata": {},
   "source": [
    "By specifying the `sys = 1` argument, we can perform the partial trace over the first subsystem (instead of the default second subsystem as done above). Performing the partial trace over the first subsystem yields the following matrix\n",
    "\n",
    "$$\n",
    "X_{pt, 1} = \\begin{pmatrix}\n",
    "                12 & 14 \\\\\n",
    "                20 & 22\n",
    "            \\end{pmatrix}\n",
    "$$"
   ]
  },
  {
   "cell_type": "code",
   "execution_count": 5,
   "metadata": {},
   "outputs": [
    {
     "data": {
      "text/plain": [
       "array([[12, 14],\n",
       "       [20, 22]])"
      ]
     },
     "execution_count": 5,
     "metadata": {},
     "output_type": "execute_result"
    }
   ],
   "source": [
    "test_input_mat = np.array(\n",
    "    [[1, 2, 3, 4], [5, 6, 7, 8], [9, 10, 11, 12], [13, 14, 15, 16]]\n",
    ")\n",
    "partial_trace(test_input_mat, 1)"
   ]
  },
  {
   "cell_type": "markdown",
   "metadata": {},
   "source": [
    "We can also specify both dimension and system size as `list` arguments. Consider the following $16$-by-$16$ matrix."
   ]
  },
  {
   "cell_type": "code",
   "execution_count": 8,
   "metadata": {},
   "outputs": [
    {
     "name": "stdout",
     "output_type": "stream",
     "text": [
      "[[  1   2   3   4   5   6   7   8   9  10  11  12  13  14  15  16]\n",
      " [ 17  18  19  20  21  22  23  24  25  26  27  28  29  30  31  32]\n",
      " [ 33  34  35  36  37  38  39  40  41  42  43  44  45  46  47  48]\n",
      " [ 49  50  51  52  53  54  55  56  57  58  59  60  61  62  63  64]\n",
      " [ 65  66  67  68  69  70  71  72  73  74  75  76  77  78  79  80]\n",
      " [ 81  82  83  84  85  86  87  88  89  90  91  92  93  94  95  96]\n",
      " [ 97  98  99 100 101 102 103 104 105 106 107 108 109 110 111 112]\n",
      " [113 114 115 116 117 118 119 120 121 122 123 124 125 126 127 128]\n",
      " [129 130 131 132 133 134 135 136 137 138 139 140 141 142 143 144]\n",
      " [145 146 147 148 149 150 151 152 153 154 155 156 157 158 159 160]\n",
      " [161 162 163 164 165 166 167 168 169 170 171 172 173 174 175 176]\n",
      " [177 178 179 180 181 182 183 184 185 186 187 188 189 190 191 192]\n",
      " [193 194 195 196 197 198 199 200 201 202 203 204 205 206 207 208]\n",
      " [209 210 211 212 213 214 215 216 217 218 219 220 221 222 223 224]\n",
      " [225 226 227 228 229 230 231 232 233 234 235 236 237 238 239 240]\n",
      " [241 242 243 244 245 246 247 248 249 250 251 252 253 254 255 256]]\n"
     ]
    }
   ],
   "source": [
    "\"\"\"16-by-16 matrix.\"\"\"\n",
    "test_input_mat = np.arange(1, 257).reshape(16, 16)\n",
    "print(test_input_mat)"
   ]
  },
  {
   "cell_type": "markdown",
   "metadata": {},
   "source": [
    "We can take the partial trace on the first and third subsystems and assume that the size of each of the 4 systems is of dimension 2."
   ]
  },
  {
   "cell_type": "code",
   "execution_count": 9,
   "metadata": {},
   "outputs": [
    {
     "data": {
      "text/plain": [
       "array([[344, 348, 360, 364],\n",
       "       [408, 412, 424, 428],\n",
       "       [600, 604, 616, 620],\n",
       "       [664, 668, 680, 684]])"
      ]
     },
     "execution_count": 9,
     "metadata": {},
     "output_type": "execute_result"
    }
   ],
   "source": [
    "partial_trace(test_input_mat, [1, 3], [2, 2, 2, 2])"
   ]
  },
  {
   "cell_type": "markdown",
   "metadata": {},
   "source": [
    "## References\n",
    "\n",
    "[1] Wikipedia: Partial trace\n",
    "        https://en.wikipedia.org/wiki/Partial_trace"
   ]
  }
 ],
 "metadata": {
  "kernelspec": {
   "display_name": "Python 3",
   "language": "python",
   "name": "python3"
  },
  "language_info": {
   "codemirror_mode": {
    "name": "ipython",
    "version": 3
   },
   "file_extension": ".py",
   "mimetype": "text/x-python",
   "name": "python",
   "nbconvert_exporter": "python",
   "pygments_lexer": "ipython3",
   "version": "3.7.6"
  }
 },
 "nbformat": 4,
 "nbformat_minor": 2
}
