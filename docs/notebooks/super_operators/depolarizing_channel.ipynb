{
 "cells": [
  {
   "cell_type": "markdown",
   "metadata": {},
   "source": [
    "# Depolarizing channel"
   ]
  },
  {
   "cell_type": "markdown",
   "metadata": {},
   "source": [
    "Produce the depolarizng channel.\n",
    "\n",
    "The depolarizng channel is the Choi matrix of the completely depolarizng channel that acts on `dim`-by-`dim` matrices.\n",
    "\n",
    "Produces the partially depolarizng channel `(1-P)*D + P*ID` where `D` is the completely depolarizing channel and `ID` is the identity channel."
   ]
  },
  {
   "cell_type": "markdown",
   "metadata": {},
   "source": [
    "## Examples"
   ]
  },
  {
   "cell_type": "code",
   "execution_count": 3,
   "metadata": {},
   "outputs": [],
   "source": [
    "from toqito.maps.apply_map import apply_map\n",
    "from toqito.maps.depolarizing import depolarizing\n",
    "import numpy as np"
   ]
  },
  {
   "cell_type": "markdown",
   "metadata": {},
   "source": [
    "The depolarizing channel maps every density matrix to the maximally-mixed state. For example, consider the density operator \n",
    "\n",
    "$$\n",
    "\\rho = \\frac{1}{2} \\begin{pmatrix}\n",
    "                     1 & 0 & 0 & 1 \\\\\n",
    "                     0 & 0 & 0 & 0 \\\\\n",
    "                     0 & 0 & 0 & 0 \\\\\n",
    "                     1 & 0 & 0 & 1\n",
    "                   \\end{pmatrix}\n",
    "$$\n",
    "\n",
    "corresponding to one of the Bell states. Applying the depolarizing channel to $\\rho$ we have that\n",
    "\n",
    "$$\n",
    "\\Phi(\\rho) = \\frac{1}{4} \\begin{pmatrix}\n",
    "                            \\frac{1}{2} & 0 & 0 & \\frac{1}{2} \\\\\n",
    "                            0 & 0 & 0 & 0 \\\\\n",
    "                            0 & 0 & 0 & 0 \\\\\n",
    "                            \\frac{1}{2} & 0 & 0 & \\frac{1}{2}\n",
    "                         \\end{pmatrix}.\n",
    "$$\n",
    "\n",
    "This can be observed in `toqito` as follows."
   ]
  },
  {
   "cell_type": "code",
   "execution_count": 4,
   "metadata": {},
   "outputs": [
    {
     "data": {
      "text/plain": [
       "matrix([[0.125, 0.   , 0.   , 0.125],\n",
       "        [0.   , 0.   , 0.   , 0.   ],\n",
       "        [0.   , 0.   , 0.   , 0.   ],\n",
       "        [0.125, 0.   , 0.   , 0.125]])"
      ]
     },
     "execution_count": 4,
     "metadata": {},
     "output_type": "execute_result"
    }
   ],
   "source": [
    "test_input_mat = np.array(\n",
    "    [[1 / 2, 0, 0, 1 / 2], [0, 0, 0, 0], [0, 0, 0, 0], [1 / 2, 0, 0, 1 / 2]]\n",
    ")\n",
    "\n",
    "apply_map(test_input_mat, depolarizing(4))"
   ]
  },
  {
   "cell_type": "markdown",
   "metadata": {},
   "source": [
    "## References\n",
    "\n",
    "[1] Wikipedia: Quantum depolarizing channel\n",
    "        https://en.wikipedia.org/wiki/Quantum_depolarizing"
   ]
  }
 ],
 "metadata": {
  "kernelspec": {
   "display_name": "Python 3",
   "language": "python",
   "name": "python3"
  },
  "language_info": {
   "codemirror_mode": {
    "name": "ipython",
    "version": 3
   },
   "file_extension": ".py",
   "mimetype": "text/x-python",
   "name": "python",
   "nbconvert_exporter": "python",
   "pygments_lexer": "ipython3",
   "version": "3.7.6"
  }
 },
 "nbformat": 4,
 "nbformat_minor": 2
}
