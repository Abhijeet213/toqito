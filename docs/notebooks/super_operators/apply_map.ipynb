{
 "cells": [
  {
   "cell_type": "markdown",
   "metadata": {},
   "source": [
    "# Apply map"
   ]
  },
  {
   "cell_type": "markdown",
   "metadata": {},
   "source": [
    "Apply a superoperator to an operator."
   ]
  },
  {
   "cell_type": "markdown",
   "metadata": {},
   "source": [
    "## Examples"
   ]
  },
  {
   "cell_type": "code",
   "execution_count": 2,
   "metadata": {},
   "outputs": [],
   "source": [
    "from toqito.super_operators.apply_map import apply_map\n",
    "from toqito.perms.swap_operator import swap_operator\n",
    "import numpy as np"
   ]
  },
  {
   "cell_type": "markdown",
   "metadata": {},
   "source": [
    "The swap operator is the Choi matrix of the transpose map. The following is a (non-ideal, but illustrative) way of computing the transpose of a matrix.\n",
    "\n",
    "Consider the following matrix\n",
    "\n",
    "$$\n",
    "X = \\begin{pmatrix}\n",
    "        1 & 4 & 7 \\\\\n",
    "        2 & 5 & 8 \\\\\n",
    "        3 & 6 & 9\n",
    "    \\end{pmatrix}\n",
    "$$\n",
    "\n",
    "\n",
    "Applying the swap operator given as \n",
    "\n",
    "$$\n",
    "    \\begin{pmatrix}\n",
    "        1 & 0 & 0 & 0 & 0 & 0 & 0 & 0 & 0 \\\\\n",
    "        0 & 0 & 0 & 1 & 0 & 0 & 0 & 0 & 0 \\\\\n",
    "        0 & 0 & 0 & 0 & 0 & 0 & 1 & 0 & 0 \\\\\n",
    "        0 & 1 & 0 & 0 & 0 & 0 & 0 & 0 & 0 \\\\\n",
    "        0 & 0 & 0 & 0 & 1 & 0 & 0 & 0 & 0 \\\\\n",
    "        0 & 0 & 0 & 0 & 0 & 0 & 0 & 1 & 0 \\\\\n",
    "        0 & 0 & 1 & 0 & 0 & 0 & 0 & 0 & 0 \\\\\n",
    "        0 & 0 & 0 & 0 & 0 & 1 & 0 & 0 & 0 \\\\\n",
    "        0 & 0 & 0 & 0 & 0 & 0 & 0 & 0 & 1\n",
    "     \\end{pmatrix}\n",
    "$$\n",
    "\n",
    "to the matrix $X$, we have the resulting matrix of \n",
    "\n",
    "$$\n",
    "X_{swap} = \\begin{pmatrix}\n",
    "                1 & 2 & 3 \\\\\n",
    "                4 & 5 & 6 \\\\\n",
    "                7 & 8 & 9\n",
    "           \\end{pmatrix}\n",
    "$$\n",
    "\n",
    "Using `toqito`, we can obtain the above matrices as follows."
   ]
  },
  {
   "cell_type": "code",
   "execution_count": 4,
   "metadata": {},
   "outputs": [
    {
     "data": {
      "text/plain": [
       "array([[1., 2., 3.],\n",
       "       [4., 5., 6.],\n",
       "       [7., 8., 9.]])"
      ]
     },
     "execution_count": 4,
     "metadata": {},
     "output_type": "execute_result"
    }
   ],
   "source": [
    "test_input_mat = np.array([[1, 4, 7], [2, 5, 8], [3, 6, 9]])\n",
    "apply_map(test_input_mat, swap_operator(3))"
   ]
  },
  {
   "cell_type": "markdown",
   "metadata": {},
   "source": [
    "## References\n"
   ]
  }
 ],
 "metadata": {
  "kernelspec": {
   "display_name": "Python 3",
   "language": "python",
   "name": "python3"
  },
  "language_info": {
   "codemirror_mode": {
    "name": "ipython",
    "version": 3
   },
   "file_extension": ".py",
   "mimetype": "text/x-python",
   "name": "python",
   "nbconvert_exporter": "python",
   "pygments_lexer": "ipython3",
   "version": "3.7.6"
  }
 },
 "nbformat": 4,
 "nbformat_minor": 2
}
