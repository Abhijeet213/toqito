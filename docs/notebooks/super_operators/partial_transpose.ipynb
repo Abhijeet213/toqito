{
 "cells": [
  {
   "cell_type": "markdown",
   "metadata": {},
   "source": [
    "# Partial transpose"
   ]
  },
  {
   "cell_type": "markdown",
   "metadata": {},
   "source": [
    "Compute the partial transpose of a matrix.\n",
    "\n",
    "By default, the returned matrix is the partial transpose of the matrix `rho`, where it is assumed that the number of rows and columns of `rho` are both perfect squares and both subsystems have equal dimension. The transpose is applied to the second subsystem.\n",
    "\n",
    "In the case where `sys` amd `dim` are specified, this function gives the partial transpose of the matrix `rho` where the dimensions of the (possibly more than 2) subsystems are given by the vector `dim` and the subsystems to take the partial transpose are given by the scalar or vector `sys`. If `rho` is non-square, different row and column dimensions can be specified by putting the row dimensions in the first row of `dim` and the column dimensions in the second row of `dim`."
   ]
  },
  {
   "cell_type": "markdown",
   "metadata": {},
   "source": [
    "## Examples"
   ]
  },
  {
   "cell_type": "code",
   "execution_count": 1,
   "metadata": {},
   "outputs": [],
   "source": [
    "from toqito.super_operators.partial_transpose import partial_transpose\n",
    "import numpy as np"
   ]
  },
  {
   "cell_type": "markdown",
   "metadata": {},
   "source": [
    "Consider the following matrix\n",
    "\n",
    "$$\n",
    "X = \\begin{pmatrix}\n",
    "        1 & 2 & 3 & 4 \\\\\n",
    "        5 & 6 & 7 & 8 \\\\\n",
    "        9 & 10 & 11 & 12 \\\\\n",
    "        13 & 14 & 15 & 16 \n",
    "    \\end{pmatrix}.\n",
    "$$\n",
    "\n",
    "Performing the partial transpose on the matrix $X$ over the second subsystem yields the following matrix\n",
    "\n",
    "$$\n",
    "X_{pt, 2} = \\begin{pmatrix}\n",
    "            1 & 5 & 3 & 7 \\\\\n",
    "            2 & 6 & 4 & 8 \\\\\n",
    "            9 & 13 & 11 & 15 \\\\\n",
    "            10 & 14 & 12 & 16\n",
    "         \\end{pmatrix}.\n",
    "$$\n",
    "\n",
    "By default, in `toqito`, the partial transpose function performs the transposition on the second subsystem as follows."
   ]
  },
  {
   "cell_type": "code",
   "execution_count": null,
   "metadata": {},
   "outputs": [],
   "source": [
    "test_input_mat = np.arange(1, 17).reshape(4, 4)\n",
    "partial_transpose(test_input_mat)"
   ]
  },
  {
   "cell_type": "markdown",
   "metadata": {},
   "source": [
    "By specifying the `sys = 1` argument, we can perform the partial transpose over the first subsystem (instead of the default second subsystem as done above). Performing the partial transpose over the first subsystem yields the following matrix\n",
    "\n",
    "$$\n",
    "\n",
    "X_{pt, 1} = \\begin{pmatrix}\n",
    "                1 & 2 & 9 & 10 \\\\\n",
    "                5 & 6 & 13 & 14 \\\\\n",
    "                3 & 4 & 11 & 12 \\\\\n",
    "                7 & 8 & 15 & 16\n",
    "            \\end{pmatrix}\n",
    "$$"
   ]
  },
  {
   "cell_type": "code",
   "execution_count": null,
   "metadata": {},
   "outputs": [],
   "source": [
    "test_input_mat = np.array(\n",
    "    [[1, 2, 3, 4], [5, 6, 7, 8], [9, 10, 11, 12], [13, 14, 15, 16]]\n",
    ")\n",
    "partial_transpose(test_input_mat, 1)"
   ]
  },
  {
   "cell_type": "markdown",
   "metadata": {},
   "source": [
    "## References\n",
    "\n",
    "[1] Wikipedia: Partial transpose\n",
    "        https://en.wikipedia.org/w/index.php?title=Partial_transpose&redirect=no"
   ]
  }
 ],
 "metadata": {
  "kernelspec": {
   "display_name": "Python 3",
   "language": "python",
   "name": "python3"
  },
  "language_info": {
   "codemirror_mode": {
    "name": "ipython",
    "version": 3
   },
   "file_extension": ".py",
   "mimetype": "text/x-python",
   "name": "python",
   "nbconvert_exporter": "python",
   "pygments_lexer": "ipython3",
   "version": "3.7.6"
  }
 },
 "nbformat": 4,
 "nbformat_minor": 2
}
