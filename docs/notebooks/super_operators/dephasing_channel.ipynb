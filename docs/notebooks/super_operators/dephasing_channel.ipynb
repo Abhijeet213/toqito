{
 "cells": [
  {
   "cell_type": "markdown",
   "metadata": {},
   "source": [
    "# Dephasing channel"
   ]
  },
  {
   "cell_type": "markdown",
   "metadata": {},
   "source": [
    "Produce the dephasing channel.\n",
    "\n",
    "The dephasing channel is the Choi matrix of the completely dephasing channel that acts on `dim`-by-`dim` matrices.\n",
    "\n",
    "Produces the partially dephasing channel `(1-P)*D + P*ID` where `D` is the completely dephasing channel and ID is the identity channel."
   ]
  },
  {
   "cell_type": "markdown",
   "metadata": {},
   "source": [
    "## Examples"
   ]
  },
  {
   "cell_type": "code",
   "execution_count": 1,
   "metadata": {},
   "outputs": [],
   "source": [
    "from toqito.maps.apply_map import apply_map\n",
    "from toqito.maps.dephasing import dephasing\n",
    "import numpy as np"
   ]
  },
  {
   "cell_type": "markdown",
   "metadata": {},
   "source": [
    "The dephasing channel maps kills everything off the diagonals. Consider the following matrix\n",
    "\n",
    "$$\n",
    "\\rho = \\begin{pmatrix}\n",
    "           1 & 2 & 3 & 4 \\\\\n",
    "           5 & 6 & 7 & 8 \\\\\n",
    "           9 & 10 & 11 & 12 \\\\\n",
    "           13 & 14 & 15 & 16\n",
    "       \\end{pmatrix}.\n",
    "$$\n",
    "\n",
    "Applying the dephasing channel to $\\rho$ we have that\n",
    "\n",
    "$$\n",
    "\\Phi(\\rho) = \\begin{pmatrix}\n",
    "                 1 & 0 & 0 & 0 \\\\\n",
    "                 0 & 6 & 0 & 0 \\\\\n",
    "                 0 & 0 & 11 & 0 \\\\\n",
    "                 0 & 0 & 0 & 16\n",
    "             \\end{pmatrix}.\n",
    "$$\n",
    "\n",
    "This can be observed in `toqito` as follows."
   ]
  },
  {
   "cell_type": "code",
   "execution_count": 2,
   "metadata": {},
   "outputs": [
    {
     "data": {
      "text/plain": [
       "array([[ 1.,  0.,  0.,  0.],\n",
       "       [ 0.,  6.,  0.,  0.],\n",
       "       [ 0.,  0., 11.,  0.],\n",
       "       [ 0.,  0.,  0., 16.]])"
      ]
     },
     "execution_count": 2,
     "metadata": {},
     "output_type": "execute_result"
    }
   ],
   "source": [
    "\"\"\"The dephasing channel kills everything off the diagonals.\"\"\"\n",
    "test_input_mat = np.array(\n",
    "    [[1, 2, 3, 4], [5, 6, 7, 8], [9, 10, 11, 12], [13, 14, 15, 16]]\n",
    ")\n",
    "\n",
    "apply_map(test_input_mat, dephasing(4))"
   ]
  },
  {
   "cell_type": "markdown",
   "metadata": {},
   "source": [
    "## References\n"
   ]
  }
 ],
 "metadata": {
  "kernelspec": {
   "display_name": "Python 3",
   "language": "python",
   "name": "python3"
  },
  "language_info": {
   "codemirror_mode": {
    "name": "ipython",
    "version": 3
   },
   "file_extension": ".py",
   "mimetype": "text/x-python",
   "name": "python",
   "nbconvert_exporter": "python",
   "pygments_lexer": "ipython3",
   "version": "3.7.6"
  }
 },
 "nbformat": 4,
 "nbformat_minor": 2
}
