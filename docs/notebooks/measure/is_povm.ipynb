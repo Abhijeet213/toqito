{
 "cells": [
  {
   "cell_type": "markdown",
   "metadata": {},
   "source": [
    "# Is positive operator valued measure (POVM)"
   ]
  },
  {
   "cell_type": "markdown",
   "metadata": {},
   "source": [
    "Determine if a list of matrices constitute a valid set of POVMs.\n",
    "\n",
    "A valid set of measurements are defined by a set of positive semidefinite operators\n",
    "\n",
    "$$\n",
    "         \\{P_a : a \\in \\Gamma\\} \\subset \\text{Pos}(\\mathcal{X})\n",
    "$$         \n",
    "\n",
    "indexed by the alphabet $\\Gamma$ of measurement outcomes satisfying the constraint that\n",
    "\n",
    "$$\n",
    "        \\sum_{a \\in \\Gamma} P_a = I_{\\mathcal{X}}.\n",
    "$$"
   ]
  },
  {
   "cell_type": "markdown",
   "metadata": {},
   "source": [
    "## Examples"
   ]
  },
  {
   "cell_type": "code",
   "execution_count": 2,
   "metadata": {},
   "outputs": [],
   "source": [
    "from toqito.measure.is_povm import is_povm\n",
    "from toqito.random.random_povm import random_povm\n",
    "import numpy as np"
   ]
  },
  {
   "cell_type": "markdown",
   "metadata": {},
   "source": [
    "Consider the following matrix\n",
    "\n",
    "$$\n",
    "M_0 = \\begin{pmatrix}\n",
    "                        1 & 0 \\\\\n",
    "                        0 & 0\n",
    "                     \\end{pmatrix}, \\qquad\n",
    "M_1 = \\begin{pmatrix}\n",
    "        0 & 0 \\\\\n",
    "        0 & 1\n",
    "      \\end{pmatrix}\n",
    "$$\n",
    "\n",
    "our function indicates that this set of operators constitute a POVM."
   ]
  },
  {
   "cell_type": "code",
   "execution_count": 8,
   "metadata": {},
   "outputs": [
    {
     "data": {
      "text/plain": [
       "True"
      ]
     },
     "execution_count": 8,
     "metadata": {},
     "output_type": "execute_result"
    }
   ],
   "source": [
    "meas_1 = np.array([[1, 0], [0, 0]])\n",
    "meas_2 = np.array([[0, 0], [0, 1]])\n",
    "meas = [meas_1, meas_2]\n",
    "\n",
    "is_povm(meas)"
   ]
  },
  {
   "cell_type": "markdown",
   "metadata": {},
   "source": [
    "We may also use the `random_povm` function from `toqito`, and can verify that a randomly generated set satisfies the criteria for being a POVM set."
   ]
  },
  {
   "cell_type": "code",
   "execution_count": 9,
   "metadata": {},
   "outputs": [
    {
     "data": {
      "text/plain": [
       "True"
      ]
     },
     "execution_count": 9,
     "metadata": {},
     "output_type": "execute_result"
    }
   ],
   "source": [
    "dim, num_inputs, num_outputs = 2, 2, 2\n",
    "measurements = random_povm(dim, num_inputs, num_outputs)\n",
    "is_povm([measurements[:, :, 0, 0], measurements[:, :, 0, 1]])"
   ]
  },
  {
   "cell_type": "markdown",
   "metadata": {},
   "source": [
    "Alternatively, the following matrices\n",
    "\n",
    "$$\n",
    "M_0 = \\begin{pmatrix}\n",
    "                        1 & 2 \\\\\n",
    "                        3 & 4\n",
    "                     \\end{pmatrix}, \\qquad\n",
    "M_1 = \\begin{pmatrix}\n",
    "        5 & 6 \\\\\n",
    "        7 & 8\n",
    "      \\end{pmatrix}\n",
    "$$\n",
    "\n",
    "does not constitute a POVM set."
   ]
  },
  {
   "cell_type": "code",
   "execution_count": 10,
   "metadata": {},
   "outputs": [
    {
     "data": {
      "text/plain": [
       "False"
      ]
     },
     "execution_count": 10,
     "metadata": {},
     "output_type": "execute_result"
    }
   ],
   "source": [
    "non_meas_1 = np.array([[1, 2], [3, 4]])\n",
    "non_meas_2 = np.array([[5, 6], [7, 8]])\n",
    "non_meas = [non_meas_1, non_meas_2]\n",
    "\n",
    "is_povm(non_meas)"
   ]
  },
  {
   "cell_type": "markdown",
   "metadata": {},
   "source": [
    "## References"
   ]
  },
  {
   "cell_type": "markdown",
   "metadata": {},
   "source": [
    "[1] Wikipedia: POVM\n",
    "        https://en.wikipedia.org/wiki/POVM"
   ]
  }
 ],
 "metadata": {
  "kernelspec": {
   "display_name": "Python 3",
   "language": "python",
   "name": "python3"
  },
  "language_info": {
   "codemirror_mode": {
    "name": "ipython",
    "version": 3
   },
   "file_extension": ".py",
   "mimetype": "text/x-python",
   "name": "python",
   "nbconvert_exporter": "python",
   "pygments_lexer": "ipython3",
   "version": "3.7.6"
  }
 },
 "nbformat": 4,
 "nbformat_minor": 2
}
