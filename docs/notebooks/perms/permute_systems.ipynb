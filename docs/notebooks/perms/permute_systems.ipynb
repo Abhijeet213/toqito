{
 "cells": [
  {
   "cell_type": "markdown",
   "metadata": {},
   "source": [
    "# Permute systems"
   ]
  },
  {
   "cell_type": "markdown",
   "metadata": {},
   "source": [
    "Permute subsystems within a state or operator.\n",
    "\n",
    "Permutes the order of the subsystems of the vector or matrix `input_mat` according to the permutation vector `perm`, where the dimensions of the subsystems are given by the vector `dim`. If `input_mat` is non-square and not a vector, different row and column dimensions can be specified by putting the row dimensions in the first row of `dim` and the columns dimensions in the second row of `dim`.\n",
    "\n",
    "If `row_only = True`, then only the rows of `input_mat` are permuted, but not the columns -- this is equivalent to multiplying `input_mat` on the left by the corresponding permutation operator, but not on the right.\n",
    "\n",
    "If `row_only = False`, then `dim` only needs to contain the row dimensions of the subsystems, even if `input_mat` is not square. If `inv_perm = True`, then the inverse permutation of `perm` is applied instead of `perm` itself."
   ]
  },
  {
   "cell_type": "markdown",
   "metadata": {},
   "source": [
    "## Examples"
   ]
  },
  {
   "cell_type": "code",
   "execution_count": 4,
   "metadata": {},
   "outputs": [],
   "source": [
    "from toqito.perms.permute_systems import permute_systems\n",
    "import numpy as np"
   ]
  },
  {
   "cell_type": "markdown",
   "metadata": {},
   "source": [
    "For spaces $\\mathcal{A}$ and $\\mathcal{B}$ where $\\text{dim}(\\mathcal{A}) = \\text{dim}(\\mathcal{B}) = 2$ we may consider an operator $X \\in \\mathcal{A} \\otimes \\mathcal{B}$. Applying the `permute_systems` function with vector $[2,1]$ on $X$, we may reorient the spaces such that $X \\in \\mathcal{B} \\otimes \\mathcal{A}$.\n",
    "\n",
    "For example, if we define $X \\in \\mathcal{A} \\otimes \\mathcal{B}$ as \n",
    "\n",
    "$$\n",
    "X = \\begin{pmatrix}\n",
    "    1 & 2 & 3 & 4 \\\\\n",
    "    5 & 6 & 7 & 8 \\\\\n",
    "    9 & 10 & 11 & 12 \\\\\n",
    "    13 & 14 & 15 & 16\n",
    "\\end{pmatrix}\n",
    "$$\n",
    "\n",
    "then applying the `permute_systems` function on $X$ to obtain $X \\in \\mathcal{B} \\otimes \\mathcal{A}$ yield the following matrix\n",
    "\n",
    "$$\n",
    "X_{[2,1]} = \\begin{pmatrix}\n",
    "    1 & 3 & 2 & 4 \\\\\n",
    "    9 & 11 & 10 & 12 \\\\\n",
    "    5 & 7 & 6 & 8 \\\\\n",
    "    13 & 15 & 14 & 16\n",
    "\\end{pmatrix}\n",
    "$$"
   ]
  },
  {
   "cell_type": "code",
   "execution_count": null,
   "metadata": {},
   "outputs": [],
   "source": [
    "test_input_mat = np.array(\n",
    "    [[1, 2, 3, 4], [5, 6, 7, 8], [9, 10, 11, 12], [13, 14, 15, 16]]\n",
    ")\n",
    "\n",
    "permute_systems(test_input_mat, [2, 1])"
   ]
  },
  {
   "cell_type": "markdown",
   "metadata": {},
   "source": [
    "For spaces $\\mathcal{A}, \\mathcal{B},$ and $\\mathcal{C}$ where $\\text{dim}(\\mathcal{A}) = \\text{dim}(\\mathcal{B}) = \\text{dim}(\\mathcal{C}) = 2$ we may consider an operator $X \\in \\mathcal{A} \\otimes \\mathcal{B} \\otimes \\mathcal{C}$. Applying the `permute_systems` function with vector $[2,3,1]$ on $X$, we may reorient the spaces such that $X \\in \\mathcal{B} \\otimes \\mathcal{C} \\otimes \\mathcal{A}$.\n",
    "\n",
    "For example, if we define $X \\in \\mathcal{A} \\otimes \\mathcal{B} \\otimes \\mathcal{C}$ as \n",
    "\n",
    "$$\n",
    "X =\n",
    "\\begin{pmatrix}\n",
    "    1 & 2 & 3 & 4, 5 & 6 & 7 & 8 \\\\\n",
    "    9 & 10 & 11 & 12 & 13 & 14 & 15 & 16 \\\\\n",
    "    17 & 18 & 19 & 20 & 21 & 22 & 23 & 24 \\\\\n",
    "    25 & 26 & 27 & 28 & 29 & 30 & 31 & 32 \\\\\n",
    "    33 & 34 & 35 & 36 & 37 & 38 & 39 & 40 \\\\\n",
    "    41 & 42 & 43 & 44 & 45 & 46 & 47 & 48 \\\\\n",
    "    49 & 50 & 51 & 52 & 53 & 54 & 55 & 56 \\\\\n",
    "    57 & 58 & 59 & 60 & 61 & 62 & 63 & 64\n",
    "\\end{pmatrix}\n",
    "$$\n",
    "\n",
    "then applying the `permute_systems` function on $X$ to obtain $X \\in \\mathcal{B} \\otimes \\mathcal{C} \\otimes \\mathcal{C}$ yield the following matrix\n",
    "\n",
    "$$\n",
    "X_{[2, 3, 1]} =\n",
    "\\begin{pmatrix}\n",
    "    1 & 5 & 2 & 6 & 3 & 7 & 4, 8 \\\\\n",
    "    33 & 37 & 34 & 38 & 35 & 39 & 36 & 40 \\\\\n",
    "    9 & 13 & 10 & 14 & 11 & 15 & 12 & 16 \\\\\n",
    "    41 & 45 & 42 & 46 & 43 & 47 & 44 & 48 \\\\\n",
    "    17 & 21 & 18 & 22 & 19 & 23 & 20 & 24 \\\\\n",
    "    49 & 53 & 50 & 54 & 51 & 55 & 52 & 56 \\\\\n",
    "    25 & 29 & 26 & 30 & 27 & 31 & 28 & 32 \\\\\n",
    "    57 & 61 & 58 & 62 & 59 & 63 & 60 & 64\n",
    "\\end{pmatrix}\n",
    "$$"
   ]
  },
  {
   "cell_type": "code",
   "execution_count": null,
   "metadata": {},
   "outputs": [],
   "source": [
    "test_input_mat = np.array(\n",
    "    [\n",
    "        [1, 2, 3, 4, 5, 6, 7, 8],\n",
    "        [9, 10, 11, 12, 13, 14, 15, 16],\n",
    "        [17, 18, 19, 20, 21, 22, 23, 24],\n",
    "        [25, 26, 27, 28, 29, 30, 31, 32],\n",
    "        [33, 34, 35, 36, 37, 38, 39, 40],\n",
    "        [41, 42, 43, 44, 45, 46, 47, 48],\n",
    "        [49, 50, 51, 52, 53, 54, 55, 56],\n",
    "        [57, 58, 59, 60, 61, 62, 63, 64],\n",
    "    ]\n",
    ")\n",
    "permute_systems(test_input_mat, [2, 3, 1])"
   ]
  },
  {
   "cell_type": "markdown",
   "metadata": {},
   "source": [
    "## References"
   ]
  }
 ],
 "metadata": {
  "kernelspec": {
   "display_name": "Python 3",
   "language": "python",
   "name": "python3"
  },
  "language_info": {
   "codemirror_mode": {
    "name": "ipython",
    "version": 3
   },
   "file_extension": ".py",
   "mimetype": "text/x-python",
   "name": "python",
   "nbconvert_exporter": "python",
   "pygments_lexer": "ipython3",
   "version": "3.7.6"
  }
 },
 "nbformat": 4,
 "nbformat_minor": 2
}
