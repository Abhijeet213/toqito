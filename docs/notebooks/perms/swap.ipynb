{
 "cells": [
  {
   "cell_type": "markdown",
   "metadata": {},
   "source": [
    "# Swap"
   ]
  },
  {
   "cell_type": "markdown",
   "metadata": {},
   "source": [
    "Swap two subsystems within a state or operator.\n",
    "\n",
    "Swaps the two subsystems of the vector or matrix `rho`, where the dimensions of the (possibly more than 2) subsystems are given by `dim` and the indices of the two subsystems to be swapped are specified in the 1-by-2 vector `sys`.\n",
    "\n",
    "If `rho` is non-square and not a vector, different row and column dimensions can be specified by putting the row dimensions in the first row of `dim` and the column dimensions in the second row of `dim`.\n",
    "\n",
    "If `row_only` is set to `True`, then only the rows of `rho` are swapped, but not the columns -- this is equivalent to multiplying `rho` on the left by the corresponding swap operator, but not on the right."
   ]
  },
  {
   "cell_type": "markdown",
   "metadata": {},
   "source": [
    "## Examples"
   ]
  },
  {
   "cell_type": "code",
   "execution_count": null,
   "metadata": {},
   "outputs": [],
   "source": [
    "from toqito.perms.swap import swap\n",
    "import numpy as np"
   ]
  },
  {
   "cell_type": "markdown",
   "metadata": {},
   "source": [
    "Consider the following matrix\n",
    "\n",
    "$$\n",
    "X = \n",
    "\\begin{pmatrix}\n",
    "    1 & 5 & 9 & 13 \\\\\n",
    "    2 & 6 & 10 & 14 \\\\\n",
    "    3 & 7 & 11 & 15 \\\\\n",
    "    4 & 8 & 12 & 16\n",
    "\\end{pmatrix}\n",
    "$$\n",
    "\n",
    "If we apply the `swap` function provided by `toqito` on $X$, we should obtain the following matrix\n",
    "\n",
    "$$\n",
    "\\text{Swap}(X) = \n",
    "\\begin{pmatrix}\n",
    "    1 & 9 & 5 & 13 \\\\\n",
    "    3 & 11 & 7 & 15 \\\\\n",
    "    2 & 10 & 6 & 14 \\\\\n",
    "    4 & 12 & 8 & 16\n",
    "\\end{pmatrix}\n",
    "$$\n",
    "\n",
    "This can be observed by the following example in `toqito`."
   ]
  },
  {
   "cell_type": "code",
   "execution_count": null,
   "metadata": {},
   "outputs": [],
   "source": [
    "\"\"\"Swap operation on matrix.\"\"\"\n",
    "test_mat = np.array(\n",
    "    [[1, 5, 9, 13], [2, 6, 10, 14], [3, 7, 11, 15], [4, 8, 12, 16]]\n",
    ")\n",
    "swap(test_mat)"
   ]
  },
  {
   "cell_type": "markdown",
   "metadata": {},
   "source": [
    "It is also possible to use the `sys` and `dim` arguments, it is possible to specify the system and dimension on which to apply the swap operator. For instance for `sys = [1 ,2]` and `dim = 2` we have that\n",
    "\n",
    "$$\n",
    "\\begin{pmatrix}\n",
    "    1 & 9 & 5 & 13 \\\\\n",
    "    3 & 11 & 7 & 15 \\\\\n",
    "    2 & 10 & 6 & 14 \\\\\n",
    "    4 & 12 & 8 & 16\n",
    "\\end{pmatrix}.\n",
    "$$\n",
    "\n",
    "Using `toqito` we can see this gives the proper result."
   ]
  },
  {
   "cell_type": "code",
   "execution_count": null,
   "metadata": {},
   "outputs": [],
   "source": [
    "\"\"\"Swap operation when int is provided.\"\"\"\n",
    "test_mat = np.array(\n",
    "    [[1, 5, 9, 13], [2, 6, 10, 14], [3, 7, 11, 15], [4, 8, 12, 16]]\n",
    ")\n",
    "swap(test_mat, [1, 2], 2)"
   ]
  },
  {
   "cell_type": "markdown",
   "metadata": {},
   "source": [
    "It is also possible to perform the `swap` function on vectors in addition to matrices."
   ]
  },
  {
   "cell_type": "code",
   "execution_count": null,
   "metadata": {},
   "outputs": [],
   "source": [
    "\"\"\"Swap operation on vector.\"\"\"\n",
    "test_vec = np.array([1, 2, 3, 4])\n",
    "swap(test_vec)"
   ]
  },
  {
   "cell_type": "markdown",
   "metadata": {},
   "source": [
    "## References"
   ]
  }
 ],
 "metadata": {
  "kernelspec": {
   "display_name": "Python 3",
   "language": "python",
   "name": "python3"
  },
  "language_info": {
   "codemirror_mode": {
    "name": "ipython",
    "version": 3
   },
   "file_extension": ".py",
   "mimetype": "text/x-python",
   "name": "python",
   "nbconvert_exporter": "python",
   "pygments_lexer": "ipython3",
   "version": "3.7.6"
  }
 },
 "nbformat": 4,
 "nbformat_minor": 2
}
