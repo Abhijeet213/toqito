{
 "cells": [
  {
   "cell_type": "markdown",
   "metadata": {},
   "source": [
    "# Permutation sign"
   ]
  },
  {
   "cell_type": "markdown",
   "metadata": {},
   "source": [
    "Compute the \"sign\" of a permutation.\n",
    "\n",
    "The sign (either -1 or 1) of the permutation `perm` is -1**`inv`, where `inv` is the number of inversions contained in `perm`.\n"
   ]
  },
  {
   "cell_type": "markdown",
   "metadata": {},
   "source": [
    "## Examples"
   ]
  },
  {
   "cell_type": "code",
   "execution_count": null,
   "metadata": {},
   "outputs": [],
   "source": [
    "from toqito.perms.perm_sign import perm_sign\n",
    "import numpy as np"
   ]
  },
  {
   "cell_type": "markdown",
   "metadata": {},
   "source": [
    "For the following vector\n",
    "\n",
    "$$\n",
    "[1, 2, 3, 4]\n",
    "$$\n",
    "\n",
    "the permutation sign is positive as the number of elements in the vector are even. This can be performed in `toqito` as follows."
   ]
  },
  {
   "cell_type": "code",
   "execution_count": null,
   "metadata": {},
   "outputs": [],
   "source": [
    "\"\"\"Small exmaple when permutation is even.\"\"\"\n",
    "perm_sign([1, 2, 3, 4])"
   ]
  },
  {
   "cell_type": "markdown",
   "metadata": {},
   "source": [
    "For the following vector\n",
    "\n",
    "$$\n",
    "[1, 2, 3, 4, 5]\n",
    "$$\n",
    "\n",
    "the permutation sign is negative as the number of elements in the vector are odd. This can be performed in `toqito` as follows."
   ]
  },
  {
   "cell_type": "code",
   "execution_count": null,
   "metadata": {},
   "outputs": [],
   "source": [
    "\"\"\"Small exmaple when permutation is odd.\"\"\"\n",
    "perm_sign([1, 2, 4, 3, 5])"
   ]
  },
  {
   "cell_type": "markdown",
   "metadata": {},
   "source": [
    "## References"
   ]
  },
  {
   "cell_type": "markdown",
   "metadata": {},
   "source": [
    "[1] Wikipedia: Parity of a permutation\n",
    "        https://en.wikipedia.org/wiki/Parity_of_a_permutation"
   ]
  }
 ],
 "metadata": {
  "kernelspec": {
   "display_name": "Python 3",
   "language": "python",
   "name": "python3"
  },
  "language_info": {
   "codemirror_mode": {
    "name": "ipython",
    "version": 3
   },
   "file_extension": ".py",
   "mimetype": "text/x-python",
   "name": "python",
   "nbconvert_exporter": "python",
   "pygments_lexer": "ipython3",
   "version": "3.7.6"
  }
 },
 "nbformat": 4,
 "nbformat_minor": 2
}
