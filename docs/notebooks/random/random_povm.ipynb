{
 "cells": [
  {
   "cell_type": "markdown",
   "metadata": {},
   "source": [
    "# Random POVM (positive operator valued measure)"
   ]
  },
  {
   "cell_type": "markdown",
   "metadata": {},
   "source": [
    "Generate random positive operator valued measurements (POVMs)."
   ]
  },
  {
   "cell_type": "markdown",
   "metadata": {},
   "source": [
    "## Examples"
   ]
  },
  {
   "cell_type": "code",
   "execution_count": 5,
   "metadata": {},
   "outputs": [],
   "source": [
    "from toqito.random.random_povm import random_povm\n",
    "import numpy as np"
   ]
  },
  {
   "cell_type": "markdown",
   "metadata": {},
   "source": [
    "Using `toqito`, we can generate a set of POVMs consisting of a specific dimension along with a given number of measurement inputs and measurement outputs. As an example, we can construct a random set of POVMs of dimension $2$ with $2$ inputs and $2$ outputs. "
   ]
  },
  {
   "cell_type": "code",
   "execution_count": 6,
   "metadata": {},
   "outputs": [
    {
     "data": {
      "text/plain": [
       "array([[[[ 0.40313832+0.j,  0.59686168+0.j],\n",
       "         [ 0.91134633+0.j,  0.08865367+0.j]],\n",
       "\n",
       "        [[-0.27285707+0.j,  0.27285707+0.j],\n",
       "         [-0.12086852+0.j,  0.12086852+0.j]]],\n",
       "\n",
       "\n",
       "       [[[-0.27285707+0.j,  0.27285707+0.j],\n",
       "         [-0.12086852+0.j,  0.12086852+0.j]],\n",
       "\n",
       "        [[ 0.452533  +0.j,  0.547467  +0.j],\n",
       "         [ 0.34692158+0.j,  0.65307842+0.j]]]])"
      ]
     },
     "execution_count": 6,
     "metadata": {},
     "output_type": "execute_result"
    }
   ],
   "source": [
    "\"\"\"Generate random POVMs.\"\"\"\n",
    "dim, num_inputs, num_outputs = 2, 2, 2\n",
    "povms = random_povm(dim, num_inputs, num_outputs)\n",
    "povms"
   ]
  },
  {
   "cell_type": "markdown",
   "metadata": {},
   "source": [
    "We can verify that this constitutes a valid set of POVM elements as checking that these operators all sum to the identity operator."
   ]
  },
  {
   "cell_type": "code",
   "execution_count": 8,
   "metadata": {},
   "outputs": [
    {
     "data": {
      "text/plain": [
       "array([[1.+0.j, 0.+0.j],\n",
       "       [0.+0.j, 1.+0.j]])"
      ]
     },
     "execution_count": 8,
     "metadata": {},
     "output_type": "execute_result"
    }
   ],
   "source": [
    "np.round(povms[:, :, 0, 0] + povms[:, :, 0, 1])"
   ]
  },
  {
   "cell_type": "markdown",
   "metadata": {},
   "source": [
    "## References"
   ]
  },
  {
   "cell_type": "markdown",
   "metadata": {},
   "source": [
    "[1] Wikipedia: POVM\n",
    "        https://en.wikipedia.org/wiki/POVM"
   ]
  }
 ],
 "metadata": {
  "kernelspec": {
   "display_name": "Python 3",
   "language": "python",
   "name": "python3"
  },
  "language_info": {
   "codemirror_mode": {
    "name": "ipython",
    "version": 3
   },
   "file_extension": ".py",
   "mimetype": "text/x-python",
   "name": "python",
   "nbconvert_exporter": "python",
   "pygments_lexer": "ipython3",
   "version": "3.7.6"
  }
 },
 "nbformat": 4,
 "nbformat_minor": 2
}
