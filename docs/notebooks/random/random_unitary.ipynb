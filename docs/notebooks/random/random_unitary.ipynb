{
 "cells": [
  {
   "cell_type": "markdown",
   "metadata": {},
   "source": [
    "# Random unitary matrix"
   ]
  },
  {
   "cell_type": "markdown",
   "metadata": {},
   "source": [
    "Generate a random unitary or orthogonal matrix.\n",
    "\n",
    "Calculates a random unitary matrix (if `is_real = False`) or a random real orthogonal matrix (if `is_real = True`), uniformly distributed according to the Haar measure."
   ]
  },
  {
   "cell_type": "markdown",
   "metadata": {},
   "source": [
    "## Examples"
   ]
  },
  {
   "cell_type": "code",
   "execution_count": 2,
   "metadata": {},
   "outputs": [],
   "source": [
    "from toqito.random.random_unitary import random_unitary\n",
    "from toqito.linear_algebra.properties.is_unitary import is_unitary"
   ]
  },
  {
   "cell_type": "markdown",
   "metadata": {},
   "source": [
    "Using `toqito`, we may generate a random unitary matrix. Here is an example of how we may be able to generate a random $2$-dimensional random unitary matrix with complex entries."
   ]
  },
  {
   "cell_type": "code",
   "execution_count": 4,
   "metadata": {},
   "outputs": [
    {
     "data": {
      "text/plain": [
       "array([[0.40563696+0.18092721j, 0.00066868+0.89594841j],\n",
       "       [0.4237286 +0.78941628j, 0.27157521-0.35145826j]])"
      ]
     },
     "execution_count": 4,
     "metadata": {},
     "output_type": "execute_result"
    }
   ],
   "source": [
    "\"\"\"Generate random complex unitary matrix.\"\"\"\n",
    "complex_dm = random_unitary(2)\n",
    "complex_dm"
   ]
  },
  {
   "cell_type": "markdown",
   "metadata": {},
   "source": [
    "We can verify that this is in fact a valid unitary matrix using the `is_unitary` function from `toqito` as follows"
   ]
  },
  {
   "cell_type": "code",
   "execution_count": 5,
   "metadata": {},
   "outputs": [
    {
     "data": {
      "text/plain": [
       "True"
      ]
     },
     "execution_count": 5,
     "metadata": {},
     "output_type": "execute_result"
    }
   ],
   "source": [
    "is_unitary(complex_dm)"
   ]
  },
  {
   "cell_type": "markdown",
   "metadata": {},
   "source": [
    "We can also generate random unitary matrices that are real-valued as follows."
   ]
  },
  {
   "cell_type": "code",
   "execution_count": 7,
   "metadata": {},
   "outputs": [
    {
     "data": {
      "text/plain": [
       "array([[ 0.01972681, -0.99980541],\n",
       "       [ 0.99980541,  0.01972681]])"
      ]
     },
     "execution_count": 7,
     "metadata": {},
     "output_type": "execute_result"
    }
   ],
   "source": [
    "\"\"\"Generate random real unitary matrix.\"\"\"\n",
    "real_dm = random_unitary(2, True)\n",
    "real_dm"
   ]
  },
  {
   "cell_type": "markdown",
   "metadata": {},
   "source": [
    "Again, verifying that this is a valid unitary matrix can be done as follows."
   ]
  },
  {
   "cell_type": "code",
   "execution_count": 8,
   "metadata": {},
   "outputs": [
    {
     "data": {
      "text/plain": [
       "True"
      ]
     },
     "execution_count": 8,
     "metadata": {},
     "output_type": "execute_result"
    }
   ],
   "source": [
    "is_unitary(real_dm)"
   ]
  },
  {
   "cell_type": "markdown",
   "metadata": {},
   "source": [
    "We may also generate unitaries such that the dimension argument provided is a `list` as opposed to an `int`. Here is an example of a random unitary matrix of dimension $4$. "
   ]
  },
  {
   "cell_type": "code",
   "execution_count": 11,
   "metadata": {},
   "outputs": [
    {
     "data": {
      "text/plain": [
       "array([[ 0.48996358, -0.20978392,  0.56678587, -0.62823576],\n",
       "       [ 0.62909119, -0.35852051, -0.68961425, -0.01181086],\n",
       "       [ 0.38311399,  0.90865415, -0.1209574 , -0.11375677],\n",
       "       [ 0.46626562, -0.04244265,  0.4342295 ,  0.76957113]])"
      ]
     },
     "execution_count": 11,
     "metadata": {},
     "output_type": "execute_result"
    }
   ],
   "source": [
    "\"\"\"Generate random non-real unitary matrix.\"\"\"\n",
    "mat = random_unitary([4, 4], True)\n",
    "mat"
   ]
  },
  {
   "cell_type": "markdown",
   "metadata": {},
   "source": [
    "As before, we can verify that this matrix generated is a valid unitary matrix."
   ]
  },
  {
   "cell_type": "code",
   "execution_count": 12,
   "metadata": {},
   "outputs": [
    {
     "data": {
      "text/plain": [
       "True"
      ]
     },
     "execution_count": 12,
     "metadata": {},
     "output_type": "execute_result"
    }
   ],
   "source": [
    "is_unitary(mat)"
   ]
  },
  {
   "cell_type": "markdown",
   "metadata": {},
   "source": [
    "## References"
   ]
  },
  {
   "cell_type": "markdown",
   "metadata": {},
   "source": [
    "[1] How to generate a random unitary matrix,\n",
    "        Maris Ozols\n",
    "        March 16, 2009,\n",
    "        home.lu.lv/~sd20008/papers/essays/Random%20unitary%20%5Bpaper%5D.pdf"
   ]
  }
 ],
 "metadata": {
  "kernelspec": {
   "display_name": "Python 3",
   "language": "python",
   "name": "python3"
  },
  "language_info": {
   "codemirror_mode": {
    "name": "ipython",
    "version": 3
   },
   "file_extension": ".py",
   "mimetype": "text/x-python",
   "name": "python",
   "nbconvert_exporter": "python",
   "pygments_lexer": "ipython3",
   "version": "3.7.6"
  }
 },
 "nbformat": 4,
 "nbformat_minor": 2
}
