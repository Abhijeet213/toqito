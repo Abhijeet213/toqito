{
 "cells": [
  {
   "cell_type": "markdown",
   "metadata": {},
   "source": [
    "# Random density matrix"
   ]
  },
  {
   "cell_type": "markdown",
   "metadata": {},
   "source": [
    "Generate a random density matrix.\n",
    "\n",
    "Generates a random `dim`-by-`dim` density matrix distributed according to the Hilbert-Schmidt measure. The matrix is of rank <= `k_param` distributed according to the distribution `distance_metric` If `is_real = True`, then all of its entries will be real. The variable `distance_metric` must be one of:\n",
    "\n",
    "        - `haar` (default):\n",
    "            Generate a larger pure state according to the Haar measure and\n",
    "            trace out the extra dimensions. Sometimes called the\n",
    "            Hilbert-Schmidt measure when `k_param = dim`.\n",
    "\n",
    "        - `bures`:\n",
    "            The Bures measure."
   ]
  },
  {
   "cell_type": "markdown",
   "metadata": {},
   "source": [
    "## Examples"
   ]
  },
  {
   "cell_type": "code",
   "execution_count": 3,
   "metadata": {},
   "outputs": [],
   "source": [
    "from toqito.random.random_density_matrix import random_density_matrix\n",
    "from toqito.linear_algebra.properties.is_density import is_density"
   ]
  },
  {
   "cell_type": "markdown",
   "metadata": {},
   "source": [
    "Using `toqito`, we may generate a random complex-valued $n$-dimensional density matrix. For $d=2$, this can be accomplished as follows."
   ]
  },
  {
   "cell_type": "code",
   "execution_count": 12,
   "metadata": {},
   "outputs": [
    {
     "name": "stdout",
     "output_type": "stream",
     "text": [
      "[[0.34903796+0.j       0.4324904 +0.103298j]\n",
      " [0.4324904 -0.103298j 0.65096204+0.j      ]]\n"
     ]
    }
   ],
   "source": [
    "\"\"\"Generate random non-real density matrix.\"\"\"\n",
    "complex_dm = random_density_matrix(2)\n",
    "print(complex_dm)"
   ]
  },
  {
   "cell_type": "markdown",
   "metadata": {},
   "source": [
    "We can verify that this is in fact a valid density matrix using the `is_denisty` function from `toqito` as follows"
   ]
  },
  {
   "cell_type": "code",
   "execution_count": 13,
   "metadata": {},
   "outputs": [
    {
     "data": {
      "text/plain": [
       "True"
      ]
     },
     "execution_count": 13,
     "metadata": {},
     "output_type": "execute_result"
    }
   ],
   "source": [
    "is_density(complex_dm)"
   ]
  },
  {
   "cell_type": "markdown",
   "metadata": {},
   "source": [
    "We can also generate random density matrices that are real-valued as follows."
   ]
  },
  {
   "cell_type": "code",
   "execution_count": 14,
   "metadata": {},
   "outputs": [
    {
     "name": "stdout",
     "output_type": "stream",
     "text": [
      "[[0.37330805 0.46466224]\n",
      " [0.46466224 0.62669195]]\n"
     ]
    }
   ],
   "source": [
    "\"\"\"Generate random real density matrix.\"\"\"\n",
    "real_dm = random_density_matrix(2, is_real=True)\n",
    "print(real_dm)"
   ]
  },
  {
   "cell_type": "markdown",
   "metadata": {},
   "source": [
    "Again, verifying that this is a valid density matrix can be done as follows."
   ]
  },
  {
   "cell_type": "code",
   "execution_count": 15,
   "metadata": {},
   "outputs": [
    {
     "data": {
      "text/plain": [
       "True"
      ]
     },
     "execution_count": 15,
     "metadata": {},
     "output_type": "execute_result"
    }
   ],
   "source": [
    "is_density(real_dm)"
   ]
  },
  {
   "cell_type": "markdown",
   "metadata": {},
   "source": [
    "By default, the random density operators are constructed using the Haar measure. We can select to generate the random density matrix according to the Bures metric instead as follows."
   ]
  },
  {
   "cell_type": "code",
   "execution_count": 17,
   "metadata": {},
   "outputs": [
    {
     "name": "stdout",
     "output_type": "stream",
     "text": [
      "[[0.59937164+0.j         0.45355087-0.18473365j]\n",
      " [0.45355087+0.18473365j 0.40062836+0.j        ]]\n"
     ]
    }
   ],
   "source": [
    "\"\"\"Random non-real density matrix according to Bures metric.\"\"\"\n",
    "bures_mat = random_density_matrix(2, distance_metric=\"bures\")\n",
    "print(bures_mat)"
   ]
  },
  {
   "cell_type": "markdown",
   "metadata": {},
   "source": [
    "As before, we can verify that this matrix generated is a valid density matrix."
   ]
  },
  {
   "cell_type": "code",
   "execution_count": 18,
   "metadata": {},
   "outputs": [
    {
     "data": {
      "text/plain": [
       "True"
      ]
     },
     "execution_count": 18,
     "metadata": {},
     "output_type": "execute_result"
    }
   ],
   "source": [
    "is_density(bures_mat)"
   ]
  },
  {
   "cell_type": "markdown",
   "metadata": {},
   "source": [
    "## References"
   ]
  }
 ],
 "metadata": {
  "kernelspec": {
   "display_name": "Python 3",
   "language": "python",
   "name": "python3"
  },
  "language_info": {
   "codemirror_mode": {
    "name": "ipython",
    "version": 3
   },
   "file_extension": ".py",
   "mimetype": "text/x-python",
   "name": "python",
   "nbconvert_exporter": "python",
   "pygments_lexer": "ipython3",
   "version": "3.7.6"
  }
 },
 "nbformat": 4,
 "nbformat_minor": 2
}
