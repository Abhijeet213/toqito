{
 "cells": [
  {
   "cell_type": "markdown",
   "metadata": {},
   "source": [
    "# Two Player Quantum Lower Bound"
   ]
  },
  {
   "cell_type": "markdown",
   "metadata": {},
   "source": [
    "### Description:\n",
    "Compute a lower bound on the quantum value of a nonlocal game.\n",
    "\n",
    "Calculates a lower bound on the maximum value that the specified nonlocal\n",
    "game can take on in quantum mechanical settings where Alice and Bob each\n",
    "have access to a d-dimensional quantum system.\n",
    "\n",
    "This approach works by starting with a randomly-generated POVM for Bob, and\n",
    "then optimizing Alice's POVM and the shared entangled state. Then Alice's\n",
    "POVM and the entangled state are fixed, and Bob's POVM is optimized. And so\n",
    "on, back and forth between Alice and Bob until convergence is reached.\n",
    "\n",
    "Note that the algorithm is not guaranteed to obtain the optimal local bound\n",
    "and can get stuck in local minimum values. The alleviate this, it is run\n",
    "more than once to run the algorithm some pre-specified number of\n",
    "times and keep the highest value obtained.\n",
    "\n",
    "### Explanation:\n",
    "The algorithm is based on the alternating projections algorithm as it can\n",
    "be applied to Bell inequalities as shown in [1].\n",
    "\n",
    "The alternating projection algorithm has also been referred to as the \n",
    "\"see-saw\" algorithm as it goes back and forth between the following two \n",
    "semidefinite programs:\n",
    "\n",
    "$$\n",
    "\\textbf{SDP-1:} \\qquad\n",
    "\\begin{align*}\n",
    "                \\text{maximize:} \\quad & \\sum_{(x,y \\in \\Sigma)} \\pi(x,y)\n",
    "                                         \\sum_{(a,b) \\in \\Gamma}\n",
    "                                         V(a,b|x,y)\n",
    "                                         \\langle B_b^y, A_a^x \\rangle \\\\\n",
    "                \\text{subject to:} \\quad & \\sum_{a \\in \\Gamma_{\\mathsf{A}}} =\n",
    "                                           \\tau, \\qquad \\qquad\n",
    "                                           \\forall x \\in \\Sigma_{\\mathsf{A}}, \\\\\n",
    "                                   \\quad & A_a^x \\in \\text{Pos}(\\mathcal{A}),\n",
    "                                           \\qquad\n",
    "                                           \\forall x \\in \\Sigma_{\\mathsf{A}}, \\\n",
    "                                           \\forall a \\in \\Gamma_{\\mathsf{A}}, \\\\\n",
    "                                           & \\tau \\in \\text{D}(\\mathcal{A}).\n",
    "\\end{align*}\n",
    "$$\n",
    "\n",
    "$$\n",
    "\\textbf{SDP-2:} \\qquad\n",
    "\\begin{align*}\n",
    "                \\text{maximize:} \\quad & \\sum_{(x,y \\in \\Sigma)} \\pi(x,y)\n",
    "                                         \\sum_{(a,b) \\in \\Gamma} V(a,b|x,y)\n",
    "                                         \\langle B_b^y, A_a^x \\rangle \\\\\n",
    "                \\text{subject to:} \\quad & \\sum_{b \\in \\Gamma_{\\mathsf{B}}} =\n",
    "                                           \\mathbb{I}, \\qquad \\qquad\n",
    "                                           \\forall y \\in \\Sigma_{\\mathsf{B}}, \\\\\n",
    "                                   \\quad & B_b^y \\in \\text{Pos}(\\mathcal{B}),\n",
    "                                   \\qquad \\forall y \\in \\Sigma_{\\mathsf{B}}, \\\n",
    "                                   \\forall b \\in \\Gamma_{\\mathsf{B}}.\n",
    "\\end{align*}\n",
    "$$\n",
    "\n",
    "\n"
   ]
  },
  {
   "cell_type": "markdown",
   "metadata": {},
   "source": [
    "## Examples"
   ]
  },
  {
   "cell_type": "code",
   "execution_count": 6,
   "metadata": {},
   "outputs": [],
   "source": [
    "import cvxpy\n",
    "import numpy as np\n",
    "from toqito.nonlocal_games.two_player_quantum_lower_bound import two_player_quantum_lower_bound"
   ]
  },
  {
   "cell_type": "markdown",
   "metadata": {},
   "source": [
    "### CHSH game"
   ]
  },
  {
   "cell_type": "markdown",
   "metadata": {},
   "source": [
    "The CHSH game is a two-player nonlocal game with the following probability distribution and question and answer sets.\n",
    "\n",
    "$$\n",
    "\\begin{equation} \n",
    "\\begin{aligned} \\pi(x,y) = \\frac{1}{4}, \\qquad (x,y) \\in \\Sigma_A \\times \\Sigma_B, \\qquad \\text{and} \\qquad (a, b) \\in \\Gamma_A \\times \\Gamma_B, \n",
    "\\end{aligned} \n",
    "\\end{equation}\n",
    "$$\n",
    "\n",
    "where\n",
    "\n",
    "$$\n",
    "\\begin{equation} \n",
    "\\Sigma_A = \\{0, 1\\}, \\quad \\Sigma_B = \\{0, 1\\}, \\quad \\Gamma_A = \\{0,1\\}, \\quad \\text{and} \\quad \\Gamma_B = \\{0, 1\\}. \n",
    "\\end{equation}\n",
    "$$\n",
    "\n",
    "Alice and Bob win the CHSH game if and only if the following equation is satisfied\n",
    "\n",
    "$$\n",
    "\\begin{equation} \n",
    "a \\oplus b = x \\land y. \n",
    "\\end{equation}\n",
    "$$\n",
    "\n",
    "Recall that $\\oplus$ refers to the XOR operation.\n",
    "\n",
    "The optimal quantum value of CHSH is $\\cos(\\pi/8)^2 \\approx 0.8536$ where the optimal classical value is $3/4$. "
   ]
  },
  {
   "cell_type": "code",
   "execution_count": 12,
   "metadata": {},
   "outputs": [
    {
     "data": {
      "text/plain": [
       "0.8535533840915605"
      ]
     },
     "execution_count": 12,
     "metadata": {},
     "output_type": "execute_result"
    }
   ],
   "source": [
    "dim = 2\n",
    "num_alice_inputs, num_alice_outputs = 2, 2\n",
    "num_bob_inputs, num_bob_outputs = 2, 2\n",
    "prob_mat = np.array([[1 / 4, 1 / 4], [1 / 4, 1 / 4]])\n",
    "pred_mat = np.zeros(\n",
    "    (num_alice_outputs, num_bob_outputs, num_alice_inputs, num_bob_inputs)\n",
    ")\n",
    "\n",
    "for a_alice in range(num_alice_outputs):\n",
    "    for b_bob in range(num_bob_outputs):\n",
    "        for x_alice in range(num_alice_inputs):\n",
    "            for y_bob in range(num_bob_inputs):\n",
    "                if np.mod(a_alice + b_bob + x_alice * y_bob, dim) == 0:\n",
    "                    pred_mat[a_alice, b_bob, x_alice, y_bob] = 1\n",
    "\n",
    "lower_bound = two_player_quantum_lower_bound(dim, prob_mat, pred_mat)\n",
    "\n",
    "# cos(pi/8)^2 /approx 0.85356\n",
    "lower_bound"
   ]
  },
  {
   "cell_type": "markdown",
   "metadata": {},
   "source": [
    "For CHSH, the lower bound approach obtained the optimal quantum value of $\\cos(\\pi/8)^2$. However, the optimal values are not guaranteed to be obtained by this approach."
   ]
  },
  {
   "cell_type": "markdown",
   "metadata": {},
   "source": [
    "## References\n",
    "\n",
    "Liang, Yeong-Cherng, and Andrew C. Doherty.\n",
    "\"Bounds on quantum correlations in Bell-inequality experiments.\"\n",
    "Physical Review A 75.4 (2007): 042103.\n",
    "https://arxiv.org/abs/quant-ph/0608128"
   ]
  }
 ],
 "metadata": {
  "kernelspec": {
   "display_name": "Python 3",
   "language": "python",
   "name": "python3"
  },
  "language_info": {
   "codemirror_mode": {
    "name": "ipython",
    "version": 3
   },
   "file_extension": ".py",
   "mimetype": "text/x-python",
   "name": "python",
   "nbconvert_exporter": "python",
   "pygments_lexer": "ipython3",
   "version": "3.7.6"
  }
 },
 "nbformat": 4,
 "nbformat_minor": 2
}
