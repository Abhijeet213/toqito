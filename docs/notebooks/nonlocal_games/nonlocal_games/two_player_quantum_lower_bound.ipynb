{
 "cells": [
  {
   "cell_type": "markdown",
   "metadata": {},
   "source": [
    "# Two Player Quantum Lower Bound"
   ]
  },
  {
   "cell_type": "markdown",
   "metadata": {},
   "source": [
    "### Description:\n",
    "Compute a lower bound on the quantum value of a nonlocal game.\n",
    "\n",
    "Calculates a lower bound on the maximum value that the specified nonlocal\n",
    "game can take on in quantum mechanical settings where Alice and Bob each\n",
    "have access to a d-dimensional quantum system.\n",
    "\n",
    "This approach works by starting with a randomly-generated POVM for Bob, and\n",
    "then optimizing Alice's POVM and the shared entangled state. Then Alice's\n",
    "POVM and the entangled state are fixed, and Bob's POVM is optimized. And so\n",
    "on, back and forth between Alice and Bob until convergence is reached.\n",
    "\n",
    "Note that the algorithm is not guaranteed to obtain the optimal local bound\n",
    "and can get stuck in local minimum values. The alleviate this, it is run\n",
    "more than once to run the algorithm some pre-specified number of\n",
    "times and keep the highest value obtained.\n",
    "\n",
    "### Explanation:\n",
    "The algorithm is based on the alternating projections algorithm as it can\n",
    "be applied to Bell inequalities as shown in [1].\n",
    "\n",
    "The alternating projection algorithm has also been referred to as the \n",
    "\"see-saw\" algorithm as it goes back and forth between the following two \n",
    "semidefinite programs:\n",
    "\n",
    "$$\n",
    "\\textbf{SDP-1:} \\qquad\n",
    "\\begin{align*}\n",
    "                \\text{maximize:} \\quad & \\sum_{(x,y \\in \\Sigma)} \\pi(x,y)\n",
    "                                         \\sum_{(a,b) \\in \\Gamma}\n",
    "                                         V(a,b|x,y)\n",
    "                                         \\langle B_b^y, A_a^x \\rangle \\\\\n",
    "                \\text{subject to:} \\quad & \\sum_{a \\in \\Gamma_{\\mathsf{A}}} =\n",
    "                                           \\tau, \\qquad \\qquad\n",
    "                                           \\forall x \\in \\Sigma_{\\mathsf{A}}, \\\\\n",
    "                                   \\quad & A_a^x \\in \\text{Pos}(\\mathcal{A}),\n",
    "                                           \\qquad\n",
    "                                           \\forall x \\in \\Sigma_{\\mathsf{A}}, \\\n",
    "                                           \\forall a \\in \\Gamma_{\\mathsf{A}}, \\\\\n",
    "                                           & \\tau \\in \\text{D}(\\mathcal{A}).\n",
    "\\end{align*}\n",
    "$$\n",
    "\n",
    "$$\n",
    "\\textbf{SDP-2:} \\qquad\n",
    "\\begin{align*}\n",
    "                \\text{maximize:} \\quad & \\sum_{(x,y \\in \\Sigma)} \\pi(x,y)\n",
    "                                         \\sum_{(a,b) \\in \\Gamma} V(a,b|x,y)\n",
    "                                         \\langle B_b^y, A_a^x \\rangle \\\\\n",
    "                \\text{subject to:} \\quad & \\sum_{b \\in \\Gamma_{\\mathsf{B}}} =\n",
    "                                           \\mathbb{I}, \\qquad \\qquad\n",
    "                                           \\forall y \\in \\Sigma_{\\mathsf{B}}, \\\\\n",
    "                                   \\quad & B_b^y \\in \\text{Pos}(\\mathcal{B}),\n",
    "                                   \\qquad \\forall y \\in \\Sigma_{\\mathsf{B}}, \\\n",
    "                                   \\forall b \\in \\Gamma_{\\mathsf{B}}.\n",
    "\\end{align*}\n",
    "$$\n",
    "\n",
    "\n"
   ]
  },
  {
   "cell_type": "code",
   "execution_count": 7,
   "metadata": {},
   "outputs": [],
   "source": [
    "import cvxpy\n",
    "import numpy as np\n",
    "import os\n",
    "import sys\n",
    "module_path = os.path.abspath(os.path.join(\"..\", \"..\", \"..\", \"..\"))\n",
    "if module_path not in sys.path:\n",
    "    sys.path.append(module_path)\n",
    "from toqito.nonlocal_games.two_player_quantum_lower_bound import two_player_quantum_lower_bound"
   ]
  },
  {
   "cell_type": "code",
   "execution_count": 1,
   "metadata": {},
   "outputs": [
    {
     "name": "stdout",
     "output_type": "stream",
     "text": [
      "Collecting toqito\n",
      "\u001b[?25l  Downloading https://files.pythonhosted.org/packages/73/b4/fd460515a4e4840e9a45069406e03b46faafd93b46431fcd670520adb1e2/toqito-0.0.1-py2.py3-none-any.whl (131kB)\n",
      "\u001b[K     |████████████████████████████████| 133kB 1.4MB/s eta 0:00:01\n",
      "\u001b[?25hRequirement already satisfied: numpy in /Library/Frameworks/Python.framework/Versions/3.7/lib/python3.7/site-packages (from toqito) (1.18.0)\n",
      "Requirement already satisfied: scipy in /Library/Frameworks/Python.framework/Versions/3.7/lib/python3.7/site-packages (from toqito) (1.4.1)\n",
      "Collecting scikit-image (from toqito)\n",
      "\u001b[?25l  Downloading https://files.pythonhosted.org/packages/f7/c5/d2625858ffcc0b5a86557200224be9f1f22a71e5234563d218b6153fb635/scikit_image-0.16.2-cp37-cp37m-macosx_10_6_intel.whl (30.3MB)\n",
      "\u001b[K     |████████████████████████████████| 30.3MB 12.6MB/s eta 0:00:01     |█████████████████████████▋      | 24.2MB 12.6MB/s eta 0:00:01\n",
      "\u001b[?25hCollecting cvx (from toqito)\n",
      "  Downloading https://files.pythonhosted.org/packages/38/ab/e8363c69d4f1e0090d1b318f2d26baf3c7f1864ccfa71b868028bf4de766/cvx-0.1.3.tar.gz\n",
      "Requirement already satisfied: cvxpy in /Library/Frameworks/Python.framework/Versions/3.7/lib/python3.7/site-packages (from toqito) (1.0.28)\n",
      "Collecting picos (from toqito)\n",
      "\u001b[?25l  Downloading https://files.pythonhosted.org/packages/9f/c0/c01a8c688f09adb06ad4e7d907b02f2f0cb301a5c29f37b411730e2453ac/PICOS-2.0.0.tar.gz (236kB)\n",
      "\u001b[K     |████████████████████████████████| 245kB 12.0MB/s eta 0:00:01\n",
      "\u001b[?25hCollecting imageio>=2.3.0 (from scikit-image->toqito)\n",
      "\u001b[?25l  Downloading https://files.pythonhosted.org/packages/4c/2b/9dd19644f871b10f7e32eb2dbd6b45149c350b4d5f2893e091b882e03ab7/imageio-2.8.0-py3-none-any.whl (3.3MB)\n",
      "\u001b[K     |████████████████████████████████| 3.3MB 7.7MB/s eta 0:00:01\n",
      "\u001b[?25hCollecting PyWavelets>=0.4.0 (from scikit-image->toqito)\n",
      "\u001b[?25l  Downloading https://files.pythonhosted.org/packages/61/e7/b35d14bf5416e771764dd6e35b522cb2c02de02cdac493e509751b0be18f/PyWavelets-1.1.1-cp37-cp37m-macosx_10_9_x86_64.whl (4.3MB)\n",
      "\u001b[K     |████████████████████████████████| 4.3MB 20.8MB/s eta 0:00:01\n",
      "\u001b[?25hRequirement already satisfied: matplotlib!=3.0.0,>=2.0.0 in /Library/Frameworks/Python.framework/Versions/3.7/lib/python3.7/site-packages (from scikit-image->toqito) (3.1.0)\n",
      "Requirement already satisfied: pillow>=4.3.0 in /Library/Frameworks/Python.framework/Versions/3.7/lib/python3.7/site-packages (from scikit-image->toqito) (6.1.0)\n",
      "Collecting networkx>=2.0 (from scikit-image->toqito)\n",
      "\u001b[?25l  Downloading https://files.pythonhosted.org/packages/41/8f/dd6a8e85946def36e4f2c69c84219af0fa5e832b018c970e92f2ad337e45/networkx-2.4-py3-none-any.whl (1.6MB)\n",
      "\u001b[K     |████████████████████████████████| 1.6MB 15.9MB/s eta 0:00:01\n",
      "\u001b[?25hRequirement already satisfied: scs>=1.1.3 in /Library/Frameworks/Python.framework/Versions/3.7/lib/python3.7/site-packages (from cvxpy->toqito) (2.1.2)\n",
      "Requirement already satisfied: ecos>=2 in /Library/Frameworks/Python.framework/Versions/3.7/lib/python3.7/site-packages (from cvxpy->toqito) (2.0.7.post1)\n",
      "Requirement already satisfied: osqp>=0.4.1 in /Library/Frameworks/Python.framework/Versions/3.7/lib/python3.7/site-packages (from cvxpy->toqito) (0.6.1)\n",
      "Requirement already satisfied: multiprocess in /Library/Frameworks/Python.framework/Versions/3.7/lib/python3.7/site-packages (from cvxpy->toqito) (0.70.9)\n",
      "Collecting CVXOPT>=1.1.4 (from picos->toqito)\n",
      "\u001b[?25l  Downloading https://files.pythonhosted.org/packages/26/65/0e1cc1ab985612ddc9990cfa581b65d5e754a986a0f7638f939abfa6ded3/cvxopt-1.2.4-cp37-cp37m-macosx_10_9_x86_64.whl (3.1MB)\n",
      "\u001b[K     |████████████████████████████████| 3.1MB 7.0MB/s eta 0:00:01\n",
      "\u001b[?25hRequirement already satisfied: python-dateutil>=2.1 in /Library/Frameworks/Python.framework/Versions/3.7/lib/python3.7/site-packages (from matplotlib!=3.0.0,>=2.0.0->scikit-image->toqito) (2.8.0)\n",
      "Requirement already satisfied: kiwisolver>=1.0.1 in /Library/Frameworks/Python.framework/Versions/3.7/lib/python3.7/site-packages (from matplotlib!=3.0.0,>=2.0.0->scikit-image->toqito) (1.1.0)\n",
      "Requirement already satisfied: cycler>=0.10 in /Library/Frameworks/Python.framework/Versions/3.7/lib/python3.7/site-packages (from matplotlib!=3.0.0,>=2.0.0->scikit-image->toqito) (0.10.0)\n",
      "Requirement already satisfied: pyparsing!=2.0.4,!=2.1.2,!=2.1.6,>=2.0.1 in /Library/Frameworks/Python.framework/Versions/3.7/lib/python3.7/site-packages (from matplotlib!=3.0.0,>=2.0.0->scikit-image->toqito) (2.4.0)\n",
      "Requirement already satisfied: decorator>=4.3.0 in /Library/Frameworks/Python.framework/Versions/3.7/lib/python3.7/site-packages (from networkx>=2.0->scikit-image->toqito) (4.4.0)\n",
      "Requirement already satisfied: future in /Library/Frameworks/Python.framework/Versions/3.7/lib/python3.7/site-packages (from osqp>=0.4.1->cvxpy->toqito) (0.18.2)\n",
      "Requirement already satisfied: dill>=0.3.1 in /Library/Frameworks/Python.framework/Versions/3.7/lib/python3.7/site-packages (from multiprocess->cvxpy->toqito) (0.3.1.1)\n",
      "Requirement already satisfied: six>=1.5 in /Library/Frameworks/Python.framework/Versions/3.7/lib/python3.7/site-packages (from python-dateutil>=2.1->matplotlib!=3.0.0,>=2.0.0->scikit-image->toqito) (1.12.0)\n",
      "Requirement already satisfied: setuptools in /Library/Frameworks/Python.framework/Versions/3.7/lib/python3.7/site-packages (from kiwisolver>=1.0.1->matplotlib!=3.0.0,>=2.0.0->scikit-image->toqito) (41.2.0)\n",
      "Building wheels for collected packages: cvx, picos\n",
      "  Building wheel for cvx (setup.py) ... \u001b[?25ldone\n",
      "\u001b[?25h  Created wheel for cvx: filename=cvx-0.1.3-cp37-none-any.whl size=3103 sha256=403317b6fc53f4b6392459e4fb95fa9cfb906a4c73cd8be0bfc32badaca5d3aa\n",
      "  Stored in directory: /Users/vincent.russo/Library/Caches/pip/wheels/a6/4e/e3/a3990e5666a46ec60a27e9521b72631be12838fd6550864d05\n",
      "  Building wheel for picos (setup.py) ... \u001b[?25ldone\n",
      "\u001b[?25h  Created wheel for picos: filename=PICOS-2.0.0-cp37-none-any.whl size=321001 sha256=88ba41c22e7be0c58fb01e5f594f19054b6b6a4279a4eac322eb19b16ccc30fa\n",
      "  Stored in directory: /Users/vincent.russo/Library/Caches/pip/wheels/7f/10/9d/5f48f7a7c060b8c80f3dc0e0c534f23ac350f61cc8dd398e3e\n",
      "Successfully built cvx picos\n",
      "Installing collected packages: imageio, PyWavelets, networkx, scikit-image, cvx, CVXOPT, picos, toqito\n",
      "Successfully installed CVXOPT-1.2.4 PyWavelets-1.1.1 cvx-0.1.3 imageio-2.8.0 networkx-2.4 picos-2.0.0 scikit-image-0.16.2 toqito-0.0.1\n",
      "Note: you may need to restart the kernel to use updated packages.\n"
     ]
    }
   ],
   "source": [
    "pip install toqito"
   ]
  },
  {
   "cell_type": "code",
   "execution_count": 5,
   "metadata": {},
   "outputs": [
    {
     "name": "stdout",
     "output_type": "stream",
     "text": [
      "0.8535533840915608\n"
     ]
    }
   ],
   "source": [
    "from toqito.nonlocal_games.two_player_quantum_lower_bound import two_player_quantum_lower_bound\n",
    "import numpy as np\n",
    "dim = 2\n",
    "num_alice_inputs, num_alice_outputs = 2, 2\n",
    "num_bob_inputs, num_bob_outputs = 2, 2\n",
    "prob_mat = np.array([[1 / 4, 1 / 4], [1 / 4, 1 / 4]])\n",
    "pred_mat = np.zeros(\n",
    "    (num_alice_outputs, num_bob_outputs, num_alice_inputs, num_bob_inputs)\n",
    ")\n",
    "\n",
    "for a_alice in range(num_alice_outputs):\n",
    "    for b_bob in range(num_bob_outputs):\n",
    "        for x_alice in range(num_alice_inputs):\n",
    "            for y_bob in range(num_bob_inputs):\n",
    "                if np.mod(a_alice + b_bob + x_alice * y_bob, dim) == 0:\n",
    "                    pred_mat[a_alice, b_bob, x_alice, y_bob] = 1\n",
    "\n",
    "lower_bound = two_player_quantum_lower_bound(dim, prob_mat, pred_mat)\n",
    "print(lower_bound)\n",
    "#self.assertEqual(\n",
    "#    np.isclose(lower_bound, np.cos(np.pi / 8) ** 2, rtol=1e-02), True\n",
    "#)"
   ]
  },
  {
   "cell_type": "code",
   "execution_count": 11,
   "metadata": {},
   "outputs": [
    {
     "data": {
      "text/plain": [
       "'1.0.28'"
      ]
     },
     "execution_count": 11,
     "metadata": {},
     "output_type": "execute_result"
    }
   ],
   "source": [
    "cvxpy.__version__"
   ]
  },
  {
   "cell_type": "code",
   "execution_count": 20,
   "metadata": {},
   "outputs": [
    {
     "name": "stdout",
     "output_type": "stream",
     "text": [
      "Obtaining cvxpy from git+git://github.com/cvxgrp/cvxpy.git@master#egg=cvxpy\n",
      "  Cloning git://github.com/cvxgrp/cvxpy.git (to revision master) to ./src/cvxpy\n",
      "  Running command git clone -q git://github.com/cvxgrp/cvxpy.git /Users/vincent.russo/Desktop/toqito/docs/notebooks/nonlocal_games/nonlocal_games/src/cvxpy\n",
      "  Installing build dependencies ... \u001b[?25lerror\n",
      "\u001b[31m  ERROR: Command errored out with exit status 1:\n",
      "   command: /Library/Frameworks/Python.framework/Versions/3.7/bin/python3.7 /Library/Frameworks/Python.framework/Versions/3.7/lib/python3.7/site-packages/pip install --ignore-installed --no-user --prefix /private/var/folders/pn/8cj1p7rj2yd2fq36_5mjs67rtn1k46/T/pip-build-env-p1idvhtd/overlay --no-warn-script-location --no-binary :none: --only-binary :none: -i https://pypi.org/simple -- 'numpy >= 1.15' 'scipy >= 1.1.0' 'setuptools>=40.8.0' wheel\n",
      "       cwd: None\n",
      "  Complete output (51 lines):\n",
      "  Traceback (most recent call last):\n",
      "    File \"/Library/Frameworks/Python.framework/Versions/3.7/lib/python3.7/hashlib.py\", line 121, in __get_openssl_constructor\n",
      "      f = getattr(_hashlib, 'openssl_' + name)\n",
      "  AttributeError: module '_hashlib' has no attribute 'openssl_sha3_224'\n",
      "  \n",
      "  During handling of the above exception, another exception occurred:\n",
      "  \n",
      "  Traceback (most recent call last):\n",
      "    File \"/Library/Frameworks/Python.framework/Versions/3.7/lib/python3.7/runpy.py\", line 193, in _run_module_as_main\n",
      "      \"__main__\", mod_spec)\n",
      "    File \"/Library/Frameworks/Python.framework/Versions/3.7/lib/python3.7/runpy.py\", line 85, in _run_code\n",
      "      exec(code, run_globals)\n",
      "    File \"/Library/Frameworks/Python.framework/Versions/3.7/lib/python3.7/site-packages/pip/__main__.py\", line 16, in <module>\n",
      "      from pip._internal import main as _main  # isort:skip # noqa\n",
      "    File \"/Library/Frameworks/Python.framework/Versions/3.7/lib/python3.7/site-packages/pip/_internal/__init__.py\", line 19, in <module>\n",
      "      from pip._vendor.urllib3.exceptions import DependencyWarning\n",
      "    File \"/Library/Frameworks/Python.framework/Versions/3.7/lib/python3.7/site-packages/pip/_vendor/urllib3/__init__.py\", line 7, in <module>\n",
      "      from .connectionpool import (\n",
      "    File \"/Library/Frameworks/Python.framework/Versions/3.7/lib/python3.7/site-packages/pip/_vendor/urllib3/connectionpool.py\", line 11, in <module>\n",
      "      from .exceptions import (\n",
      "    File \"/Library/Frameworks/Python.framework/Versions/3.7/lib/python3.7/site-packages/pip/_vendor/urllib3/exceptions.py\", line 2, in <module>\n",
      "      from .packages.six.moves.http_client import (\n",
      "    File \"<frozen importlib._bootstrap>\", line 983, in _find_and_load\n",
      "    File \"<frozen importlib._bootstrap>\", line 967, in _find_and_load_unlocked\n",
      "    File \"<frozen importlib._bootstrap>\", line 668, in _load_unlocked\n",
      "    File \"<frozen importlib._bootstrap>\", line 638, in _load_backward_compatible\n",
      "    File \"/Library/Frameworks/Python.framework/Versions/3.7/lib/python3.7/site-packages/pip/_vendor/urllib3/packages/six.py\", line 203, in load_module\n",
      "      mod = mod._resolve()\n",
      "    File \"/Library/Frameworks/Python.framework/Versions/3.7/lib/python3.7/site-packages/pip/_vendor/urllib3/packages/six.py\", line 115, in _resolve\n",
      "      return _import_module(self.mod)\n",
      "    File \"/Library/Frameworks/Python.framework/Versions/3.7/lib/python3.7/site-packages/pip/_vendor/urllib3/packages/six.py\", line 82, in _import_module\n",
      "      __import__(name)\n",
      "    File \"/Library/Frameworks/Python.framework/Versions/3.7/lib/python3.7/http/client.py\", line 71, in <module>\n",
      "      import email.parser\n",
      "    File \"/Library/Frameworks/Python.framework/Versions/3.7/lib/python3.7/email/parser.py\", line 12, in <module>\n",
      "      from email.feedparser import FeedParser, BytesFeedParser\n",
      "    File \"/Library/Frameworks/Python.framework/Versions/3.7/lib/python3.7/email/feedparser.py\", line 27, in <module>\n",
      "      from email._policybase import compat32\n",
      "    File \"/Library/Frameworks/Python.framework/Versions/3.7/lib/python3.7/email/_policybase.py\", line 9, in <module>\n",
      "      from email.utils import _has_surrogates\n",
      "    File \"/Library/Frameworks/Python.framework/Versions/3.7/lib/python3.7/email/utils.py\", line 28, in <module>\n",
      "      import random\n",
      "    File \"/Library/Frameworks/Python.framework/Versions/3.7/lib/python3.7/random.py\", line 46, in <module>\n",
      "      from hashlib import sha512 as _sha512\n",
      "    File \"/Library/Frameworks/Python.framework/Versions/3.7/lib/python3.7/hashlib.py\", line 244, in <module>\n",
      "      globals()[__func_name] = __get_hash(__func_name)\n",
      "    File \"/Library/Frameworks/Python.framework/Versions/3.7/lib/python3.7/hashlib.py\", line 128, in __get_openssl_constructor\n",
      "      return __get_builtin_constructor(name)\n",
      "    File \"/Library/Frameworks/Python.framework/Versions/3.7/lib/python3.7/hashlib.py\", line 100, in __get_builtin_constructor\n",
      "      cache['sha3_224'] = _sha3.sha3_224\n",
      "  AttributeError: module '_sha3' has no attribute 'sha3_224'\n",
      "  ----------------------------------------\u001b[0m\n",
      "\u001b[31mERROR: Command errored out with exit status 1: /Library/Frameworks/Python.framework/Versions/3.7/bin/python3.7 /Library/Frameworks/Python.framework/Versions/3.7/lib/python3.7/site-packages/pip install --ignore-installed --no-user --prefix /private/var/folders/pn/8cj1p7rj2yd2fq36_5mjs67rtn1k46/T/pip-build-env-p1idvhtd/overlay --no-warn-script-location --no-binary :none: --only-binary :none: -i https://pypi.org/simple -- 'numpy >= 1.15' 'scipy >= 1.1.0' 'setuptools>=40.8.0' wheel Check the logs for full command output.\u001b[0m\n",
      "\u001b[?25hNote: you may need to restart the kernel to use updated packages.\n"
     ]
    }
   ],
   "source": [
    "pip install -e git://github.com/cvxgrp/cvxpy.git@master#egg=cvxpy\n"
   ]
  },
  {
   "cell_type": "code",
   "execution_count": null,
   "metadata": {},
   "outputs": [],
   "source": []
  }
 ],
 "metadata": {
  "kernelspec": {
   "display_name": "Python 3",
   "language": "python",
   "name": "python3"
  },
  "language_info": {
   "codemirror_mode": {
    "name": "ipython",
    "version": 3
   },
   "file_extension": ".py",
   "mimetype": "text/x-python",
   "name": "python",
   "nbconvert_exporter": "python",
   "pygments_lexer": "ipython3",
   "version": "3.7.6"
  }
 },
 "nbformat": 4,
 "nbformat_minor": 2
}
