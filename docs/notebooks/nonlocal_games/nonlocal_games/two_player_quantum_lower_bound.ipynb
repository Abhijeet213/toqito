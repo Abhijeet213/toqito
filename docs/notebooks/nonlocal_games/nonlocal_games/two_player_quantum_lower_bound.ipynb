{
 "cells": [
  {
   "cell_type": "markdown",
   "metadata": {},
   "source": [
    "# Two Player Quantum Lower Bound"
   ]
  },
  {
   "cell_type": "markdown",
   "metadata": {},
   "source": [
    "### Description:\n",
    "Compute a lower bound on the quantum value of a nonlocal game.\n",
    "\n",
    "Calculates a lower bound on the maximum value that the specified nonlocal\n",
    "game can take on in quantum mechanical settings where Alice and Bob each\n",
    "have access to a d-dimensional quantum system.\n",
    "\n",
    "This approach works by starting with a randomly-generated POVM for Bob, and\n",
    "then optimizing Alice's POVM and the shared entangled state. Then Alice's\n",
    "POVM and the entangled state are fixed, and Bob's POVM is optimized. And so\n",
    "on, back and forth between Alice and Bob until convergence is reached.\n",
    "\n",
    "Note that the algorithm is not guaranteed to obtain the optimal local bound\n",
    "and can get stuck in local minimum values. The alleviate this, it is run\n",
    "more than once to run the algorithm some pre-specified number of\n",
    "times and keep the highest value obtained.\n",
    "\n",
    "### Explanation:\n",
    "The algorithm is based on the alternating projections algorithm as it can\n",
    "be applied to Bell inequalities as shown in [1].\n",
    "\n",
    "The alternating projection algorithm has also been referred to as the \n",
    "\"see-saw\" algorithm as it goes back and forth between the following two \n",
    "semidefinite programs:\n",
    "\n",
    "$$\n",
    "\\textbf{SDP-1:} \\qquad\n",
    "\\begin{align*}\n",
    "                \\text{maximize:} \\quad & \\sum_{(x,y \\in \\Sigma)} \\pi(x,y)\n",
    "                                         \\sum_{(a,b) \\in \\Gamma}\n",
    "                                         V(a,b|x,y)\n",
    "                                         \\langle B_b^y, A_a^x \\rangle \\\\\n",
    "                \\text{subject to:} \\quad & \\sum_{a \\in \\Gamma_{\\mathsf{A}}} =\n",
    "                                           \\tau, \\qquad \\qquad\n",
    "                                           \\forall x \\in \\Sigma_{\\mathsf{A}}, \\\\\n",
    "                                   \\quad & A_a^x \\in \\text{Pos}(\\mathcal{A}),\n",
    "                                           \\qquad\n",
    "                                           \\forall x \\in \\Sigma_{\\mathsf{A}}, \\\n",
    "                                           \\forall a \\in \\Gamma_{\\mathsf{A}}, \\\\\n",
    "                                           & \\tau \\in \\text{D}(\\mathcal{A}).\n",
    "\\end{align*}\n",
    "$$\n",
    "\n",
    "$$\n",
    "\\textbf{SDP-2:} \\qquad\n",
    "\\begin{align*}\n",
    "                \\text{maximize:} \\quad & \\sum_{(x,y \\in \\Sigma)} \\pi(x,y)\n",
    "                                         \\sum_{(a,b) \\in \\Gamma} V(a,b|x,y)\n",
    "                                         \\langle B_b^y, A_a^x \\rangle \\\\\n",
    "                \\text{subject to:} \\quad & \\sum_{b \\in \\Gamma_{\\mathsf{B}}} =\n",
    "                                           \\mathbb{I}, \\qquad \\qquad\n",
    "                                           \\forall y \\in \\Sigma_{\\mathsf{B}}, \\\\\n",
    "                                   \\quad & B_b^y \\in \\text{Pos}(\\mathcal{B}),\n",
    "                                   \\qquad \\forall y \\in \\Sigma_{\\mathsf{B}}, \\\n",
    "                                   \\forall b \\in \\Gamma_{\\mathsf{B}}.\n",
    "\\end{align*}\n",
    "$$\n",
    "\n",
    "\n"
   ]
  },
  {
   "cell_type": "code",
   "execution_count": 10,
   "metadata": {},
   "outputs": [],
   "source": [
    "import cvxpy\n",
    "import numpy as np\n",
    "import os\n",
    "import sys\n",
    "module_path = os.path.abspath(os.path.join(\"..\", \"..\", \"..\", \"..\"))\n",
    "if module_path not in sys.path:\n",
    "    sys.path.append(module_path)\n",
    "from toqito.nonlocal_games.two_player_quantum_lower_bound import two_player_quantum_lower_bound"
   ]
  },
  {
   "cell_type": "code",
   "execution_count": 11,
   "metadata": {},
   "outputs": [
    {
     "name": "stdout",
     "output_type": "stream",
     "text": [
      "1.0.28\n"
     ]
    }
   ],
   "source": [
    "dim = 2\n",
    "num_alice_inputs, num_alice_outputs = 2, 2\n",
    "num_bob_inputs, num_bob_outputs = 2, 2\n",
    "prob_mat = np.array([[1 / 4, 1 / 4], [1 / 4, 1 / 4]])\n",
    "pred_mat = np.zeros(\n",
    "    (num_alice_outputs, num_bob_outputs, num_alice_inputs, num_bob_inputs)\n",
    ")\n",
    "\n",
    "for a_alice in range(num_alice_outputs):\n",
    "    for b_bob in range(num_bob_outputs):\n",
    "        for x_alice in range(num_alice_inputs):\n",
    "            for y_bob in range(num_bob_inputs):\n",
    "                if np.mod(a_alice + b_bob + x_alice * y_bob, dim) == 0:\n",
    "                    pred_mat[a_alice, b_bob, x_alice, y_bob] = 1\n",
    "\n",
    "print(cvxpy.__version__)\n",
    "#lower_bound = two_player_quantum_lower_bound(dim, prob_mat, pred_mat)\n",
    "#self.assertEqual(\n",
    "#    np.isclose(lower_bound, np.cos(np.pi / 8) ** 2, rtol=1e-02), True\n",
    "#)"
   ]
  },
  {
   "cell_type": "code",
   "execution_count": 14,
   "metadata": {},
   "outputs": [
    {
     "name": "stdout",
     "output_type": "stream",
     "text": [
      "Requirement already up-to-date: cvxpy in /Library/Frameworks/Python.framework/Versions/3.7/lib/python3.7/site-packages (1.0.28)\n",
      "Requirement already satisfied, skipping upgrade: scs>=1.1.3 in /Library/Frameworks/Python.framework/Versions/3.7/lib/python3.7/site-packages (from cvxpy) (2.1.2)\n",
      "Requirement already satisfied, skipping upgrade: numpy>=1.15 in /Library/Frameworks/Python.framework/Versions/3.7/lib/python3.7/site-packages (from cvxpy) (1.18.0)\n",
      "Requirement already satisfied, skipping upgrade: scipy>=1.1.0 in /Library/Frameworks/Python.framework/Versions/3.7/lib/python3.7/site-packages (from cvxpy) (1.4.1)\n",
      "Requirement already satisfied, skipping upgrade: ecos>=2 in /Library/Frameworks/Python.framework/Versions/3.7/lib/python3.7/site-packages (from cvxpy) (2.0.7.post1)\n",
      "Requirement already satisfied, skipping upgrade: multiprocess in /Library/Frameworks/Python.framework/Versions/3.7/lib/python3.7/site-packages (from cvxpy) (0.70.9)\n",
      "Requirement already satisfied, skipping upgrade: osqp>=0.4.1 in /Library/Frameworks/Python.framework/Versions/3.7/lib/python3.7/site-packages (from cvxpy) (0.6.1)\n",
      "Requirement already satisfied, skipping upgrade: dill>=0.3.1 in /Library/Frameworks/Python.framework/Versions/3.7/lib/python3.7/site-packages (from multiprocess->cvxpy) (0.3.1.1)\n",
      "Requirement already satisfied, skipping upgrade: future in /Library/Frameworks/Python.framework/Versions/3.7/lib/python3.7/site-packages (from osqp>=0.4.1->cvxpy) (0.18.2)\n",
      "Note: you may need to restart the kernel to use updated packages.\n"
     ]
    }
   ],
   "source": [
    "pip install --upgrade cvxpy"
   ]
  },
  {
   "cell_type": "code",
   "execution_count": null,
   "metadata": {},
   "outputs": [],
   "source": []
  }
 ],
 "metadata": {
  "kernelspec": {
   "display_name": "Python 3",
   "language": "python",
   "name": "python3"
  },
  "language_info": {
   "codemirror_mode": {
    "name": "ipython",
    "version": 3
   },
   "file_extension": ".py",
   "mimetype": "text/x-python",
   "name": "python",
   "nbconvert_exporter": "python",
   "pygments_lexer": "ipython3",
   "version": "3.7.6"
  }
 },
 "nbformat": 4,
 "nbformat_minor": 2
}
