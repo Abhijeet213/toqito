{
 "cells": [
  {
   "cell_type": "markdown",
   "metadata": {},
   "source": [
    "# XOR game value"
   ]
  },
  {
   "cell_type": "markdown",
   "metadata": {},
   "source": [
    "Compute the classical or quantum value of a two-player nonlocal XOR game.\n",
    "\n",
    "Calculates the optimal probability that Alice and Bob win the game if they are allowed to determine a join strategy beforehand, but not allowed to communicate during the game itself."
   ]
  },
  {
   "cell_type": "markdown",
   "metadata": {},
   "source": [
    "## Examples"
   ]
  },
  {
   "cell_type": "code",
   "execution_count": 6,
   "metadata": {},
   "outputs": [],
   "source": [
    "import numpy as np\n",
    "from toqito.nonlocal_games.xor_games.xor_game_value import xor_game_value"
   ]
  },
  {
   "cell_type": "markdown",
   "metadata": {},
   "source": [
    "### The CHSH game"
   ]
  },
  {
   "cell_type": "markdown",
   "metadata": {},
   "source": [
    "The CHSH game is a two-player nonlocal game with the following probability distribution and question and answer sets.\n",
    "\n",
    "$$\n",
    "\\begin{equation} \n",
    "\\begin{aligned} \\pi(x,y) = \\frac{1}{4}, \\qquad (x,y) \\in \\Sigma_A \\times \\Sigma_B, \\qquad \\text{and} \\qquad (a, b) \\in \\Gamma_A \\times \\Gamma_B, \n",
    "\\end{aligned} \n",
    "\\end{equation}\n",
    "$$\n",
    "\n",
    "where\n",
    "\n",
    "$$\n",
    "\\begin{equation} \n",
    "\\Sigma_A = \\{0, 1\\}, \\quad \\Sigma_B = \\{0, 1\\}, \\quad \\Gamma_A = \\{0,1\\}, \\quad \\text{and} \\quad \\Gamma_B = \\{0, 1\\}. \n",
    "\\end{equation}\n",
    "$$\n",
    "\n",
    "Alice and Bob win the CHSH game if and only if the following equation is satisfied\n",
    "\n",
    "$$\n",
    "\\begin{equation} \n",
    "a \\oplus b = x \\land y. \n",
    "\\end{equation}\n",
    "$$\n",
    "\n",
    "Recall that $\\oplus$ refers to the XOR operation.\n",
    "\n",
    "The optimal quantum value of CHSH is $\\cos(\\pi/8)^2 \\approx 0.8536$ where the optimal classical value is $3/4$. \n",
    "\n",
    "In order to specify the CHSH game, we can define the probability matrix and predicate matrix for the CHSH game as `numpy` arrays as follows."
   ]
  },
  {
   "cell_type": "code",
   "execution_count": 7,
   "metadata": {},
   "outputs": [],
   "source": [
    "prob_mat = np.array([[1 / 4, 1 / 4], [1 / 4, 1 / 4]])\n",
    "pred_mat = np.array([[0, 0], [0, 1]])"
   ]
  },
  {
   "cell_type": "markdown",
   "metadata": {},
   "source": [
    "In `toqito`, we can calculate both the quantum value of the CHSH game as follows."
   ]
  },
  {
   "cell_type": "code",
   "execution_count": 8,
   "metadata": {},
   "outputs": [
    {
     "data": {
      "text/plain": [
       "0.8535533885683664"
      ]
     },
     "execution_count": 8,
     "metadata": {},
     "output_type": "execute_result"
    }
   ],
   "source": [
    "\"\"\"Quantum value for the CHSH game.\"\"\"\n",
    "xor_game_value(prob_mat, pred_mat, \"quantum\")"
   ]
  },
  {
   "cell_type": "markdown",
   "metadata": {},
   "source": [
    "We can also calculate the classical value of the CHSH game as follows."
   ]
  },
  {
   "cell_type": "code",
   "execution_count": 5,
   "metadata": {},
   "outputs": [
    {
     "data": {
      "text/plain": [
       "0.75"
      ]
     },
     "execution_count": 5,
     "metadata": {},
     "output_type": "execute_result"
    }
   ],
   "source": [
    "\"\"\"Classical value for the CHSH game.\"\"\"\n",
    "xor_game_value(prob_mat, pred_mat, \"classical\")"
   ]
  },
  {
   "cell_type": "markdown",
   "metadata": {},
   "source": [
    "### The odd cycle game"
   ]
  },
  {
   "cell_type": "markdown",
   "metadata": {},
   "source": [
    "The odd cycle game is another XOR game[2]. For this game, we can specify the probability and predicate matrices as follows."
   ]
  },
  {
   "cell_type": "code",
   "execution_count": 10,
   "metadata": {},
   "outputs": [],
   "source": [
    "prob_mat = np.array(\n",
    "    [\n",
    "        [0.1, 0.1, 0, 0, 0],\n",
    "        [0, 0.1, 0.1, 0, 0],\n",
    "        [0, 0, 0.1, 0.1, 0],\n",
    "        [0, 0, 0, 0.1, 0.1],\n",
    "        [0.1, 0, 0, 0, 0.1],\n",
    "    ]\n",
    ")\n",
    "\n",
    "pred_mat = np.array(\n",
    "    [\n",
    "        [0, 1, 0, 0, 0],\n",
    "        [0, 0, 1, 0, 0],\n",
    "        [0, 0, 0, 1, 0],\n",
    "        [0, 0, 0, 0, 1],\n",
    "        [1, 0, 0, 0, 0],\n",
    "    ]\n",
    ")"
   ]
  },
  {
   "cell_type": "markdown",
   "metadata": {},
   "source": [
    "In `toqito`, we can calculate both the quantum value of the odd cycle game as follows."
   ]
  },
  {
   "cell_type": "code",
   "execution_count": 11,
   "metadata": {},
   "outputs": [
    {
     "data": {
      "text/plain": [
       "0.9755282544736033"
      ]
     },
     "execution_count": 11,
     "metadata": {},
     "output_type": "execute_result"
    }
   ],
   "source": [
    "xor_game_value(prob_mat, pred_mat, \"quantum\")"
   ]
  },
  {
   "cell_type": "markdown",
   "metadata": {},
   "source": [
    "We can also compute the classical value of the odd cycle game as follows."
   ]
  },
  {
   "cell_type": "code",
   "execution_count": 12,
   "metadata": {},
   "outputs": [
    {
     "data": {
      "text/plain": [
       "0.9"
      ]
     },
     "execution_count": 12,
     "metadata": {},
     "output_type": "execute_result"
    }
   ],
   "source": [
    "xor_game_value(prob_mat, pred_mat, \"classical\")"
   ]
  },
  {
   "cell_type": "markdown",
   "metadata": {},
   "source": [
    "Note that, like the CHSH game, the odd cycle game is another example of an XOR game where the player, Alice and Bob do strictly better when they use a quantum strategy."
   ]
  },
  {
   "cell_type": "markdown",
   "metadata": {},
   "source": [
    "## References\n",
    "\n",
    "[1] Richard Cleve, William Slofstra, Falk Unger, Sarvagya Upadhyay        \n",
    "        \"Strong parallel repetition theorem for quantum XOR proof systems\",\n",
    "        https://arxiv.org/abs/quant-ph/0608146\n",
    "\n",
    "[2] Richard Cleve, Peter Hoyer, Ben Toner, John Watrous\n",
    "        \"Consequences and limits of nonlocal strategies.\"\n",
    "        Proceedings. 19th IEEE Annual Conference on Computational Complexity,\n",
    "        2004.. IEEE, 2004.\n",
    "        https://arxiv.org/abs/quant-ph/0404076"
   ]
  }
 ],
 "metadata": {
  "kernelspec": {
   "display_name": "Python 3",
   "language": "python",
   "name": "python3"
  },
  "language_info": {
   "codemirror_mode": {
    "name": "ipython",
    "version": 3
   },
   "file_extension": ".py",
   "mimetype": "text/x-python",
   "name": "python",
   "nbconvert_exporter": "python",
   "pygments_lexer": "ipython3",
   "version": "3.7.6"
  }
 },
 "nbformat": 4,
 "nbformat_minor": 2
}
