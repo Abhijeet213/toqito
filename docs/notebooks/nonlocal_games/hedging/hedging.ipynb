{
 "cells": [
  {
   "cell_type": "markdown",
   "metadata": {},
   "source": [
    "$$\n",
    "\\newcommand{\\ip}[2]{\\langle #1 , #2\\rangle}\n",
    "\\newcommand{\\setft}[1]{\\mathrm{#1}}\n",
    "\\newcommand{\\Density}{\\setft{D}}\n",
    "\\newcommand{\\Pos}{\\setft{Pos}}\n",
    "\\newcommand{\\Unitary}{\\setft{U}}\n",
    "\\newcommand{\\Herm}{\\setft{Herm}}\n",
    "\\newcommand{\\Lin}{\\setft{L}}\n",
    "\\newcommand{\\X}{\\mathcal{X}}\n",
    "\\newcommand{\\Y}{\\mathcal{Y}}\n",
    "\\newcommand{\\Z}{\\mathcal{Z}}\n",
    "\\newcommand{\\W}{\\mathcal{W}}\n",
    "\\newcommand{\\A}{\\mathcal{A}}\n",
    "\\newcommand{\\B}{\\mathcal{B}}\n",
    "\\newcommand{\\V}{\\mathcal{V}}\n",
    "\\newcommand{\\U}{\\mathcal{U}}\n",
    "\\newcommand{\\C}{\\mathcal{C}}\n",
    "\\newcommand{\\D}{\\mathcal{D}}\n",
    "\\newcommand{\\E}{\\mathcal{E}}\n",
    "\\newcommand{\\F}{\\mathcal{F}}\n",
    "\\newcommand{\\M}{\\mathcal{M}}\n",
    "\\newcommand{\\N}{\\mathcal{N}}\n",
    "\\newcommand{\\R}{\\mathcal{R}}\n",
    "\\newcommand{\\Q}{\\mathcal{Q}}\n",
    "\\renewcommand{\\P}{\\mathcal{P}}\n",
    "\\renewcommand{\\S}{\\mathcal{S}}\n",
    "\\newcommand{\\T}{\\mathcal{T}}\n",
    "\\newcommand{\\K}{\\mathcal{K}}\n",
    "\\renewcommand{\\L}{\\mathcal{L}}\n",
    "\\newcommand{\\tr}{\\operatorname{Tr}}\n",
    "\\newcommand{\\I}{\\mathbb{I}}\n",
    "$$\n",
    "\n",
    "\n"
   ]
  },
  {
   "cell_type": "markdown",
   "metadata": {},
   "source": [
    "## Hedging Value\n",
    "\n",
    "Calculate optimal winning probabilities for hedging scenarios.\n",
    "\n",
    "Calculate the maximal and minimal winning probabilities for quantum hedging to occur in certain two-party scenarios.\n",
    "\n",
    "### Maximal value for  outcome \"a\":\n",
    "The following pair of semidefinite programs compute the maximal probability for calculating outcome \"a\".\n",
    "\n",
    "$$\n",
    "\\textbf{Primal problem}:\n",
    "\\begin{align*}\n",
    "    \\text{maximize:} \\quad & \\langle Q_{a_1} \\otimes \\ldots \\otimes Q_{a_n}, X \\rangle \\\\\n",
    "    \\text{subject to:} \\quad & \\text{Tr}_{\\mathcal{Y}_1 \\otimes \\ldots \\otimes \\mathcal{Y}_n}(X) = \\mathbb{I}_{\\mathcal{X}_1 \\otimes \\ldots \\otimes \\mathcal{X}_n},\\\\\n",
    "    & X \\in \\text{Pos}(\\mathcal{Y}_1 \\otimes \\mathcal{X}_1 \\otimes \\ldots \\otimes \\mathcal{Y}_n \\otimes \\mathcal{X}_n)\n",
    "\\end{align*}\n",
    "$$\n",
    "\n",
    "$$\n",
    "\\textbf{Dual problem}:\n",
    "\\begin{align*}\n",
    "    \\text{minimize:} \\quad & \\text{Tr}(Y) \\\\\n",
    "    \\text{subject to:} \\quad & \\pi \\left(\\mathbb{I}_{\\mathcal{Y}_1 \\otimes \\ldots \\otimes \\mathcal{Y}_n} \\otimes Y \\right) \\pi^* \\geq Q_{a_1} \\otimes \\ldots \\otimes Q_{a_n},\\\\\n",
    "    & Y \\in \\text{Herm}(\\mathcal{X}_1 \\otimes \\ldots \\otimes \\mathcal{X}_n)\n",
    "\\end{align*}\n",
    "$$\n",
    "\n",
    "where $\\pi$ is the unitary operator defined by the action $\\pi(y_1 \\otimes \\ldots \\otimes y_n \\otimes x_1 \\otimes \\ldots \\otimes x_n) = y_1 \\otimes x_1 \\otimes \\ldots \\otimes y_n \\otimes x_n$ for all $x_1 \\in \\X_1, \\ldots, x_n \\in \\X_n$ and for all $y_1 \\in \\mathcal{Y}_1, \\ldots, y_n \\in \\mathcal{Y}_n$.\n",
    "\n",
    "### Minimal value for  outcome \"a\":\n",
    "The following pair of semidefinite programs compute the minimal probability for calculating outcome \"a\".\n",
    "\n",
    "$$\n",
    "\\textbf{Primal problem}:\n",
    "\\begin{align*}\n",
    "    \\text{minimize:} \\quad & \\langle Q_{a_1} \\otimes \\ldots \\otimes Q_{a_n}, X \\rangle \\\\\n",
    "    \\text{subject to:} \\quad & \\text{Tr}_{\\mathcal{Y}_1 \\otimes \\ldots \\otimes \\mathcal{Y}_n}(X) = \\mathbb{I}_{\\mathcal{X}_1 \\otimes \\ldots \\otimes \\mathcal{X}_n},\\\\\n",
    "    & X \\in \\text{Pos}(\\mathcal{Y}_1 \\otimes \\mathcal{X}_1 \\otimes \\ldots \\otimes \\mathcal{Y}_n \\otimes \\mathcal{X}_n)\n",
    "\\end{align*}\n",
    "$$\n",
    "\n",
    "$$\n",
    "\\textbf{Dual problem}:\n",
    "\\begin{align*}\n",
    "    \\text{maximize:} \\quad & \\text{Tr}(Y) \\\\\n",
    "    \\text{subject to:} \\quad & \\pi \\left( \\mathbb{I}_{\\mathcal{Y}_1 \\otimes \\ldots \\otimes \\mathcal{Y}_n} \\otimes Y \\right) \\pi^* \\leq Q_{a_1} \\otimes \\ldots \\otimes Q_{a_n},\\\\\n",
    "    & Y \\in \\text{Herm}(\\mathcal{X}_1 \\otimes \\ldots \\otimes \\mathcal{X}_n)\n",
    "\\end{align*}\n",
    "$$\n",
    "\n",
    "where $\\pi$ is the unitary operator defined by the action $\\pi(y_1 \\otimes \\ldots \\otimes y_n \\otimes x_1 \\otimes \\ldots \\otimes x_n) = y_1 \\otimes x_1 \\otimes \\ldots \\otimes y_n \\otimes x_n$ for all $x_1 \\in \\X_1, \\ldots, x_n \\in \\X_n$ and for all $y_1 \\in \\mathcal{Y}_1, \\ldots, y_n \\in \\mathcal{Y}_n$.\n"
   ]
  },
  {
   "cell_type": "markdown",
   "metadata": {},
   "source": [
    "## Examples"
   ]
  },
  {
   "cell_type": "code",
   "execution_count": 3,
   "metadata": {},
   "outputs": [],
   "source": [
    "from numpy import kron, cos, sin, pi, sqrt, isclose\n",
    "\n",
    "from toqito.core.ket import ket\n",
    "from toqito.nonlocal_games.hedging.hedging_value import HedgingValue"
   ]
  },
  {
   "cell_type": "markdown",
   "metadata": {},
   "source": [
    "### Hedging example"
   ]
  },
  {
   "cell_type": "markdown",
   "metadata": {},
   "source": [
    "This example illustrates the initial example of perfect hedging when Alice and Bob play two repetitions of the game where Alice prepares the maximally entangled state:\n",
    "\n",
    "$$\n",
    "    u = \\frac{1}{\\sqrt{2}}|00\\rangle + \\frac{1}{\\sqrt{2}}|11\\rangle,\n",
    "$$\n",
    "\n",
    "and Alice applies the measurement operator defined by vector\n",
    "\n",
    "$$\n",
    "    v = \\cos(\\pi/8)|00\\rangle + \\sin(\\pi/8)|11\\rangle.\n",
    "$$\n",
    "\n",
    "As was illustrated in [1], the hedging value of the above scenario is $\\cos(\\pi/8)^2 \\approx 0.8536$"
   ]
  },
  {
   "cell_type": "code",
   "execution_count": 17,
   "metadata": {},
   "outputs": [
    {
     "data": {
      "text/plain": [
       "0.853553390038077"
      ]
     },
     "execution_count": 17,
     "metadata": {},
     "output_type": "execute_result"
    }
   ],
   "source": [
    "e_0, e_1 = ket(2, 0), ket(2, 1)\n",
    "e_00, e_01 = kron(e_0, e_0), kron(e_0, e_1)\n",
    "e_10, e_11 = kron(e_1, e_0), kron(e_1, e_1)\n",
    "\n",
    "alpha = 1 / sqrt(2)\n",
    "theta = pi / 8\n",
    "\n",
    "w_var = alpha * cos(theta) * e_00 + sqrt(1 - alpha ** 2) * sin(theta) * e_11\n",
    "\n",
    "l_1 = -alpha * sin(theta) * e_00 + sqrt(1 - alpha ** 2) * cos(theta) * e_11\n",
    "l_2 = alpha * sin(theta) * e_10\n",
    "l_3 = sqrt(1 - alpha ** 2) * cos(theta) * e_01\n",
    "\n",
    "q_1 = w_var * w_var.conj().T\n",
    "q_0 = l_1 * l_1.conj().T + l_2 * l_2.conj().T + l_3 * l_3.conj().T\n",
    "\n",
    "hedging_value = HedgingValue(q_0, 1)\n",
    "\n",
    "# cos(pi/8)**2 \\approx 0.8536\n",
    "hedging_value.max_prob_outcome_a_primal()"
   ]
  },
  {
   "cell_type": "markdown",
   "metadata": {},
   "source": [
    "## References\n",
    "[1] Molina, Abel, and Watrous, John.\n",
    "        \"Hedging bets with correlated quantum strategies.\"\n",
    "        Proceedings of the Royal Society A:\n",
    "        Mathematical, Physical and Engineering Sciences\n",
    "        468.2145 (2012): 2614-2629.\n",
    "        https://arxiv.org/abs/1104.1140\n",
    "\n",
    "[2] Arunachalam, Srinivasan, Molina, Abel and Russo, Vincent.\n",
    "        \"Quantum hedging in two-round prover-verifier interactions.\"\n",
    "        arXiv preprint arXiv:1310.7954 (2013).\n",
    "        https://arxiv.org/pdf/1310.7954.pdf"
   ]
  }
 ],
 "metadata": {
  "kernelspec": {
   "display_name": "Python 3",
   "language": "python",
   "name": "python3"
  },
  "language_info": {
   "codemirror_mode": {
    "name": "ipython",
    "version": 3
   },
   "file_extension": ".py",
   "mimetype": "text/x-python",
   "name": "python",
   "nbconvert_exporter": "python",
   "pygments_lexer": "ipython3",
   "version": "3.7.6"
  }
 },
 "nbformat": 4,
 "nbformat_minor": 2
}
