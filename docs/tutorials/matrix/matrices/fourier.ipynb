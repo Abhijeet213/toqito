{
 "cells": [
  {
   "cell_type": "markdown",
   "metadata": {},
   "source": [
    "# Fourier matrix"
   ]
  },
  {
   "cell_type": "markdown",
   "metadata": {},
   "source": [
    "Generate the Fourier transform matrix.\n",
    "\n",
    "For a dimension $d$, the function generates the $d$-by-$d$-dimensional unitary matrix that implements the quantum Fourier transform.\n",
    "\n",
    "The Fourier matrix is defined as:\n",
    "\n",
    "$$\n",
    "    W = \\frac{1}{N}\n",
    "    \\begin{pmatrix}\n",
    "        1 & 1 & 1 & 1 & \\ldots & 1 \\\\\n",
    "        1 & \\omega & \\omega^2 & \\omega^3 & \\ldots & \\omega^{N-1} \\\\\n",
    "        1 & \\omega^2 & \\omega^4 & \\omega^6 & \\ldots & \\omega^{2(N-1)} \\\\\n",
    "        1 & \\omega^3 & \\omega^6 & \\omega^9 & \\ldots & \\omega^{3(N-1)} \\\\\n",
    "        \\vdots & \\vdots & \\vdots & \\vdots & \\ddots & \\vdots \\\\\n",
    "        1 & \\omega^{N-1} & \\omega^{2(N-1)} & \\omega^{3(N-1)} &\n",
    "        \\ldots & \\omega^{3(N-1)}\n",
    "    \\end{pmatrix}\n",
    "$$"
   ]
  },
  {
   "cell_type": "code",
   "execution_count": 8,
   "metadata": {},
   "outputs": [],
   "source": [
    "import os\n",
    "import sys\n",
    "module_path = os.path.abspath(os.path.join(\"..\", \"..\", \"..\", \"..\"))\n",
    "if module_path not in sys.path:\n",
    "    sys.path.append(module_path)\n",
    "from toqito.matrix.matrices.fourier import fourier"
   ]
  },
  {
   "cell_type": "markdown",
   "metadata": {},
   "source": [
    "## Fourier matrix with $d=3$"
   ]
  },
  {
   "cell_type": "markdown",
   "metadata": {},
   "source": [
    "### Fourier matrix of with $d = 3$\n",
    "\n",
    "The Fourier matrix generated from $d = 3$ yields the following matrix:\n",
    "\n",
    "$$\n",
    "\\frac{1}{3}\n",
    "\\begin{pmatrix}\n",
    "    1 & 1 & 1 \\\\\n",
    "    0 & \\omega & \\omega^2 \\\\\n",
    "    1 & \\omega^2 & \\omega^4\n",
    "\\end{pmatrix}\n",
    "$$"
   ]
  },
  {
   "cell_type": "code",
   "execution_count": 10,
   "metadata": {},
   "outputs": [
    {
     "data": {
      "text/plain": [
       "array([[ 0.57735027+0.j ,  0.57735027+0.j ,  0.57735027+0.j ],\n",
       "       [ 0.57735027+0.j , -0.28867513+0.5j, -0.28867513-0.5j],\n",
       "       [ 0.57735027+0.j , -0.28867513-0.5j, -0.28867513+0.5j]])"
      ]
     },
     "execution_count": 10,
     "metadata": {},
     "output_type": "execute_result"
    }
   ],
   "source": [
    "fourier(3)"
   ]
  },
  {
   "cell_type": "markdown",
   "metadata": {},
   "source": [
    "## References"
   ]
  },
  {
   "cell_type": "markdown",
   "metadata": {},
   "source": [
    "https://en.wikipedia.org/wiki/DFT_matrix"
   ]
  }
 ],
 "metadata": {
  "kernelspec": {
   "display_name": "Python 3",
   "language": "python",
   "name": "python3"
  },
  "language_info": {
   "codemirror_mode": {
    "name": "ipython",
    "version": 3
   },
   "file_extension": ".py",
   "mimetype": "text/x-python",
   "name": "python",
   "nbconvert_exporter": "python",
   "pygments_lexer": "ipython3",
   "version": "3.7.6"
  }
 },
 "nbformat": 4,
 "nbformat_minor": 2
}
