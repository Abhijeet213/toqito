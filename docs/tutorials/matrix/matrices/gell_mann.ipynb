{
 "cells": [
  {
   "cell_type": "markdown",
   "metadata": {},
   "source": [
    "# Gell Mann matrices"
   ]
  },
  {
   "cell_type": "markdown",
   "metadata": {},
   "source": [
    "Produce a Gell-Mann operator.\n",
    "\n",
    "Generates the 3-by-3 Gell-Mann matrix indicated by the value of `ind`. The index `ind = 0` gives the identity matrix, while values 1 through 8 each indicate one of the other 8 Gell-Mann matrices.\n",
    "\n",
    "The 9 Gell-Mann matrices are defined as follows:\n",
    "\n",
    "$$\n",
    "\\begin{equation}\n",
    "    \\begin{aligned}\n",
    "    \\lambda_0 = \\begin{pmatrix}\n",
    "                    1 & 0 & 0 \\\\\n",
    "                    0 & 1 & 0 \\\\\n",
    "                    0 & 0 & 1\n",
    "                \\end{pmatrix} & \\qquad\n",
    "    \\lambda_1 = \\begin{pmatrix}\n",
    "                    0 & 1 & 0 \\\\\n",
    "                    1 & 0 & 0 \\\\\n",
    "                    0 & 0 & 0\n",
    "                \\end{pmatrix} & \\quad  \n",
    "    \\lambda_2 = \\begin{pmatrix}\n",
    "                    0 & -i & 0 \\\\\n",
    "                    i & 0 & 0 \\\\\n",
    "                    0 & 0 & 0\n",
    "                \\end{pmatrix} & \\\\\n",
    "    \\lambda_3 = \\begin{pmatrix}\n",
    "                    1 & 0 & 0  \\\\\n",
    "                    0 & -1 & 0 \\\\\n",
    "                    0 & 0 & 0\n",
    "                \\end{pmatrix}& \\qquad\n",
    "    \\lambda_4 = \\begin{pmatrix}\n",
    "                    0 & 0 & 1 \\\\\n",
    "                    0 & 0 & 0 \\\\\n",
    "                    1 & 0 & 0\n",
    "                \\end{pmatrix} & \\quad  \n",
    "    \\lambda_5 = \\begin{pmatrix}\n",
    "                    0 & 0 & -i \\\\\n",
    "                    0 & 0 & 0 \\\\\n",
    "                    i & 0 & 0\n",
    "                \\end{pmatrix} & \\\\    \n",
    "    \\lambda_6 = \\begin{pmatrix}\n",
    "                    0 & 0 & 0 \\\\\n",
    "                    0 & 0 & 1 \\\\\n",
    "                    0 & 1 & 0\n",
    "                \\end{pmatrix} & \\quad  \n",
    "    \\lambda_7 = \\begin{pmatrix}\n",
    "                    0 & 0 & 0 \\\\\n",
    "                    0 & 0 & -i \\\\\n",
    "                    0 & i & 0\n",
    "                \\end{pmatrix} & \\quad  \n",
    "    \\lambda_8 = \\frac{1}{\\sqrt{3}} \\begin{pmatrix}\n",
    "                            1 & 0 & 0 \\\\\n",
    "                            0 & 1 & 0 \\\\\n",
    "                            0 & 0 & -2\n",
    "                          \\end{pmatrix} &                  \n",
    "    \\end{aligned}\n",
    "\\end{equation}\n",
    "$$"
   ]
  },
  {
   "cell_type": "markdown",
   "metadata": {},
   "source": [
    "## Examples"
   ]
  },
  {
   "cell_type": "code",
   "execution_count": 4,
   "metadata": {},
   "outputs": [],
   "source": [
    "import os\n",
    "import sys\n",
    "module_path = os.path.abspath(os.path.join(\"..\", \"..\", \"..\", \"..\"))\n",
    "if module_path not in sys.path:\n",
    "    sys.path.append(module_path)\n",
    "from toqito.matrix.matrices.gell_mann import gell_mann"
   ]
  },
  {
   "cell_type": "markdown",
   "metadata": {},
   "source": [
    "### The $\\lambda_2$ Gell-Mann operator\n",
    "\n",
    "The Gell-Mann matrix generated from $idx = 2$ yields the following matrix:\n",
    "\n",
    "$$\n",
    "\\lambda_2 = \\begin{pmatrix}\n",
    "                    0 & -i & 0 \\\\\n",
    "                    i & 0 & 0 \\\\\n",
    "                    0 & 0 & 0\n",
    "            \\end{pmatrix}\n",
    "$$"
   ]
  },
  {
   "cell_type": "code",
   "execution_count": 5,
   "metadata": {},
   "outputs": [
    {
     "data": {
      "text/plain": [
       "array([[ 0.+0.j, -0.-1.j,  0.+0.j],\n",
       "       [ 0.+1.j,  0.+0.j,  0.+0.j],\n",
       "       [ 0.+0.j,  0.+0.j,  0.+0.j]])"
      ]
     },
     "execution_count": 5,
     "metadata": {},
     "output_type": "execute_result"
    }
   ],
   "source": [
    "gell_mann(2)"
   ]
  },
  {
   "cell_type": "markdown",
   "metadata": {},
   "source": [
    "## References"
   ]
  },
  {
   "cell_type": "markdown",
   "metadata": {},
   "source": [
    "https://en.wikipedia.org/wiki/Gell-Mann_matrices"
   ]
  }
 ],
 "metadata": {
  "kernelspec": {
   "display_name": "Python 3",
   "language": "python",
   "name": "python3"
  },
  "language_info": {
   "codemirror_mode": {
    "name": "ipython",
    "version": 3
   },
   "file_extension": ".py",
   "mimetype": "text/x-python",
   "name": "python",
   "nbconvert_exporter": "python",
   "pygments_lexer": "ipython3",
   "version": "3.7.6"
  }
 },
 "nbformat": 4,
 "nbformat_minor": 2
}
