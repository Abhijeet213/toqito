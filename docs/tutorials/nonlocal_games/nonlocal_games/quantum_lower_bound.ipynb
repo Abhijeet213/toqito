{
 "cells": [
  {
   "cell_type": "markdown",
   "metadata": {},
   "source": [
    "$$\n",
    "\\newcommand{\\ip}[2]{\\langle #1 , #2\\rangle}\n",
    "\\newcommand{\\setft}[1]{\\mathrm{#1}}\n",
    "\\newcommand{\\Density}{\\setft{D}}\n",
    "\\newcommand{\\Pos}{\\setft{Pos}}\n",
    "\\newcommand{\\Unitary}{\\setft{U}}\n",
    "\\newcommand{\\Herm}{\\setft{Herm}}\n",
    "\\newcommand{\\Lin}{\\setft{L}}\n",
    "\\newcommand{\\X}{\\mathcal{X}}\n",
    "\\newcommand{\\Y}{\\mathcal{Y}}\n",
    "\\newcommand{\\Z}{\\mathcal{Z}}\n",
    "\\newcommand{\\W}{\\mathcal{W}}\n",
    "\\newcommand{\\A}{\\mathcal{A}}\n",
    "\\newcommand{\\B}{\\mathcal{B}}\n",
    "\\newcommand{\\V}{\\mathcal{V}}\n",
    "\\newcommand{\\U}{\\mathcal{U}}\n",
    "\\newcommand{\\C}{\\mathcal{C}}\n",
    "\\newcommand{\\D}{\\mathcal{D}}\n",
    "\\newcommand{\\E}{\\mathcal{E}}\n",
    "\\newcommand{\\F}{\\mathcal{F}}\n",
    "\\newcommand{\\M}{\\mathcal{M}}\n",
    "\\newcommand{\\N}{\\mathcal{N}}\n",
    "\\newcommand{\\R}{\\mathcal{R}}\n",
    "\\newcommand{\\Q}{\\mathcal{Q}}\n",
    "\\renewcommand{\\P}{\\mathcal{P}}\n",
    "\\renewcommand{\\S}{\\mathcal{S}}\n",
    "\\newcommand{\\T}{\\mathcal{T}}\n",
    "\\newcommand{\\K}{\\mathcal{K}}\n",
    "\\renewcommand{\\L}{\\mathcal{L}}\n",
    "\\newcommand{\\tr}{\\operatorname{Tr}}\n",
    "\\newcommand{\\reg}[1]{\\mathsf{#1}}\n",
    "\\def \\GammaA{\\Gamma_{\\reg{A}}}\n",
    "\\def \\GammaB{\\Gamma_{\\reg{B}}}\n",
    "\\def \\SigmaA{\\Sigma_{\\reg{A}}}\n",
    "\\def \\SigmaB{\\Sigma_{\\reg{B}}}\n",
    "\\def\\I{\\mathds{1}}\n",
    "$$\n"
   ]
  },
  {
   "cell_type": "markdown",
   "metadata": {},
   "source": [
    "# Quantum lower bound"
   ]
  },
  {
   "cell_type": "markdown",
   "metadata": {},
   "source": [
    "### Description:\n",
    "Compute a lower bound on the quantum value of a nonlocal game.\n",
    "\n",
    "Calculates a lower bound on the maximum value that the specified nonlocal\n",
    "game can take on in quantum mechanical settings where Alice and Bob each\n",
    "have access to a d-dimensional quantum system.\n",
    "\n",
    "This approach works by starting with a randomly-generated POVM for Bob, and\n",
    "then optimizing Alice's POVM and the shared entangled state. Then Alice's\n",
    "POVM and the entangled state are fixed, and Bob's POVM is optimized. And so\n",
    "on, back and forth between Alice and Bob until convergence is reached.\n",
    "\n",
    "Note that the algorithm is not guaranteed to obtain the optimal local bound\n",
    "and can get stuck in local minimum values. The alleviate this, it is run\n",
    "more than once to run the algorithm some pre-specified number of\n",
    "times and keep the highest value obtained.\n",
    "\n",
    "### Explanation:\n",
    "The algorithm is based on the alternating projections algorithm as it can\n",
    "be applied to Bell inequalities as shown in [1].\n",
    "\n",
    "The alternating projection algorithm has also been referred to as the \n",
    "\"see-saw\" algorithm as it goes back and forth between the following two \n",
    "semidefinite programs:\n",
    "\n",
    "$$\n",
    "\\textbf{SDP-1:} \\qquad\n",
    "\\begin{align*}\n",
    "    \\text{maximize:} \\quad & \\sum_{(x,y) \\in \\Sigma} \\pi(x,y) \\sum_{(a,b) \\in \\Gamma} V(a,b|x,y) \\ip{B_b^y}{A_a^x} \\\\\n",
    "    \\text{subject to:} \\quad & \\sum_{a \\in \\Gamma_{\\reg{A}}} = \\tau, \\quad \\forall x \\in \\Sigma_{\\reg{A}}\\\\\n",
    "    & A_a^x \\in \\Pos(\\A) \\quad \\forall x \\in \\Sigma_{\\reg{A}}, \\quad \\forall a \\in \\Gamma_{\\reg{A}} \\\\\n",
    "    & \\tau \\in \\Density(\\A)\n",
    "\\end{align*}\n",
    "$$\n",
    "\n",
    "$$\n",
    "\\textbf{SDP-2:} \\qquad\n",
    "\\begin{align*}\n",
    "    \\text{maximize:} \\quad & \\sum_{(x,y) \\in \\Sigma} \\pi(x,y) \\sum_{(a,b) \\in \\Gamma} V(a,b|x,y) \\ip{B_b^y}{A_a^x} \\\\\n",
    "    \\text{subject to:} \\quad & \\sum_{b \\in \\Gamma_{\\reg{B}}} = \\mathbb{I}_{\\B}, \\quad \\forall y \\in \\Sigma_{\\reg{B}}\\\\\n",
    "    & B_b^y \\in \\Pos(\\B) \\quad \\forall y \\in \\Sigma_{\\reg{B}}, \\quad \\forall b \\in \\Gamma_{\\reg{B}} \\\\\n",
    "\\end{align*}\n",
    "$$\n",
    "\n",
    "\n"
   ]
  },
  {
   "cell_type": "code",
   "execution_count": null,
   "metadata": {},
   "outputs": [],
   "source": []
  }
 ],
 "metadata": {
  "kernelspec": {
   "display_name": "Python 3",
   "language": "python",
   "name": "python3"
  },
  "language_info": {
   "codemirror_mode": {
    "name": "ipython",
    "version": 3
   },
   "file_extension": ".py",
   "mimetype": "text/x-python",
   "name": "python",
   "nbconvert_exporter": "python",
   "pygments_lexer": "ipython3",
   "version": "3.7.4"
  }
 },
 "nbformat": 4,
 "nbformat_minor": 2
}
